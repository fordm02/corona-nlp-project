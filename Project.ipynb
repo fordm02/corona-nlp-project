{
 "cells": [
  {
   "cell_type": "code",
   "execution_count": 116,
   "id": "a6220224",
   "metadata": {},
   "outputs": [],
   "source": [
    "import pandas as pd\n",
    "import time\n",
    "\n",
    "test = pd.read_csv(\"Corona_NLP_test.csv\")\n",
    "train = pd.read_csv(\"Corona_NLP_train.csv\",encoding='latin1')"
   ]
  },
  {
   "cell_type": "code",
   "execution_count": 9,
   "id": "93034860",
   "metadata": {},
   "outputs": [
    {
     "data": {
      "text/html": [
       "<div>\n",
       "<style scoped>\n",
       "    .dataframe tbody tr th:only-of-type {\n",
       "        vertical-align: middle;\n",
       "    }\n",
       "\n",
       "    .dataframe tbody tr th {\n",
       "        vertical-align: top;\n",
       "    }\n",
       "\n",
       "    .dataframe thead th {\n",
       "        text-align: right;\n",
       "    }\n",
       "</style>\n",
       "<table border=\"1\" class=\"dataframe\">\n",
       "  <thead>\n",
       "    <tr style=\"text-align: right;\">\n",
       "      <th></th>\n",
       "      <th>UserName</th>\n",
       "      <th>ScreenName</th>\n",
       "      <th>Location</th>\n",
       "      <th>TweetAt</th>\n",
       "      <th>OriginalTweet</th>\n",
       "      <th>Sentiment</th>\n",
       "    </tr>\n",
       "  </thead>\n",
       "  <tbody>\n",
       "    <tr>\n",
       "      <th>0</th>\n",
       "      <td>1</td>\n",
       "      <td>44953</td>\n",
       "      <td>NYC</td>\n",
       "      <td>02-03-2020</td>\n",
       "      <td>TRENDING: New Yorkers encounter empty supermar...</td>\n",
       "      <td>Extremely Negative</td>\n",
       "    </tr>\n",
       "    <tr>\n",
       "      <th>1</th>\n",
       "      <td>2</td>\n",
       "      <td>44954</td>\n",
       "      <td>Seattle, WA</td>\n",
       "      <td>02-03-2020</td>\n",
       "      <td>When I couldn't find hand sanitizer at Fred Me...</td>\n",
       "      <td>Positive</td>\n",
       "    </tr>\n",
       "    <tr>\n",
       "      <th>2</th>\n",
       "      <td>3</td>\n",
       "      <td>44955</td>\n",
       "      <td>NaN</td>\n",
       "      <td>02-03-2020</td>\n",
       "      <td>Find out how you can protect yourself and love...</td>\n",
       "      <td>Extremely Positive</td>\n",
       "    </tr>\n",
       "    <tr>\n",
       "      <th>3</th>\n",
       "      <td>4</td>\n",
       "      <td>44956</td>\n",
       "      <td>Chicagoland</td>\n",
       "      <td>02-03-2020</td>\n",
       "      <td>#Panic buying hits #NewYork City as anxious sh...</td>\n",
       "      <td>Negative</td>\n",
       "    </tr>\n",
       "    <tr>\n",
       "      <th>4</th>\n",
       "      <td>5</td>\n",
       "      <td>44957</td>\n",
       "      <td>Melbourne, Victoria</td>\n",
       "      <td>03-03-2020</td>\n",
       "      <td>#toiletpaper #dunnypaper #coronavirus #coronav...</td>\n",
       "      <td>Neutral</td>\n",
       "    </tr>\n",
       "    <tr>\n",
       "      <th>5</th>\n",
       "      <td>6</td>\n",
       "      <td>44958</td>\n",
       "      <td>Los Angeles</td>\n",
       "      <td>03-03-2020</td>\n",
       "      <td>Do you remember the last time you paid $2.99 a...</td>\n",
       "      <td>Neutral</td>\n",
       "    </tr>\n",
       "    <tr>\n",
       "      <th>6</th>\n",
       "      <td>7</td>\n",
       "      <td>44959</td>\n",
       "      <td>NaN</td>\n",
       "      <td>03-03-2020</td>\n",
       "      <td>Voting in the age of #coronavirus = hand sanit...</td>\n",
       "      <td>Positive</td>\n",
       "    </tr>\n",
       "    <tr>\n",
       "      <th>7</th>\n",
       "      <td>8</td>\n",
       "      <td>44960</td>\n",
       "      <td>Geneva, Switzerland</td>\n",
       "      <td>03-03-2020</td>\n",
       "      <td>@DrTedros \"We cant stop #COVID19 without prot...</td>\n",
       "      <td>Neutral</td>\n",
       "    </tr>\n",
       "    <tr>\n",
       "      <th>8</th>\n",
       "      <td>9</td>\n",
       "      <td>44961</td>\n",
       "      <td>NaN</td>\n",
       "      <td>04-03-2020</td>\n",
       "      <td>HI TWITTER! I am a pharmacist. I sell hand san...</td>\n",
       "      <td>Extremely Negative</td>\n",
       "    </tr>\n",
       "    <tr>\n",
       "      <th>9</th>\n",
       "      <td>10</td>\n",
       "      <td>44962</td>\n",
       "      <td>Dublin, Ireland</td>\n",
       "      <td>04-03-2020</td>\n",
       "      <td>Anyone been in a supermarket over the last few...</td>\n",
       "      <td>Extremely Positive</td>\n",
       "    </tr>\n",
       "  </tbody>\n",
       "</table>\n",
       "</div>"
      ],
      "text/plain": [
       "   UserName  ScreenName             Location     TweetAt  \\\n",
       "0         1       44953                  NYC  02-03-2020   \n",
       "1         2       44954          Seattle, WA  02-03-2020   \n",
       "2         3       44955                  NaN  02-03-2020   \n",
       "3         4       44956          Chicagoland  02-03-2020   \n",
       "4         5       44957  Melbourne, Victoria  03-03-2020   \n",
       "5         6       44958          Los Angeles  03-03-2020   \n",
       "6         7       44959                  NaN  03-03-2020   \n",
       "7         8       44960  Geneva, Switzerland  03-03-2020   \n",
       "8         9       44961                  NaN  04-03-2020   \n",
       "9        10       44962      Dublin, Ireland  04-03-2020   \n",
       "\n",
       "                                       OriginalTweet           Sentiment  \n",
       "0  TRENDING: New Yorkers encounter empty supermar...  Extremely Negative  \n",
       "1  When I couldn't find hand sanitizer at Fred Me...            Positive  \n",
       "2  Find out how you can protect yourself and love...  Extremely Positive  \n",
       "3  #Panic buying hits #NewYork City as anxious sh...            Negative  \n",
       "4  #toiletpaper #dunnypaper #coronavirus #coronav...             Neutral  \n",
       "5  Do you remember the last time you paid $2.99 a...             Neutral  \n",
       "6  Voting in the age of #coronavirus = hand sanit...            Positive  \n",
       "7  @DrTedros \"We cant stop #COVID19 without prot...             Neutral  \n",
       "8  HI TWITTER! I am a pharmacist. I sell hand san...  Extremely Negative  \n",
       "9  Anyone been in a supermarket over the last few...  Extremely Positive  "
      ]
     },
     "execution_count": 9,
     "metadata": {},
     "output_type": "execute_result"
    }
   ],
   "source": [
    "test.head(10)"
   ]
  },
  {
   "cell_type": "code",
   "execution_count": 10,
   "id": "aa143149",
   "metadata": {},
   "outputs": [
    {
     "data": {
      "text/html": [
       "<div>\n",
       "<style scoped>\n",
       "    .dataframe tbody tr th:only-of-type {\n",
       "        vertical-align: middle;\n",
       "    }\n",
       "\n",
       "    .dataframe tbody tr th {\n",
       "        vertical-align: top;\n",
       "    }\n",
       "\n",
       "    .dataframe thead th {\n",
       "        text-align: right;\n",
       "    }\n",
       "</style>\n",
       "<table border=\"1\" class=\"dataframe\">\n",
       "  <thead>\n",
       "    <tr style=\"text-align: right;\">\n",
       "      <th></th>\n",
       "      <th>UserName</th>\n",
       "      <th>ScreenName</th>\n",
       "      <th>Location</th>\n",
       "      <th>TweetAt</th>\n",
       "      <th>OriginalTweet</th>\n",
       "      <th>Sentiment</th>\n",
       "    </tr>\n",
       "  </thead>\n",
       "  <tbody>\n",
       "    <tr>\n",
       "      <th>0</th>\n",
       "      <td>3799</td>\n",
       "      <td>48751</td>\n",
       "      <td>London</td>\n",
       "      <td>16-03-2020</td>\n",
       "      <td>@MeNyrbie @Phil_Gahan @Chrisitv https://t.co/i...</td>\n",
       "      <td>Neutral</td>\n",
       "    </tr>\n",
       "    <tr>\n",
       "      <th>1</th>\n",
       "      <td>3800</td>\n",
       "      <td>48752</td>\n",
       "      <td>UK</td>\n",
       "      <td>16-03-2020</td>\n",
       "      <td>advice Talk to your neighbours family to excha...</td>\n",
       "      <td>Positive</td>\n",
       "    </tr>\n",
       "    <tr>\n",
       "      <th>2</th>\n",
       "      <td>3801</td>\n",
       "      <td>48753</td>\n",
       "      <td>Vagabonds</td>\n",
       "      <td>16-03-2020</td>\n",
       "      <td>Coronavirus Australia: Woolworths to give elde...</td>\n",
       "      <td>Positive</td>\n",
       "    </tr>\n",
       "    <tr>\n",
       "      <th>3</th>\n",
       "      <td>3802</td>\n",
       "      <td>48754</td>\n",
       "      <td>NaN</td>\n",
       "      <td>16-03-2020</td>\n",
       "      <td>My food stock is not the only one which is emp...</td>\n",
       "      <td>Positive</td>\n",
       "    </tr>\n",
       "    <tr>\n",
       "      <th>4</th>\n",
       "      <td>3803</td>\n",
       "      <td>48755</td>\n",
       "      <td>NaN</td>\n",
       "      <td>16-03-2020</td>\n",
       "      <td>Me, ready to go at supermarket during the #COV...</td>\n",
       "      <td>Extremely Negative</td>\n",
       "    </tr>\n",
       "  </tbody>\n",
       "</table>\n",
       "</div>"
      ],
      "text/plain": [
       "   UserName  ScreenName   Location     TweetAt  \\\n",
       "0      3799       48751     London  16-03-2020   \n",
       "1      3800       48752         UK  16-03-2020   \n",
       "2      3801       48753  Vagabonds  16-03-2020   \n",
       "3      3802       48754        NaN  16-03-2020   \n",
       "4      3803       48755        NaN  16-03-2020   \n",
       "\n",
       "                                       OriginalTweet           Sentiment  \n",
       "0  @MeNyrbie @Phil_Gahan @Chrisitv https://t.co/i...             Neutral  \n",
       "1  advice Talk to your neighbours family to excha...            Positive  \n",
       "2  Coronavirus Australia: Woolworths to give elde...            Positive  \n",
       "3  My food stock is not the only one which is emp...            Positive  \n",
       "4  Me, ready to go at supermarket during the #COV...  Extremely Negative  "
      ]
     },
     "execution_count": 10,
     "metadata": {},
     "output_type": "execute_result"
    }
   ],
   "source": [
    "train.head()"
   ]
  },
  {
   "cell_type": "code",
   "execution_count": 11,
   "id": "28a0c16e",
   "metadata": {},
   "outputs": [
    {
     "name": "stdout",
     "output_type": "stream",
     "text": [
      "Shape of testing data: (3798, 6) \n",
      "Shape of training data: (41157, 6)\n"
     ]
    }
   ],
   "source": [
    "print(\"Shape of testing data:\", test.shape, \"\\nShape of training data:\" ,train.shape)"
   ]
  },
  {
   "cell_type": "code",
   "execution_count": 117,
   "id": "f2425ea0",
   "metadata": {},
   "outputs": [],
   "source": [
    "X_test = test['OriginalTweet']\n",
    "X_train = train['OriginalTweet']\n",
    "y_test = test['Sentiment']\n",
    "y_train = train['Sentiment']"
   ]
  },
  {
   "cell_type": "code",
   "execution_count": 13,
   "id": "11b0c7e0",
   "metadata": {},
   "outputs": [],
   "source": [
    "import nltk\n",
    "from nltk.corpus import stopwords\n",
    "from nltk.stem import WordNetLemmatizer\n",
    "from nltk.tokenize import word_tokenize\n",
    "\n",
    "#nltk.download('stopwords')\n",
    "all_stopwords = stopwords.words('english')\n",
    "remove_stopwords_list = [\"not\", \"s\", \"t\", \"don\", \"don't\", \"d\", \"ll\", \"m\", \"o\", \"re\", \"ve\", \"y\", \"ain\"]\n",
    "stopwords = [i for i in all_stopwords if i not in remove_stopwords_list]\n",
    "stopwords\n",
    "\n",
    "def lemmatize(token):\n",
    "    \"\"\"Returns lemmatization of a token\"\"\"\n",
    "    return WordNetLemmatizer().lemmatize(token, pos='v')"
   ]
  },
  {
   "cell_type": "code",
   "execution_count": 185,
   "id": "97385889",
   "metadata": {},
   "outputs": [
    {
     "data": {
      "text/plain": [
       "['',\n",
       " 'advice talk neighbour family exchange phone number create contact list phone number neighbour school employer chemist set online shop account poss adequate supply regular meds not order',\n",
       " 'coronavirus australia woolworths give elderly disable dedicate shop hours amid covid outbreak',\n",
       " 'food stock not one empty please don panic enough food everyone not take need stay calm stay safe covid france covid covid coronavirus confinement confinementotal confinementgeneral',\n",
       " 'ready supermarket covid outbreak not paranoid food stock litteraly empty coronavirus serious thing please don panic cause shortage coronavirusfrance restezchezvous stayathome confinement',\n",
       " 'news region first confirm covid case come sullivan county last week people flock area store purchase clean supply hand sanitizer food toilet paper goods report',\n",
       " 'cashier grocery store share insights covid prove credibility comment civics class know talk',\n",
       " 'supermarket today buy toilet paper rebel toiletpapercrisis covid',\n",
       " 'due covid retail store classroom atlanta not open walk business class next two weeks begin monday march continue process online phone order normal thank understand',\n",
       " 'corona prevention stop buy things cash use online payment methods corona spread note also prefer online shop home time fight covid govindia indiafightscorona',\n",
       " 'month crowd supermarkets restaurants however reduce hours close malls mean everyone use entrance dependent single supermarket manila lockdown covid philippines',\n",
       " 'due covid situation increase demand food products wait time may longer online order particularly beef share freezer pack thank patience time',\n",
       " 'horningsea care community let look less capable village ensure stay healthy bring shop doors help online shop self isolation symptoms expose somebody',\n",
       " 'don need stock food amazon deliver whatever need coronavirus amazon',\n",
       " 'adara release covid resource center travel brand insights help travel brand stay date consumer travel behavior trend',\n",
       " 'line grocery store unpredictable eat safe alternative find whether avoid restaurants right coronavirus covid',\n",
       " '',\n",
       " 'mar russia consumer surveillance watchdog report case high arctic man travel iran covid observe',\n",
       " 'amazon glitch stymy whole foods fresh grocery deliveries covid spread see significant increase people shop online groceries spokeswoman say statement today result systems impact affect',\n",
       " 'struggle please consider donate food bank nonprofit demand service increase covid impact job people way life',\n",
       " 'nations inficted covid world must not play fair china goverments must demand china adopt new guilde line food safty chinese goverment guilty irosponcible life global scale',\n",
       " 'covid coronavirus pandemic impact consumer shop behavior purchase decisions retail sales accord first insight study',\n",
       " 'amaze cheap deal covid go help trials monthly yearly resonable price subscriptions bestiptv iptv service iptv iptvdeals cheap iptv football movies adult cinema hotmovies iptvnew iptv adult',\n",
       " 'amaze cheap deal covid go help trials monthly yearly resonable price subscriptions bestiptv iptv service iptv iptvdeals cheap iptv football movies adult cinema hotmovies iptv iptvlinks movies',\n",
       " 'downingstreet do ensure food essential products stock supermarkets panic buy actively discourage cannot leave checkout staff police action selfish profiteer',\n",
       " 'consumer poll indicate majority expect covid impact last months march expect increase next tracker see full result coronavirus consumer confidence tracker',\n",
       " 'preparation higher demand potential food shortage hunger coalition purchase percent food implement new protocols due covid coronavirus',\n",
       " 'morning test positive covid feel symptoms far isolate since find possible exposure virus stay home people pragmatic keep update panic',\n",
       " 'see malicious price increase nyc nyc department consumer worker protection dcwp set page digitally file complaint click file complaint use word overcharge covid covidnyc',\n",
       " 'sealsoftheend soon dwindle supply unlawful panicky people break close store amp supermarkets raid normally crisis massive coronavirus stockup amp lockup',\n",
       " 'country empty shelve people see buy ensue food stock',\n",
       " 'hole foods image nicest grocery store one richest neighborhoods unite state breakingnews break coronavirus coronavirusoutbreak covid covid covid covid collapse',\n",
       " 'retail store closure could explode coronavirus via brickandmortar',\n",
       " 'coronavirus fun fact cough grocery store get whole aisle pretty quickly coronavirusoutbreak coronavirus covid',\n",
       " 'sorry say event cancel due covid health wellbeing attendees speakers staff top priority apologies disappointment may cause faqs answer link',\n",
       " 'go supermarket yesterday toilet paper go anything corona virus covid',\n",
       " 'yes buy need point post photos people supermarket load stuff could buy elderly parent kid siblings etc buy not everything need viral covid alr',\n",
       " 'worry impact current covid pandemic finance publish tip help manage money challenge time covid',\n",
       " 'wife work retail amp customer come yesterday cough everywhere say covid request deep clean store company object due cost recommend team spray disinfectant amp clean gonna die get sick due capitalism',\n",
       " 'supermarket like without judge coronavirusoutbreak covid',\n",
       " 'provide safe shop experience customers healthy environment associate community online order place jlmco jlmcobrand coronapocolypse coronavirus coronavirusoutbreak covid shoponline',\n",
       " 'curious think retail shoppers lot online shop home unable think everyone spook get extra pair shoe economy onlineshopping coronavirus covid stayhome',\n",
       " 'check video food usa market due coronavirus panic gonna die starvation coronavirusoutbreak coronavirus houston nofood notoiletpaper nohandshakes nohandsanitizer covid pandemic totallockdown covid usa walmart',\n",
       " 'break story online clothe shop rise people find mysterious white patch form clothe quarantinelife coronavirusoutbreak coronavirus imadethisup fakenews',\n",
       " 'line outside customers wait store open morning',\n",
       " 'south africans stock food basic goods coronavirus panic hit coronavirussa covid',\n",
       " 'please share know someone live struggle get local supermarket due issue around offer free deliveries healthy soup nationwide anyone need plus freezable',\n",
       " 'people post share photos half completely empty shelve call people dumb idiots shop grocery store lol coronavirus covid',\n",
       " 'never think say come back please coronavirus covid peoplearelosingtheirminds stopthemadness stoppanicbuying',\n",
       " 'covid restrictions spark run cannabis store not close yet customers stock cannabis weekend prepare could retail store restrictions come days',\n",
       " 'everything see current covid outbreak see previous epidemics pandemics rise fear racism panic buy food medicine conspiracy theories proliferation quack cure',\n",
       " 'everyone close remain open emergency store thank retail workers covid pandemic socialdistancing retail',\n",
       " 'stock water cause utility company shut middle pandemic school close thier doors lose work cause kid afford months worth food coronavirus',\n",
       " 'dear coronavirus follow social distance rule stay home prevent spread however spend alarm amount money shop online submit expense reimbursement let know coronapocolypse coronavirus',\n",
       " 'global food price spread covid intensify across several geographies could see downward pressure come months due continue well supply market negative impact demand result virus',\n",
       " 'morning everyone great safe day coronavirus stoppanicbuying bekind mufc mufc family',\n",
       " 'things panic buy emergency don get toilet paper important afraid worst case scenario wash tub use money food crazy coronavirus',\n",
       " 'thank grocery clerk go grocery store today look weary eye clerk thank realize thrust front line panick new breed first responders work hard serve communities coronavirus',\n",
       " 'outbreak covid entire world retail shop malaysia face great challenge near future online shop surprise way people many lose job malaysia malaysia covid',\n",
       " 'thoughts impact coronavirus food market',\n",
       " 'consumer corner scammers take advantage covid fear coronavirus cdc flu trend alert',\n",
       " 'mask make medical personnel consumer purchase require obscure material call melt blow fabric',\n",
       " 'work capitalize demand package food make stay open oppose close health safety lockdowncanada coronavirus',\n",
       " 'feel like ethical still stuff like order deliveries food online shop etc ship isolation care package love ones etc covid',\n",
       " 'consumers tell pymnts covid change daily live via',\n",
       " 'buy house covid panic think buy food house tragic',\n",
       " 'see facebook group businesses need stop increase price essentials emergency situation frankly despicable totally void community spirit nameandshame covid coronavirus liverpool',\n",
       " 'sadly misinform think covid give diarrhoea therefore stock pile toilet paper atm hygiene food important',\n",
       " 'yeah parent risky people covid stay home supermarket really necessary stay safe',\n",
       " 'coronavirus covid group mum live group need shield weeks months mean stay hope still get online shop need',\n",
       " 'kind like say word make not sound like word anymore many people don think covid news make store panic buy food basic necessities nothing leave',\n",
       " 'covid thank make online shop',\n",
       " 'corona scare send sea food price skyrocket mumbai seafood coronavirus coronavirusoutbreak coronavirusreachesdelhi coronavid coronavirusupdates covid covid jhalakbollywood jhalakkollywood jhalaktollywood',\n",
       " 'pause student loan payments addition halt interest accumulation amp stop punitive student loan collections would provide much need immediate relief individuals unable work amp face economic hardship',\n",
       " 'consumer side tech chinese group already demostrated elisa test strip covid though detail lack consumer though would deem waive test come easily',\n",
       " 'lose wag either due illness virus economic impact mean increase demand urge support bill include support food bank flexibility school meals increase',\n",
       " 'action selfish ceo grocery store would time people shop show saw young couple roll one full crap well maybe coronavirusoutbreak',\n",
       " 'coronavirus pose complex puzzle food delivery company delivery capacity may buckle surge demand via service food delivery coronavirus',\n",
       " 'witham disgust disgraceful charge inflate price items stop spread covid government really need something abou',\n",
       " 'retailers close physical store curtail hours result covid agoing put additional pressure omnichannel alternatives like grocery delivery curbside pick covid ecommerce omnichannel retail digital',\n",
       " 'check folks cal like idea habra supermarket offer special hours seniors amid covid crisis',\n",
       " 'love hate head advice downingstreet amp blip live happen don whinge dont panic buy food wont run spend time family use common sense coronavirus',\n",
       " 'open letter consumer debt hold organizations others precipice crisis household economy please suspend debts interest fee sixty days response covid crisis feel free sign',\n",
       " 'covid covid aus coronavirus want spread news older australians particularly still mobile without family support',\n",
       " 'sadly not surprise hear one payer exec lay low hop blow mind bogglingly stupid nonprofit blue plan',\n",
       " 'work retail keep stock back older customers frank come store bread see empty shelve say don worry pal save pat bean could get discipline yes care get coronavirus',\n",
       " 'attempt lengthen runways market budget slash hire freeze staff matrices redrawn dive deep consumer startups battle impact business',\n",
       " 'time distillery remain operation not offer public tour host function events retail store also close',\n",
       " 'please don hoard food water absolutely need panic buy supply chain completely interrupt please don hoard sanitize products people really need probably dontpanicbuy coronavirus',\n",
       " 'fact can food toxic chemicals store buy hand sanitizers stock yet fresh fruit vegetables herbs fully stock show humans idea immune system work quarantinelife covid',\n",
       " 'call mum dad great offer help online shop etc might sometimes forget not always easy far parent like tech really useful covid coronavirus',\n",
       " 'people see stock goods trolleys panic buy rumour spread today hypermarket kajang march picture shafwan zaidon',\n",
       " 'often see major news events criminals try take advantage situation coronavirus covid exception guidance attorney general office',\n",
       " 'pretty sure within week two supermarket supply chain dry counties effect covid possibly lockdown would government introduce form ration people eat somehow don think',\n",
       " 'supermarket workers frontline covid extraordinary time retail extreme pressure shop please remain calm thank workers everything keep shelve stock checkouts move',\n",
       " 'worry covid worry people panic plan not panic buy food focus important issue best opportunity positive outcome create structure reduce key decisions flourish stay safe',\n",
       " 'biggest supermarket chain unite state employees many receive sick leave even employees test positive covid still provide pay sick leave everyone',\n",
       " 'instead pay sick leave provide weeks pay leave people test positive covid place mandatory quarantine insufficient protect staff public especially little test',\n",
       " 'follow go shop days ago pain necessary protect grocery shop consumer report covid stayhealthy',\n",
       " 'take picture today home grocery store montgomery county flour sugar sweet potatoes potatoes orange juice paper towel toilet paper low meat mac amp cheese coronapocolypse covid panicbuying',\n",
       " 'hate grocery shop general swear online next shop not deal swathe panic buyers covid coronavirus coronavirusuk anxiety panicbuyinguk morons',\n",
       " 'rapid delivery food order make since slot elsewhere weeks seem fine email list stock deliver one bottle orange juice coronavirus panicbuying whatashitshow',\n",
       " 'thank grocery store employees work hard make sure everyone get need please kind not fault short supply corona covid',\n",
       " 'also need say go grocery store cannot do completely safely mean without risk get coronavirus spread reduce risk stay people amp wash hand eliminate',\n",
       " 'maybe come recession might play three phase damage main street covid ongoing rescue temp recovery credit mkt recovery consumer econ unknown second shock later finally bring wall street altogether spx rut ndx',\n",
       " 'know end world surgical spirit stock online receive stock suppose disinfect hand coronavirus coronapocolypse panic shop',\n",
       " 'get real world know real many worlds please sign petition food bev people colorado',\n",
       " 'amid social distance covid crisis starbucks move',\n",
       " 'abilene bar feel economic impact covid',\n",
       " 'update make sure check local list see open close time chick fil drive starbucks use model early close include king soopers sam club etc',\n",
       " 'supermarket habra try help local seniors covid pandemic open doors half hour early day exclusively shoppers older',\n",
       " 'supermarket habra try help local seniors covid pandemic open doors half hour early day exclusively shoppers older',\n",
       " 'something elderly people don stock ton food essentials buy need first greedy panick buyers get need stoppanickbuying thinkingofothers coronavirus covid',\n",
       " 'kid get mild covid symptoms chance transmission high study',\n",
       " 'new consumer guide examine largest restaurant chain sales handle pay sick leave covid pandemic result not good disclose pay leave policy chain offer sick leave locations nationwide',\n",
       " 'confirm store signage say take extra precautions light covid staff state nothing change efforts management protect retail workers speed crucial',\n",
       " 'idiots work cause unnecessary problems empty shelve supermarket get enough rice last years covid panicshopping pricegougers idiots',\n",
       " 'fringe idiots like cause price rise amp create shortages also probably waste lot money expiry date shopkeepers must use ration fair customers covid pricegougers hoarders idiots panicbuying selfishpeople',\n",
       " 'congress temporarily paralyze house still finalize technical corrections coronavirus bill currently hold anyway insist bill read floor would require house return senate fight issue',\n",
       " 'consumer financial protection bureau report one employee test positive covid federal financial regulators mandate employees work home',\n",
       " 'poor customer service let algorithms run price state emergency not refund cost also poor staff covid',\n",
       " 'love grocery store set hour preferably morning elderly population compromise immune systems use store good clear think covid coronavirus',\n",
       " 'temporarily lose job check amazon hire handle surge coronavirus relate buy',\n",
       " 'daughter stories like friends supermarket job one say adults act like covid fault stand middle age woman refuse put back box',\n",
       " 'currently self isolate symptomatic think support elderly neighbour friend do online shop agree phone call daily might even attempt skype video call unitedagainstdementia coronavirus',\n",
       " 'people walk retail store problem responsible make shit spread feel guilty stop shop online shop available home coronavirus retail covid walkout',\n",
       " 'nys aware uptick coronavirus scam social media email texts websites aware scam involve financial product service visit website call consumer hotline',\n",
       " 'unpopularopinion able tell much community understand restrict movement order empty supermarket shelve covid malaysia',\n",
       " 'katie move weekend amongst covid panic yes food toilet paper self respect also least',\n",
       " 'need help seniors coronavirusoutbreak',\n",
       " 'fyi call not chinese virus notice nasty mention support industries help stock market trump still try cut medicare amp social security benefit food stamp remove pre exist condition coverage aca',\n",
       " 'store charlotte continue voluntarily shut doors due coronavirus concern tough decision one many store deem necessary remember possible online shop option still want support businesses',\n",
       " 'like shop fan appreciate efforts limit food shortage amp covid spread tho concern lack push towards curbside pickups amp delivery additional charge per item cart',\n",
       " 'happy friends know everyone uneasy thats go coronavirus let not forget small business need support whether shop online order',\n",
       " 'good move tackle covid spread please implement new policy restrict consumers hoard goods supermarket grocery store point create safety measurements people change selfish',\n",
       " 'office ready prosecute price gougers deal coronavirus texan need file pricegouging complaint call online',\n",
       " 'consumer protection alert aware coronavirus relate cyber security scam not reveal personal financial info email avoid click unsolicited link use trust source always report attack need file complaint',\n",
       " 'kenyantraffic queue buy gun buyers tell scar happen people run food supply need protect families live coronavirus panic hit via',\n",
       " 'spark manila call centre close help prevent spread covid call rout base help deskers instead spark ask patience call people use myspark app visit retail store',\n",
       " 'feel like lottery much worth stockmarket toiletpaper arizona coronavirus stoppanicbuying foxnews fox phoenix',\n",
       " 'bad habit definitely guilty hospital staff definitely need avoid wear scrub public especially nobody want see grocery store covid medtwitter coronavirus',\n",
       " 'world leaders still not realize kashmir struggle westerners state panic stock pile water food supply imagine lockdown months wake coronavirusoutbreak kashmirlockdown kashmiris covid coronapocolypse',\n",
       " 'not able get doggo food not due panic buy due european supply issue cause covid order amazon pay wonder get not not doggo ration',\n",
       " 'online shop past days coronavirus',\n",
       " 'government say start social distance work retail not talk customers store lol fml go catch covid',\n",
       " 'plus side covid save money online shop package china hella delay don car don wanna use public transport hell don wanna around people apparently work wash hand wipe ass',\n",
       " 'hear national quarantine go start wednesday say stock essentials food ammo believe go get ugly coronavirus covid nationalquarantine',\n",
       " 'food bank close source enough items thank fckwits panic buy everything care break single mum three kid fee long mths pasta stockpile let starve coronavirus covid',\n",
       " 'dear hoarder covid covid coronapocolypse coronavirus covid hoarders groceries panicshopping stoppanicbuying',\n",
       " 'first shop make effort could really win game make real difference',\n",
       " 'come trumpisanidiot trumpneedstoshutup not trend real people freak store keep food shelf stock market control please sake county shut coronavirus',\n",
       " 'mum actually mount dispenser soap wash hand enter supermarket chance covid',\n",
       " 'would list plethora unfortunately day job health care supermarket retail everyone buck take care sick feed hungry coronavirus covid staysafe frontlines',\n",
       " 'things may stockup things get crazy chocolate make remover concealer dark circle chew gum pringles seed grow flower manual survive apocalypse chocolate gin kitten heel shoe coronavirus',\n",
       " 'please read full lava covid statement amp announcement online store consumer electronics compute interfaces',\n",
       " 'cleanshelf supermarket sanitizers',\n",
       " 'increase workers online shop add time slot pick delivery hire workers short time business shut winwin coronavirus stayindoorsandshop',\n",
       " 'thank take care abuelos',\n",
       " 'also people stock soap hand sanitiser toilet roll leave shelve empty rest realise stop spread coronavirus people need able wash hand stoppanicbuying',\n",
       " 'nearly year old nana stock pile food toilet roll stock cupboard two full tubs horlicks priorities coronavirus',\n",
       " 'person capability online shop would encourage relative friend acquaintance shop city state country alternate pick person coronavirus coronavirusoutbreak covid',\n",
       " 'televangelists make kill covid panic sell survival meals days worth food almost sure least cheaper two months ago',\n",
       " 'covid retail edition fit room close store pact people upset try clothe worst thing mind not able fit pair jeans restaurants bar close remind ignorance corporate america',\n",
       " 'opportunities amp challenge cause reverselogistics even apparent current covid pandemic many store close physical locations even consumers turn online shop ecommerce return coronavirus',\n",
       " 'photo edinburgh supermarket last night happen work one workers gov class low skilled couple weeks ago covid hit bad thread',\n",
       " 'someone high risk group distance covid not enough drivers deliver online shop amp friends relatives position amp group',\n",
       " 'actual footage try grocery store weekend not sure toilet paper please remember together panicbuyers coronavirus',\n",
       " 'see pop facebook various community group cannot call toll free number infant formula tell cannot find formula retail store due covid send full case free formula hoax',\n",
       " 'fyi check freeze dry food company seem everyone sell stock backlogged weeks coronavirus',\n",
       " 'although panic stockpile may leave shelve empty may silver line coronavirus cloud rise online grocery shop deliveries drive thrus service like post mat',\n",
       " 'panic buy amp enough provision amp family days also don car thank idiot smash mine last week online shop slot weeks covid kill family lack food',\n",
       " 'mass hysteria go successfully deal covid majority contract covid see mild flu symptoms need panic buy months worth toilet paper can food',\n",
       " 'go store today can food go need toilet paper actually get pack roll get milk cat treat well thank god save foods still stuff case covid province panic buy common',\n",
       " 'call small businesses chicago department business affairs amp consumer protection bacp solicit feedback develop resources measure support small businesses impact covid please fill survey asap',\n",
       " 'work supermarket store live paycheck paycheck covid',\n",
       " 'consumers tell pymnts covid change daily live',\n",
       " 'plan supply food panic buy crazy supermarkets slot delivery ration seem sensible suggest feeble self isolate months without tell eat coronavirus',\n",
       " 'consumer debt hold organizations debt relief american households impact covid response sign petition via',\n",
       " 'take henk zwoferink saturday rgl black beauty haul train bring last tourists home colleagues workinghard keep supply chain run respect measure ensure everyone safety pleasure work dedicatedpeople',\n",
       " 'safe work amid coronavirus via',\n",
       " 'americans stock food covid concern rise thing buy list extra box pasta',\n",
       " 'rack store make efforts washington market drive store sales weekend jwn retail retailapocalypse coronavirus retailnews',\n",
       " 'avoid coronavirus phishing scam consumer report covid coronavirus coronavirus coronavirusupdate coronapocolypse',\n",
       " 'update grocery store shop experience weekend today let know store still stock covid coronavirus lotl',\n",
       " 'colleague texts ask need anything supermarket could buy cartons unsweetened almond milk try convince not millennial material say like covid',\n",
       " 'stock market corrections currency rate corrections oil price corrections interest rate change currency rate fluctuations coronavirus covid coronavirusindia lifestyle correction wisdom collectiveness respect nature reciprocate one',\n",
       " '',\n",
       " 'casper provide business update covid york business wire casper sleep inc casper company nyse cspr today provide update north america retail store operations response continue spread covid',\n",
       " 'leave supermarket right supermarket take guess country press call hysterical dysfunctional',\n",
       " 'panic buy thank media think elderly disabilities get buy food essentials covid coronavirus panicshopping',\n",
       " 'already stock food ammo next step sorry america shoot way coronavirus',\n",
       " 'don make grocery store pickup next weeks would reduce crowd panic buy contamination strain workers could help build app day open store hrs seniors might less tech savvy covid coronavirus',\n",
       " 'join hand uae efforts contain spread coronavirus covid consider well mall visitors community gym play areas amp amusement centre stay close lulu hypermarket store operate routine',\n",
       " 'give restrictions around covid fic postpone til nov interest food security increase amp meet demand think provoke discussions examine food issue experience epidemic amp likely experience go forward',\n",
       " 'people not take covid serious get stick indoors food decide necessary stock',\n",
       " 'keep hear boomers gonna travel cheap flight infect meanwhile majority boomers hunker home afraid grocery store covid socialdista',\n",
       " 'announce loan fund administer provide financial relief base businesses include nonprofits full amp part time employees impact covid mabiz release apply',\n",
       " 'pasta pasta sauce pizza sell grocery store everyone dallas become italian grandmas dallas coronapocolypse covid',\n",
       " 'not panic not fear fear mind killer pres work private sector ensure everyone access food amp supply turn cnn resist herd mentality coronaviruspandemic coronavirus coronapocolypse hea',\n",
       " 'retail store close end march keep staff customers safe covid crisis continue fulfill ship order place online pickups not available return regular hours',\n",
       " 'major businesses trump tout say supply not really online order critical supply avail online shop best socialdistancing need help arena supply via online coronavir',\n",
       " 'hear multiple source mandatory quarantine come week citizens last chance stock food amp supply take warn late coronavirusupdates coronavirus',\n",
       " 'stock drop amid covid outbreak latest extent damage share price several key company tech amp media auto amp transportation travel retail amp consumer goods bank amp finance opportunities invest covid',\n",
       " 'lot go self isolation week think useful article stay sane happy covid',\n",
       " 'panic buy malaysia escalate today follow rumour impend lockdown ministry domestic trade consumer affairs warn people not spread fake news covid farhan yusoff amp shafwan zaidon covid panic buy groceries',\n",
       " 'increasingly global spread covid mass begin panic grocery store become increasingly chaotic animalistic nature survival kick individuals start hoard supply cct',\n",
       " 'panic forage street food saffron flapjack nose food drink writer usual say include recipe manchestereveningnose saffronflapjack panicforage panicforaging covid coronavirus',\n",
       " 'important update fan regard covid retail store occoquan mandrilltoys covid coronavirus',\n",
       " 'pregnant women make sure vaccinations date wash hand frequently stay away people cough amp protect health common sense ways march dim chief medical amp health officer covid',\n",
       " 'free delivery service fee seniors order online habra supermarket offer special hours shoppers older amid covid crisis',\n",
       " 'next time grocery store purchase food color rainbow boost immunesystem food medicine immunesupport fight coronavirus covid',\n",
       " 'stay due coronavirus stock fridge pantry stay due coronavirus stock fridge pantry food coronavirus foodshortage foodsecurity stockpile',\n",
       " 'letter sad hotel response covid worst vendor associate fault consumer yet room cost nights will offer hyatt',\n",
       " 'due coronavirus panic buy go new level usa buy gun protect france buy pasta ensure enough food buy toilet roll ensure keep take coronavirusuk',\n",
       " 'fashion coronavirus collapse travel stockmarkets economic outlooks slip governments businesses try get handle covid retail apparel socialdistancing store closure revenues',\n",
       " 'ulta temporarily shut store service amid coronavirus fear via retail brickandmortar cosmetics pandemic covid',\n",
       " 'casualties retail store closure could explode',\n",
       " 'stock pilers hope drop every fuck bog roll toilet hope food buy go hope eat go food get sick something time worse coronavirus selfish prick coronapocolypse covid shop',\n",
       " 'meanwhile canada couple clean entire meat section store via hoard coronavirus nomestleft nofood canada panic',\n",
       " 'fight covid infection believe social distance avoid contact heri ensure don worry shop safest space shall deliver',\n",
       " 'whole store ransack thank retail workers imagine craziness deal right coronavirus panicshopping retailworkers',\n",
       " 'since kid high schooler btw grocery store cashier apparently critical infrastructure employee sudden would nice pay reflect risk covid',\n",
       " 'consumers already make small significant change socialise shop response covid full person survey result covid shop ecommerce retail socialdistance socialdistance socialise',\n",
       " 'way spread mass hysteria panic lead people buy shelve cause shortages national guard place military lockdown extra food supply case store get raid yes covid',\n",
       " 'find need work food delivery driver seem like go high demand consider state ban din coronapocolypse coronavirus stayhome',\n",
       " 'shame buffalo lead story top employee covid way story lead heavily imply supermarket worker fact corporate employee interaction store general public',\n",
       " 'dtc brand look toward brick mortar store way facilitate growth coronavirus change',\n",
       " 'one question happen since manufacture close plant covid shutdowns many make food plant shut grocery store get new stock',\n",
       " 'nothing beat classic food wheel get big mac meal mcdonald order via ubereats app promo code bigmacza amp apply',\n",
       " 'hyvee always thank shoppers shop hyvee sunday march blue spring missouri however covid develop shoppers begin take advantage online delivery form obtain every day need',\n",
       " 'don think time reduce minimum online shop basket don product stock people need think forget single disable people put customers',\n",
       " 'wish physic could predict much sanitizer toilet paper would need get real stoppanicbuying coronavirus',\n",
       " 'air strike covid crisis iraqi government may find deal greatest governance challenge since isis invasion',\n",
       " 'watson sell mask high price not provide bill receipt coronavirusinpakistan coronavirusoutbreak covid',\n",
       " 'toilet paper local grocery store almost week real crisis south florida toiletpaper coronavirus',\n",
       " 'coronavirus go shop groceries might not best check list great online alternatives deliver right door',\n",
       " 'good way support grocery store medical hospital staff time would normally think something along line order everyone pizza seem like great idea covid covid covid',\n",
       " 'rapid spread covid leave fate many announce consumer mna deal jeopardy public market fluctuate consumers encourage avoid place public gather',\n",
       " 'madam baka nyo naranasan ang work pay isang kahig isang tuka thats someone still try work realize not least one week food stock hop covid leave country',\n",
       " 'please read thread',\n",
       " 'give self centre amp aggressive behaviour see streets grocery store aisles australia thrill not war immediate threat people true selves emerge time stress amp pressure fail previous lax standards coronavirus covid aus',\n",
       " 'well actually start worry online food shop nothing stock bread pasta fruit veg milk hell go eat far cheese coffee coronavirus coronapocolypse',\n",
       " 'good read worry participate grocery store run coronavirus era lean difficult accommodate huge discrete surge demand store supply chain still strong via',\n",
       " 'unprecedented move retailers many opt indefinitely shut doors prevent spread novel coronavirus others like walmart reduce hours retail',\n",
       " 'agriculture commissioner dept agriculture amp consumer svcs announce activate summer breakspot website families find free meals children corona virus closure coronavirus covid',\n",
       " 'get home supermarket panic buy real middle afternoon bet queue longer work hours covid covid',\n",
       " 'learn consumers industries include food drink beauty retail health wellness react covid pandemic marketresearch consumerinsights',\n",
       " 'please help stock food coz danger near crisis covid neighbour country kenya though request anyone manage help anything small coz want stock food orphanage',\n",
       " 'tell employer go work tonight want risk bring covid home family work retail store take precautions customers come areas confirm case employer say need short tonight',\n",
       " 'french president emmanuel macron impose two week lockdown declare war coronavirus cancel municipal elections citizens order stay home allow essential duties trip grocery store pharmacy',\n",
       " 'tip stay fraud free covid attempt information federal trade commission visit',\n",
       " 'since not religious anything go supermarket like find god children children clear water toilet paper every shelf covid world like want kill rest win hunger game',\n",
       " 'go supermarket mean vulnerable crowd people trendies go costco sam club place go multiply lot covid megachurch zombie shop panic allow shop don care die',\n",
       " 'mountain america members financially impact covid may loan relief options help unique situation visit learn',\n",
       " 'mpe prepare continue provide safe reliable electric service adopt covid consumer employee safety measure read',\n",
       " 'binge shop online quarantinelife coronavirus',\n",
       " 'long time could dream reid distillery would look like hard overstate impact covid small businesses best ways support enjoy reid gin home retail store open everyday',\n",
       " 'ways coronavirus change millennials money habit generation noi paghiamo con carta credito con satispay coronavirus molti acquisti online',\n",
       " 'get personal not one allow coronavirus hysteria panic change home life go grocery store normal shop beyond disappoint humanity please stop think',\n",
       " 'panic shop coronavirus plan end food water toilet paper consumers also panic shop life insurance stayinformed stayconnected nailba',\n",
       " 'hello brother sister let connect hand support children stock food orphanage mainly afraid covid crisis take place neighbour countries kenya drc congo please help',\n",
       " 'social distance prevent spread coronavirus could devastate effect people depression',\n",
       " 'woolworths give elderly disable dedicate shop hours amid covid outbreak covid coronavirus zakat',\n",
       " 'man yell supermarket today buy yucky garlic china not australian garlic soo xenophobe either really love australian commerce think covid spread garlic',\n",
       " 'due fear covid people start hoard items daily use impact regular level supply market commodities disappear market create shortage price people start curse government',\n",
       " 'northgate market allow seniors shop first open public detail',\n",
       " 'people die covid people also die afford live afford food children let alone people deserve able not panic think nation go shit people deserve live',\n",
       " 'apparently everyone else feel way dave killer bread bread coronavirus covid stockup davesbread',\n",
       " 'korea covid case malaysia covid case yet korea supermarket never stock malaysia empty shelf government totally consider limit necessity goods every consumer market',\n",
       " 'amazon say coronavirus outbreak cause surge online shop online giant add new full time part time position across unite state keep demand report cnn',\n",
       " 'consumer response cannabisindustry covid importantly prioritize medical marijuana patients',\n",
       " 'get grocery store amp call wife bread want grab',\n",
       " 'convid safety measure take online shop company amp courier partner etc fear shop package travel vast distance flight train amp handle many along way potential coronavirus carriers',\n",
       " 'shop hike price shame don mean people cash ebay etc mean actual local shop increase price meat rice etc think try get together ridiculous coronavirus',\n",
       " 'gaisss please read please limit outside please please always wash hand always use hand sanitizer please get ready stock food',\n",
       " 'covid impact supply chain trade workforce much check guide business leaders know find',\n",
       " 'love people return something store please let wait coronavirus retail store barely make please don add stress managers return everything trouble time',\n",
       " 'track effect coronavirus retail industry every step way read first covid blog stay tune update every monday wednesday friday digitalmarketing',\n",
       " 'consumer alert aware bogus covid home test kit covid coronavirus news wdbo',\n",
       " 'say need hire people across keep crush order coronavirus spread keep people home shop online via job hire',\n",
       " 'covid need panic buy food available time assure',\n",
       " 'stopthespread research show faster authorities move implement kinds socialdistancing measure design slow transmission disease live save great read via',\n",
       " 'amaze supermarket everything go people panic buy yet not one single person wear facemask buy roll toilet paper prevent catch covid take proper precautions stay safe',\n",
       " 'get covid supermarket letspanic',\n",
       " 'go grocery store make panic anything scarcity resources not need hoard food like saw woman gallons milk buggy egg go bread aisle demolish coronavirusoutbreak coronavirus coronapocolypse',\n",
       " 'worth read hopefully nothing else public might wish consider shop locally future course shop like survive',\n",
       " 'needle say cause strong feel coronavirus covid supermarkets food shop',\n",
       " 'san francsisco mayor london breed announce lockdown last april people not allow leave home midnight tuesday anything doctor visit grocery store shop coronavirus',\n",
       " 'covid pandemic plunge global financial market drive consumer confidence today two year low accord survey',\n",
       " 'apple close retail locations outside china march reopen apple store locations within greater china apple retail applestore coronavirus health close quarantine china greaterchina',\n",
       " 'covid need panic buy food available time assure',\n",
       " 'full grow ass woman county highest number coronavirus case colorado grocery store employee come work afford take time store even reduce hours please don feel well',\n",
       " 'love quiet tube atm covid terrible yes get fantastic level consumer utility tube ticket',\n",
       " 'owhealth time turmoil allow formation deeper relationships insurers members society large owcovid covid coronavirus',\n",
       " 'food supply consumer welfare department odisha government take effective step prevent black market hoard protective mask hand sanitizers state odisha odishanews ommcomnews',\n",
       " 'oregon gov kate brown monday afternoon order oregon restaurants bar stop site din limit sales takeout delivery',\n",
       " 'coronavirus europe call calm food shortage fear spark panic buy',\n",
       " 'even amazon struggle deliver food know stockpile muppets panic buy coronavirus yorkshire',\n",
       " 'anthony fauci say people may perceive new coronavirus guidelines inconvenient go far reflect deteriorate assessment containment efforts take seriously overreaction',\n",
       " 'break center disease control recommend americans cancel postpone gather people next eight weeks aggressive federal guidance issue yet response coronavirus outbreak',\n",
       " 'iran prisoners release view coronavirus italy prisoners create nuisance amp even burn prison cell news suspect covid prison whereas india prisoners make face mask amp sell extremely low price bharat',\n",
       " 'update covid info page include link latest dhs ndia update plus currently know supermarket rule change',\n",
       " 'pymnts survey consumers covid already change daily live dive result coronavirus covid',\n",
       " 'people worry ventilators worry lose income home food live stop bail businesses care stock market time take care people coronavirus',\n",
       " 'grocery store employees extremely vulnerable contract coronavirus virtue expose oncoming excessive panicshopping crowd market consider maximize self check station reduce employee exposure makro selfquarantine covid',\n",
       " 'consumer report suggest stock days important medication stock birth control',\n",
       " 'consumers shaky grind business grind covid hear consumer confidence listen',\n",
       " 'supermarket absolute chaos toilet roll hardly paracetamol massive queue till snuff result covid go come back haunt everyone stockpile',\n",
       " 'quick question self isolate homeless answer also usual place free meals social support etc close offer limit service suck homeless time suck really hard',\n",
       " 'really really worry many little kid seriously hungry due coronavirus covid meals kid get school could seriously hungry weeks close especially also stockpile deny food bank normal stock',\n",
       " 'covid covid quarantinelife pre exist medical condition isolate weeks wife work supermarket work',\n",
       " 'supermarket workers homecare workers postal workers clean workers workers throughout service sectors find forefront societies efforts contain pandemic take look measure need',\n",
       " 'oliverscampaign coronavirus type food people stock pile case isolate',\n",
       " 'not go shop coronavirus stop people fight food loo roll stay lot go short walk knit shop online',\n",
       " 'shit moms get do tell kid much fun gonna watch movies play outside eat stock pile food next weeks see talk homeschool curriculum tho covid coronavirus',\n",
       " 'covid ireland monitor back home look draconian igetit coronavirus staythefhome socialdistancing covid selfisolation stopthespread stoppanicbuying',\n",
       " 'supermarket scene post foreigners finland group covid',\n",
       " 'ron price diesel price public transport train bus teksi amp hail service price malaysia year',\n",
       " 'combat coronavirus amp protect staff amp customers retail store close notice covid situation evolve rapidly reopen date uncertain creamery aim continue sell via wholesale amp online',\n",
       " 'public intervention covid not help may disagree government strategy please not actively campaign government people frighten add fear cause panic action',\n",
       " 'energytwitter take impact oil price collapse amp fall energy use covid natural gas price expect production price drop crush coal use fall production price rise shift fuel power',\n",
       " 'welcome stophoarding stoppanicbuying stayathome staysafe amid coronavirus covid coronavirusupdates',\n",
       " 'chief medical officer currently tell alan jones radio stupid silly people buy two weeks worth food perhaps need tell state least one state government recommend exactly inconsistency gobsmacking',\n",
       " 'covid pandemic self isolation journal day mild panic set paraphrase simpson house food need make food',\n",
       " 'clothier close retail store march due coronavirus pandemic pay employees time period store hunt valley towne center huntvalley coronavirus',\n",
       " 'trade clear settlement pse sccp tomorrow march notice due enhance community quarantine implement luzon',\n",
       " 'retail store owners right coronavirussa covid',\n",
       " 'come back grocery store find milk egg go coronavirus real coronapocolypse coronavirusoutbreak covid',\n",
       " 'lvmh convert perfume factories make hand sanitizer retail leaders say covid ikea ecommerce strategy america retailers start crowd control ulta beauty stop store beauty service ecommerce retail dtc coronapocalypse covid',\n",
       " 'dad holiday postpone need quarantine days dubai hospital safety class postpone use learn class people panic buy foods drink supermarket frustating covid',\n",
       " 'quarantine suck lead insure amount online shop coronavirus shop quarantinelife',\n",
       " 'response covid novel coronavirus post winery retail store include trellis room close public monday march closure limit hours announce follow week mon mar post wine available local store well',\n",
       " 'get contact work say work due covid coronavirus outbreak paypal beemit support online shop addiction also pay groceries wherever find shelfs supermarkets empty',\n",
       " 'stockup compassion amp love not tissue paper covid coronaoutbreak falsepanic coronavirus worldshutdown',\n",
       " 'panic grocery shop not necessary put people risk talk several supermarket employees elderly worry health customers crowd store',\n",
       " 'foodsafety tip coronavirus outbreak include immunocompromised opt pre package fruit vegetables',\n",
       " 'help eat well limit movement coronavirus crisis download applications smartphones make easier recover food time find restaurant grocery store near deliver healthy meals home',\n",
       " 'wake covid work agencies secure access allotments ensure get cattle sheep get market consumer plat additional detail share become available please reach question concern',\n",
       " 'covid impact supply chain trade workforce much put together guide business leaders know find',\n",
       " 'pharmacies shop sell hand sanitizers ridiculous price think smart mother siblings infect people afford sanitizers high price know smart ignoranthumans coronavirus',\n",
       " 'please let lil math shall people grocery store one time many actual customers allow due number workers milwaukee coronavirus highriskcovid covid',\n",
       " 'tech giant alibaba largest grocery store chain beijing fare amid coronavirus outbreak china check interview store manager coronaviruspandemic covid',\n",
       " 'mypov chatter background full lock weeks true folks want make plan stock food water things cash etc preppers already could last wks peak transmission coronavirus covid sarscov',\n",
       " 'homebound due covid work cramp condition set home workstation room coronavirus consumer report',\n",
       " 'guy take whole coronavirus stride sensible not panic generally enjoy self isolation stoppanicbuying staysafe covid mainecoon',\n",
       " 'today go supermarket buy groats pasta remain shelve covid',\n",
       " 'please could let know address issue register multi specialty clinic mis sell mask inflate price cash current crisis covid bengaluru',\n",
       " 'plenty food country americans alarm empty grocery shelve food suppliers amp retailers say struggle surge demand insist supply chain remain strong panicbuying coronavirus',\n",
       " 'shoppers bulk buy need panic stock excessively enough food supply per ministry importantly remember keep older adults thoughts bulk buy covid coronavirus',\n",
       " 'texas health resources coronavirus covid consumer hotline speak register nurse morning able answer question great resource',\n",
       " 'prevention better cure let beat coronavirus wash hand frequently soap wear mask use clean cloth cover mouth crowd place try make one meter distance strangers eat homemade food much possible let not panic',\n",
       " 'supermarket chain kroger say two employees test positive covid virus recover one employ king soopers grocery chain colorado fred meyer grocery chain washington state',\n",
       " 'big box retailers go less rule suggestion many store employees alone customers enter store coronavirus retail',\n",
       " 'pls tell pharmacist drop price sanitizers cruel africanhistoryclass covid taxidrivershow taxijam blackpot',\n",
       " 'much online shop right company start run coronavirus sales like whole website type sales lol',\n",
       " 'trump willfully ignorant amp deliberately blind media far accurate king lie market react',\n",
       " 'online shop way covid stuff',\n",
       " 'despite efforts opec affect coronavirus oil market go short sharp shock startof prolong period lower price ehsan haq talk roger hirst datanow trusteddata',\n",
       " 'know like lot kind freak nervous remember protect kind extreme measure work tell stick figure sound effect voice',\n",
       " 'question remain impact coronavirus communities mean consumer spend pattern corporate confidence regions asset management perspective market react week',\n",
       " 'adobeexpcloud online shop behaviors surge last weeks trend takeaways top retailers',\n",
       " 'consumers industries include food drink beauty retail health wellness react covid pandemic via',\n",
       " 'demand reps defund border wall amp put bil fight coronavirus need money sick leave food student loan mortgage businesses expense covid test treatments etc sick people sta',\n",
       " 'coronavirus place war foot follow money bond amp stock crash bother hand wash food run amp money run dry demand supply fuck loot amp shoot',\n",
       " 'economic perspectives global inflation perspectives march consumption fold grow uncertainty around covid trigger panic buy government toilet paper alike consumer confidence survey soon reflect',\n",
       " 'walmart cut store hours restock retail giant reduce store operate hours give employees time restock shelve clean sanitize store retail restock store coronavirus walmart retailtrends',\n",
       " 'amp sales hit billion coronavirus prompt store closure',\n",
       " 'supply line refer market react downturn consumer activity covid not dispute cause dow',\n",
       " 'think ones stock pile toilet roll could hygienic ones cough tissue not hand ones store food could buy nan young children coronavirus',\n",
       " 'look bright spot study show baby spar severe covid symptoms',\n",
       " 'wow people daughter work retail store still open barely today woman yell daughter stand close child hey keep kid fuck home lady covid shit make people assholes stupid vile',\n",
       " 'retail outlets like renton customers non essential items even line morning store open place hub spread virus especially corona',\n",
       " 'new york amazon say monday need hire people across keep crush order coronavirus spread keep people home shop online online',\n",
       " 'produce section local supermarket college morning covid toronto',\n",
       " 'newzealand beef export canada surge export previously go china rerouted canada month month sales thank cptpp market go price arbitrage new zealand packers profitable',\n",
       " 'hoarders americans stockup supply virus fear spread live offgrid escape coronavirus pandemic',\n",
       " 'elizabeth warren target go need beat covid consumer demand return',\n",
       " 'big pharma get language coronavirus bill prevent government limit profit future vaccines even though many drug company receive fund government combat pandemic even national emergency big pharma win',\n",
       " 'full list',\n",
       " 'look like father would put restriction still bank grocery store gas station not hang del taco play friends pass diligent appreciative coronavirus',\n",
       " 'keep hand sanitize safe whole day let minimise chance contract deadly covid still enough large portable hand sanitizers amp face mask available stock order deliver doorstep around kampala',\n",
       " 'see price items place order deliver doo',\n",
       " 'mondaymotivation quarantinelife covid nothing else hope give wallstreet new find appreciation term consumer drive economy stop try hoard tax payer fund money planet shore account',\n",
       " 'thoughts raw prognosis accord covid everyone sit home internet traffic grow food retailers earn lot raise demand tool service power remote workflow bitcoin fall technology still strong',\n",
       " 'consumer reporter vicky ngyuen not qualify answer medical question facebook anywhere regard coronavirus justsayin',\n",
       " 'due respect request bring consumer protection agncy action hold medical suppliers tkng advntge covid mask mrp sell amp sanitizers sell middle class survive poor suffer',\n",
       " 'town past days struggle stock fridge essentials get family week empty fridge trip food waste speechless coronavirus quarantinelife',\n",
       " 'head shop stock pile purpose mind sell inflate price ashamed stoppanicbuying coronavirus',\n",
       " 'seriously though higher risk catch covid work supermarket everyone dog flock shouldnt get hazard pay',\n",
       " 'survive supremecourt today atleast think always carry sanitizer mask still not sure safe chant corona corona coronavirus',\n",
       " 'huh health plan broad push around covid plan saw follow industry not get consumer communication every retail company whose email list belong wonder',\n",
       " 'shoppers form long queue outside supermarket amid coronavirus fear bushey',\n",
       " 'new jersey gov phil murphy order bar restaurants shut effective today except take food smlr ashley conway talk ahead businesses employees coronavirusnj njcoronavirus',\n",
       " 'coronavirus prompt wave store closure',\n",
       " 'afford panic buy items bulk afford donate local food bank leave try pick scrap leave behind stop selfish together covid coronavirus panicshopping',\n",
       " 'thread track coronavirus responses weeks since ask list best class responses around world various facets problem coronavirusoutbreak covid',\n",
       " 'recently release pressrelease detail ways protect wallet deal covid virus learn covid staysafe scdca',\n",
       " 'coronavirusinpakistan',\n",
       " 'shanghai shop mall almost empty due consumer confidence worsen economic circumstances normally retail store spring bargain sale season china nobody come sad coronavirus covid retail',\n",
       " 'see many even big account go absolutely apeshit virus don let define negativities life know easy engagement stay course',\n",
       " 'providers feel sick consumer feel sick seek medical advice attention please call consumer ihss social worker unable work coronavirus ihss sanfrancisco',\n",
       " 'amzn new article amazon delivery infrastructure strain covid outbreak spark surge online shop get latest amzn relate news',\n",
       " 'shopkeepers sell mask highly price actual cost kindly think humans variety earth request provide free mask people punjab coronavirusoutbreaks covid',\n",
       " 'would love practice social distance occupation allow monitor self service area retail store require remain area assist customers need greatest fear get covid unknowingly',\n",
       " 'fear panic seem grip first time today saw food shelve rack empty sainsbury tesco near look real approach doomsday coronavirus',\n",
       " 'supermarket shelve clear fast covid coronavirusnz coronaviruspandemic chch',\n",
       " 'least privilege enough drive place stop think without easy access transport less able travel multiple shop please people start think others stoppanicbuying coronavirus',\n",
       " 'go melbourne today pick grandma hospital wear mask gloves coronavirus covid aus stopthespread stoppanicbuying',\n",
       " 'anyone suspect price gouge covid relate fraud file complaint online contact state division consumer affairs call leave name message name address business njcoronavirus',\n",
       " 'gabon pangolin sales falter covid time tell extent consumer behavior affect remain vigilant proactive gabon les vent pangolin flanchent avec covid via',\n",
       " 'greed death essential commodities sweep supermarket shelve rich already enough sustain leave bare minimum nothing poor please refrain unnecessarily buy bulk coronavirus',\n",
       " 'message isb covid amp business continuity partner clients vendors consumer report agency cognizant ever rely accurate verify data ensure identity candidates staff may remote',\n",
       " 'nyt look yes whether workers sick leave last year take dive top restaurants offer covid outbreak pretty',\n",
       " 'ask workers ask restaurants top offer outbreak hint not good',\n",
       " 'think',\n",
       " 'felt way put list together top chain get ready severely restrict options',\n",
       " 'supermarket checkout staff cannot handle people debit credit store card etc cut transmission risk covid problem touch food package also touch possibly also touch unknown persons',\n",
       " 'retailers step fight coronavirus chain store age retail walmart pittsburgh coronavirus coronapocolypse',\n",
       " 'online shop sunday true lifeline many elderly disable vulnerable customers unable get store coronavirus',\n",
       " 'people please stop stock pile food finish full time nurse shift shelve empty covid coronapocolypse coronavirus coronavirusoutbreak covid',\n",
       " 'thread china role wildlife trade come greater scrutiny whether push entire species brink extinction run animal farm endanger species prc principal consumer wildlife trade coronavirus covid',\n",
       " 'quarantine coronavirus elderly food people ask quarantine days right away homebound not everyone access supply know online shop many old alone sick without help govt need think',\n",
       " 'model study suggest stealth transmission sars cov due high number contagious undocumented infections support rapid geographic spread coronavirus outbreak china',\n",
       " 'coronavirus show anything selfish arseholes people crisis food toilet roll shortage stop stockpile make harder people buy actually need stoppanicbuying stopstockpiling',\n",
       " 'wait outside supermarket los angeles rainbow hope covid rainbow',\n",
       " 'bakkt march towards summer launch consumer app close series app bakkt blockchain covid crypto digitalsecurities ice seriesa seriesb securitytoken sto securitytokens digitalsecurities',\n",
       " 'not businesses employees work home retail restaurants coffee shop entertainment venues optometrists grocery store bodegas non profit work field veterinarian offices dentists mail center like up store',\n",
       " 'fight corona virus covid don forget show gratitude towards help front line doctor nurse healthcare workers police fire fighters emts supermarket workers',\n",
       " 'yeah imagine economy much better shape not fudge data hide ongoing degrowrth oil price better correlate crude price course pogroms muslims kashmir elsewhere respond covid',\n",
       " 'nothing like little contagion stimulate surge consumer activity covid coronavirus',\n",
       " 'coronavirus go get worse foresee people maxing credit card buy food amp etc panic buy amp intention pay back credit card loan people already stretch crisis economics finance',\n",
       " 'people need kind importantly need stop hysteria millions lose livelihood panic not virus number not make sense nomoreclosings coronavirus stopthepanic pandemic stoppanicbuyin',\n",
       " 'day social distance start little stir crazy practice new supermarket sweep pointers covid lockedupwithatoddler',\n",
       " 'past week absolute nightmare may ask work grocery store let tell people assholes grocery store nice people work put live risk coronavirus',\n",
       " 'sales gun ammunition soar amid coronavirus panic buy people enough gun yet knives huh food toilet paper coronavirus toiletpaperpanic gunsandammo',\n",
       " 'chaos ensue indian grocery store bay area folks buy enough stuff sustain months black friday kind queue outside store covid bayareacoronavirus',\n",
       " 'people avoid online shop portals china thank covid',\n",
       " 'coronavirus selfisolation online shop not really option many place not accept new order week half wait get order',\n",
       " 'forget gloves check grocery store hold hon right back return bag produce bettersafethansorry covid',\n",
       " 'although make drama show empty shelve panic buy epicenter coronavirus outside seattle fine line lot food thank note support local community shelter',\n",
       " 'play supermarket bingo get everything need probably not covid headache covid',\n",
       " 'much afraid total lock cause thousands people starve death not die covid think fellow human be run supermarkets stock households food live day',\n",
       " 'okay also worry get food due stock pile code first hello fresh box jhx wml covid covid coronavirus coronavirusoutbreak',\n",
       " 'retailers primark kingfisher warn coronavirus pandemic hit sales store closure europe via retail primark coronavirus',\n",
       " 'coronavirus dinner plan till end month kid friendly picky eater approve coronavirus mealplan mealprep stockup coronapocolypse howtokeeppeoplehome covid schoolclosure quarantinelife',\n",
       " 'amazon delivery infrastructure strain covid outbreak spark surge online',\n",
       " 'appreciate feel life saver plan listen way supermarket normal weekly supermarket shop go supermarket quite surreal experience give covid',\n",
       " 'video people fight get supermarket touch people risk covid infection could stockpile incase contract covid cannot stress enough fuck covid stockpile morons',\n",
       " 'know lot grocery store low stock items need something right away try dollar store bodegas drug store ask friends neighbor find things grocery store sell dollar store yesterday coronavirus',\n",
       " 'recent surge online shop affect local retail biz may able help smallbiz covid coronavirus',\n",
       " 'great source covid data update daily prudent stop freak way noise fact time yell fire crowd supermarket',\n",
       " 'work howard county grocery store toilet paper hand sanitizer meat amp chicken coronavirus',\n",
       " 'covid change consumer purchase habit rapidly globally good news pattern action transition pantry prep quarantine prep ready coronavirus supplychainmanagement',\n",
       " 'pick smart device start order kuwait tons great online shop sit daily need finger tip trust follow safety measure kuwait law due coronavirus thankingkuwaitcorona',\n",
       " 'dear store please stop tempt boredom online shop deal work sit bum like month nope quarantinelife coronavirus',\n",
       " 'fmi highlight coronavirus not foodborne ensure food supply coronavirus covid spark consumer concern fresh foods fmi food industry association stress covid not foodborne illness',\n",
       " 'nike urban outfitters armour retailers close store amid rapidly spread coronavirus pandemic coronavirus',\n",
       " 'join amp organisations recognition little relief long way thousands struggle due covid consumer action law centre time energy amp bank sectors get behind community',\n",
       " 'need part slow spread covid practice social distance result close retail store richmond end march still shop online take care stay safe everyone',\n",
       " 'staythefuckhome set special section great cult film also cut price film pack film film stay home stay safe cinephile stayhome covid title geo block',\n",
       " 'technical glitch amazon wreak havoc wholefoods prime amazonfresh order tonight panic buy coronavirus outbreak highlight limit amazon delivery',\n",
       " 'yall think coronavirus thing yall worry yall get another thing come stock market blood bath right people go lose job people go lose food stamp section medicaid pretty soon social security',\n",
       " 'even though answer question best thing read yet toilet roll supermarket psychosis fascinate piece',\n",
       " 'honest god tell say today work people stick home large supply food wine demand go get second baby boom like coronapocolypse coronavirus babyboom',\n",
       " 'want stop toilet paper shortages hoard easy normal price first pack ten time subsequent pack repeat essentials coronavirusoutbreak coronavirus stoppanicbuying',\n",
       " 'well happen tonight receive message walmart grocery support inform pickup delivery groceries available store next week glad manage get small order deliver toda',\n",
       " 'new face clean man wear face mask precautionary measure coronavirus covid walk past retail store front sydney australia covid coronavirusaustralia',\n",
       " 'governor cuomo please order retail businesses close husband work expose virus store owners not close unless tell two friends fight live please close store',\n",
       " 'today go supermarket since food home work nonstop help colleagues children work get dispatch things portugal still open say covid covid covid',\n",
       " 'san francisco curfew residents ban leave home midnight tuesday anything doctor visit grocery shop fight coronavirus sanfrancisco curfew lockdown coronavirusoutbreak coronavirus',\n",
       " 'god even come list groceries need buy estimate spend mins max supermarket akka fuck come hours wtf covid',\n",
       " 'coronavirus influence sectors economy ripple effect impact dairy industry already batter years depress price',\n",
       " 'already garden plant carrots preparation food shortage corona',\n",
       " 'essential commodity act mask sell fair price unfair display business go covid coronapocolypse coronaindia coronaviruspandemic',\n",
       " 'stock socialdistancing item wic symbol beside price get something else people use wic fee kid switch another brand kind food store run wic approve options home empty hand mepolitics',\n",
       " 'due covid cancel flight book date march makemytrip cheat consumer not provide refund even circular provide free cancellation',\n",
       " 'coronavirus covid spark consumer concern fresh foods stress covid not foodborne illness coronavirus covid foodsafety foodindustry',\n",
       " 'link info communicate children regard covid manage stress talk kid',\n",
       " 'run grocery store pick things dinner go get bottle lime juice shelve bare vote biden bernie amp expect shit daily biden give money illegals bernie pay bread coronavirus',\n",
       " 'unfortunately cancel next event due covid health wellbeing attendees speakers staff ultimate priority sorry disappointment cause faqs answer link',\n",
       " 'give press conference minutes ago appear everyone go online shop crazy want check next available delivery slot coronavirus covid',\n",
       " 'many concern surround grocery store stock coronavirus pandemic org president ceo leslie sarasin reassure information resilience grocery store supply chain',\n",
       " 'please sign petition give elderly amp vulnerable first hour supermarket trade',\n",
       " 'stay safe realize bad online room week last week grocery shop everything fine coronavirus sorry bout cap',\n",
       " 'crude oil price drop per barrel monday amidst ongoing coronavirus outbreak price war saudi arabia russia covid',\n",
       " 'amazon delivery infrastructure strain covid outbreak spark surge online shop monica nickelsburg geekwire',\n",
       " 'know lightly saute add everything bagel season trader joe enough food family stock people coronapocolypse coronavid toiletpaperpanic coronavirus covid',\n",
       " 'go grocery store today toilet paper fruit meat pasta tomato sauce cleaners disinfectant cereal coffee margarine diet coke try covid',\n",
       " 'mean huge shift increase online shop esp grocery healthcare many retailers business model put test store close malls reduce hours canada amid covid pandemic',\n",
       " 'covid cut last two legs three legged stool consumer service industry disappear print fiat money prop zombie bamksters corporations',\n",
       " 'quickly find supermarkets local store run supply look hospitals pharmacies coronavirus require get medical service type location coronavirus covid groceries medicine data poi map',\n",
       " 'think many anxious things like not get enough food selfish panic buyers worry amp many already meds anxiety amp schizo affective disorder miss boyfriend like crazy',\n",
       " 'company minimise covid effect market traffic brand need agile time crisis events like change consumer behaviour',\n",
       " 'guy still open basically largest tech store let alone world probably guy may help spread covid employee could asymptomatic case every customer talk could get virus',\n",
       " 'student resources covid',\n",
       " 'pattaya makro full shoppers thais foreigners stock food items thailand coronavirus covid',\n",
       " 'club shut bar shut restaurants shut gym shut grocery store nightmare fuel seriously work grocery store retail general sympathy coronavirus',\n",
       " 'send several email covid effect family express fear job loss money buy food pay rent mortgage ect demand policy even temporary mandate asap call leave message',\n",
       " 'can goods local grocery store coronavirusoutbreak coronavirus coronavirusupdates panicbuying covid covid covid repost quarantinelife quarantineandchill socialdistance staythefhome corona wtf',\n",
       " 'walk two half miles supermarket last night quieter usual eerie suspense permeate dessert aisle desert almost staple egg bread pasta etc covid',\n",
       " 'still part community even stay home stay positive alonetogether',\n",
       " 'consumers energy suspend service shutoffs senior citizens low income customers covid outbreak',\n",
       " 'amazon hire additional employees meet surge demand online shop amid coronavirus outbreak company say monday job',\n",
       " 'one damage sectors coronavirus usa consumer discretionary sector firmly sell system see chart key cloud buy sell xly stock luxury trade invest covid covid covidusa',\n",
       " 'coronavirus watch online shop delivery expect surge case coronavirus increase coronavirus coronavirusoutbreak foodinstitutefocus foodinstitute food foodindustry delivery fooddelivery',\n",
       " 'panic buyers stock milk meat veg waste food past expiration date shame coronavirusuk coronavirus covid coronapocolypse',\n",
       " 'new coronavirus package hit roadblocks amid gop opposition',\n",
       " 'update coronavirus seattle local employee say talk limit number people enter retail store time mean grocery store would affect',\n",
       " 'healthy person not show symptoms covid complain not test available bad panic buyer hoard food supply test available million people soon possible anywhere',\n",
       " 'people shop online instead visit brick mortar store days store ready weather storm easy commerce solution tailor make specialty run store ecommerce shoplocal coronavirus',\n",
       " 'enough food assure',\n",
       " 'appeal americans take step protect ensure virus spread',\n",
       " 'cat state consumer right defend china cautiously adjust change covid situation home abroad',\n",
       " 'covid already exist virus recently enhance effect elderly scare world go nearest supermarket buy products governments able receive money world fuck globally economically etc sure get',\n",
       " 'profit consumer health concern online scammers may set fake websites send email texts post social media sell fake products claim cure prevent covid',\n",
       " 'hang everyone get support please don strip supermarket shelve empty think elderly neighbour relatives might run essential coronavirus randomactsofkindness',\n",
       " 'take time appreciate unsung heroes coronavirus crisis grocery store cashier',\n",
       " 'prelim march data univ michigan show consumer sentiment index fall additional decline likely covid accelerate thinkwhyitmatters',\n",
       " 'regina food bank anticipate demand use less supply donations covid cbc news',\n",
       " 'happen grocery store delivery driver test positive covid end coronavirus coronavirusoutbreak coronapocolypse',\n",
       " 'shame hoard really hurt people ashley preece wheelchair groceries deliver order arrive toilet paper even food cat stophoarding coronavirus covid',\n",
       " 'absolutely start panic partner last month get cheap food shelve empty life struggle covid coronavirus',\n",
       " 'political tribalism impact consumer sentiment covid',\n",
       " 'helpers not nurse doctor grocery amp delivery shopper workers verbally assault lot last week store outages go continue least tip service get covid coronavirus',\n",
       " 'change pace toilet paper madness exploitation coronavirus hoard',\n",
       " 'berlin supermarket like people eat toilet paper covid coronavirusoutbreak covid corona',\n",
       " 'disable drive everyone panic book online shop anywhere people like rely online food deliveries go survive longer get',\n",
       " 'drop trader joe pick salads since work home week fave salads stock go freeze food section entire aisle completely empty exaggeration except desserts traderjoes coronavirus',\n",
       " 'low income adults typically cannot afford stock food federal state amp local responders need consider target solutions like implement prince george county covid crisis',\n",
       " 'market tank globally think trade halt price fix place account freeze till case drop nothing phase back slowly covid covid',\n",
       " 'diesel cost cents gallon less year ago price fell regions country midwest saw biggest decrease cents dieselprice dieselfuel fuel coronavirus',\n",
       " 'trastra card best way make safe online transactions shop less human contact coronavirus season',\n",
       " 'look somebody park safeway oakland parkinglot lol coronavirus stockup apocalypse',\n",
       " 'update worry covid drink turmeric tea ginger lemon amp honey herbal tea every day without sugar get sainsbury supermarket amp asda safe folks renetrevor',\n",
       " 'self quarantine online shop hope bank open settle may need small personal loan sos covid',\n",
       " 'hey employees aldi trader joe store deserve pay sick time supermarket workers face exposure covid amp illness need need able stay home sick',\n",
       " 'sad part supply food exhaust cause panic stockup covid kill people fight survival amp panic makro coronavirussouthafrica',\n",
       " 'due recent covid concern amp commitment safety customers employees adjust store schedule hours base current work load retail locations available part via online part portal',\n",
       " 'covid covid pump money economy lower interest rat not go solve economic problem people lose job not earn draw fund bank buy food government action stop demand non essentials',\n",
       " 'consumer concern finance due covid best way advisers provide reassurance',\n",
       " 'supermarket amp true enough shelve empty specific product let make clear buy trolley load toilet paper case get flu bug fuckin virus unlike covid never cure type',\n",
       " 'ftc post coronavirus information fda post coronavirus disease covid infromation stay safe',\n",
       " 'smith food amp amp drug store today announce hire workers immediately deal increase demand response covid covid valenciacounty smiths hire',\n",
       " 'look price well mrp openly covid',\n",
       " 'commerce giant say blog post saturday surge online shop coronavirus outbreak spread weigh company number case unite state surpass sunday covid amazon',\n",
       " 'learn mintel experts trust source consumers industries include food drink beauty retail health wellness react covid pandemic marketresearch consumerinsights consumerbehavior trustedsource',\n",
       " 'urban outfitters nike major retailers temporarily close store unprecedented move prevent spread coronavirus coronavirus retail',\n",
       " 'entity calculate business consumer loss indian economy happen financial year end due overhyped virus bomb finally global war invisible virus covid indiavscorona',\n",
       " 'behalf peer supermarket industry provide around clock labor order serve public please breathe refill fast possible supply chain demand grocerystores wholefoods covid',\n",
       " 'happen across country right coronapocolypse coronavirus supermarketsweep stoppanicbuying',\n",
       " 'sellers gouge price souq amid coronavirus panic read covid amazon',\n",
       " 'food bank expect heighten demand change distribution methods due covid read story',\n",
       " 'uncertainty begin describe economic condition bring efforts slow spread covid american consumer essentially tell stay home economic activity stop doubt slow',\n",
       " 'humane society eastern carolina hsec take step help prevent spread covid still work toward mission find forever home animals care',\n",
       " 'seniors pension card holders try make dedicate shop hour set major supermarket chain vulnerable people midst covid outbreak',\n",
       " 'chick fil temporarily close din room seat restaurants due covid concern company say hope change limit person person contact',\n",
       " 'come soon press conference regard consumer issue relate covid outbreak watch',\n",
       " 'clean aisle day',\n",
       " 'begin regret not purchase junk comfort food grocery store friday morning coronavirus',\n",
       " 'wait food shop arrive many items think stock coronavirus',\n",
       " 'anticipate billion revenue loss account depress energy price impact slow business result covid trinidad tobago finance minister',\n",
       " 'news alert follow regulator fin read',\n",
       " 'alert follow coronavirus read',\n",
       " 'walter white cautious dude outside grocery store montreal coronavirus',\n",
       " 'anyone worry food supply self isolation seriously consider nutrients need survive full protein help heal easy stock store deliver door minimise spread covid',\n",
       " 'panic buy waitrose via',\n",
       " 'covid friend mine work muji store muji decide not pay employees decide take leave coronavirus colleagues launch petition could help sign would amaze',\n",
       " 'elderly person couple cant make grocery store simply want happy know someone need around lewisville frisco please well try figure coronavirus',\n",
       " 'global situation coronavirus bold proof crucial ecommerce become society big potential every retailer still',\n",
       " 'stay safe home avoid coronavirus experience hassle free online grocery shop instead deliver free colombo suburb order groceries contact',\n",
       " 'also ask people express solidarity refrain hoard essential items include medicine hoard create shortages medicine essential products exacerbate suffer covid coronavirus',\n",
       " 'like sure touch videos people applaud healthworkers balconies stories people offer grocery shop older people community covid coronavirus',\n",
       " 'piano technicians guild ptg compile advisory explain disinfect piano prompt continue concern corona virus covid document publish world piano news website',\n",
       " 'malaysia lock covid supermarket finish stock panic buy via',\n",
       " 'philippines see people hoard supply repacking smaller bag containers sell overly high price dear fellow filipinos shame rest waste space earth covid',\n",
       " 'covid update please note website shop cart online train remain available time staysafe',\n",
       " 'financial market meet covid explain pretend global economy shop mall marketplace supply stuff shop demand consumer buy stuff thread',\n",
       " 'crazy work place like trader joe costco grocery store right everyone tell isolate self quarantine bill contact people day work class people pay price every time coronavirus',\n",
       " 'since january yougov gather data different facets america affect covid shift consumer behavior voters participate democracy brand impact explore find',\n",
       " 'limit trip grocery store every two weeks physicaldistancing highriskcovid coronavirus covid coronaviruspandemic staythefhome',\n",
       " 'break store close include company flagship store freeport start midnight time company history store close first time hours newscentermaine',\n",
       " 'draft covid response emergency amendment act address wage replacement business relief amp additional authorities amp exemptions regard health public safety amp consumer protection',\n",
       " 'imo not close bottom contrary popular option bitcoin not gold investors worldwide go risk crypto price continue fall result wait opportunity covid pandemic cryptoc',\n",
       " '',\n",
       " 'meat chicken pork leave grocery store still get deliver house get amp free box dice chicken breast use link affiliate spend free ship coronavirus covid',\n",
       " 'local news covid may impact real estate market via realestate homebuying',\n",
       " 'ingenious product placement local grocery store handwash sanitizer condoms facemasks diy quarantine kit welcome scorpions go bear pandemic coronavirus covid womeninstem medtwitter',\n",
       " 'wish people would remember kind supermarket workers amidst covid chaos restrictions place control people also put health risk stay work serve people not everyone luxury able self isolate',\n",
       " 'thank grocery store worker endure chaos trauma uncivilized days coronavirus covid groceryshopping grocerystore grocer thankyou thankful thankunext',\n",
       " 'guess job solution help prevent covid open store one hour later make sure students update availability since extend spring break love work retail',\n",
       " 'covid get online shop',\n",
       " 'sir pls close retail store like croma store vijaysale store work risky pls sir closetheretailstore coronavirus',\n",
       " 'affraid covid spend whole even crowd supermarket',\n",
       " 'one way howtokeeppeoplehome help make easier get deliveries food items home currently demand rideshare cratering covid crisis delivery demand increase though',\n",
       " 'seattle provide supermarket vouchers thousands families coronavirus crisis mayor say families help buy food clean supply household goods',\n",
       " 'not supermarkets let risk citizens elderly etc grocery shop hour first thing every without crowd clean store coronavirus coronavirusseattle',\n",
       " 'prediciton not need boost bore quarantine buyers shop till drop sofa days online shop crush retail long covid pass',\n",
       " 'panic buy reaction coronavirus mean drop donations foodbanks also struggle buy supply grocery store feed america establish covid response fund help food bank coronavirus pandemic',\n",
       " 'covid make spain lockdown gotta work supermarket offer basic service life suck',\n",
       " 'would hope news help get word help protect grocery store clerk expose every second crowd people restrictions protection please help get social distance restrictions nycs',\n",
       " 'thank grocery store employees farmers truckers healthcare workers retail employees still work essential individuals offer live help fight covid',\n",
       " 'covid go not humanity leave help friend unable supermarket disability disgust behaviour people tell need panicbuying yet',\n",
       " 'kind',\n",
       " 'extreme couponers stock toilet paper food must vibing hard coronavirus',\n",
       " 'slim pickins supermarket require creativity cook anyone else feel like episode chop coronavirus covid',\n",
       " 'demand rise since people fill fridges storerooms demand increase price increase may lord help poor covid',\n",
       " 'smart pragmatic give consumer amp small business home broadband customers unlimited data additional charge april detail',\n",
       " 'covid joke well aware issue bigger moment people still place survive worker rather grocery store fast food retail wherever remember put risk',\n",
       " 'head extinction level event consumer brand operate digital first model may not survive traditional store experience already life support covid massive accelerant trend',\n",
       " 'saw someone share kind food stay away covid raw meat sugar milk engineer know fact milk amp sugar available supermarket pasteurisation process bacteri',\n",
       " 'panic buy weed instead food covid know live',\n",
       " 'items stockup stockpile besides water pasta can goods juice diapers toilet paper marry two kid doomsdayprepper coronavirus',\n",
       " 'coronavirus live update france struggle curb covid spread download epoch time app see exclusive coronavirus coverage daily update',\n",
       " 'coronavirus world could soon run load pussys play xboxs amp playstations never do day work self isolate constantly shop online minecraft city whilst drone delivery monkey spankers food',\n",
       " 'need toiletpaper try ebay get bulk sellers reasonable price get california seller coronapocolypse covid welcome',\n",
       " 'things keep busy run walk outside get tax do online shop catch old friends binge movies show reschedule event work learn cook covid pandemic coronapocalypse coronavirus coronavirususa',\n",
       " 'go shop even shelve empty mad disgust selfishness people hoard food panic buy pointless hand covid',\n",
       " 'real shit act like drop dead get coronavirus whole thing baffle believe government behind shit say say finna stock food ctfu',\n",
       " 'stock socialdistancing see something label wic please choose another brand people rely wic products fee kid cannot together',\n",
       " 'many get fire job covid nothing open supermarket never basic things situation suck badly honestly danish government handle really great quickly get bad bad',\n",
       " 'don die covid die lack food yall do take everything supermarket jalanalanakanakakak',\n",
       " 'also old enough stay home without guardian students prefer risk everyone shop time give reality check half generation find joke waste time make stay indoors complete school online covid',\n",
       " 'city chicago department business affairs amp consumer protection bacp solicit feedback develop resources measure support small businesses impact covid survey',\n",
       " 'either coronavirus kill starve death online shop total ing meltdown well',\n",
       " 'wonder cash register person food service covid take sick leave cause none see doctor cause don health insurance not offer try not panic though america sickofwinning',\n",
       " 'socially distance kitchen next hurdle socially distance unnecessary online shop coronavirus quarantinelife',\n",
       " 'buy days worth food supply stock pile boris conference mins ago say sensible thing within reason stockpile covid quarantinelife',\n",
       " 'expect big announcements tomorrow bangkok coronavirus stay tune everybody time stock food supply last least week let hope things get normal soon',\n",
       " 'pls stop panic buy hoard food rest constantly look food not help efforts contain covid',\n",
       " 'covid panic pascal montagne degres panic france french covid food shortage paranoia disease health pandemic',\n",
       " 'sound like good idea market offer special hours seniors shop yes coronavirus',\n",
       " 'thread interest see impact covid number things result work home self isolation online behaviours change stick online shop delivery service media consumption',\n",
       " 'please stop unnecessary panic buy look affect please stop unnecessary panic buy look affect please stop unnecessary panic buy look affect',\n",
       " 'stock not limit store go minworth store tonight saw someone like pack nappies sad tbh especially seem see today mother struggle find nappies food corona',\n",
       " 'psa work mall store close well fuck capitalism want know difficult retail people food industry choice work please not necessary please avoid mall coronavirus',\n",
       " 'like think ways part reduce transmission covid canada close retail store head office montr temporarily weeks nothing',\n",
       " 'little bite relieve see government change direction covid strategy hope calm nerve grocery shoppers hope stock supermarket wednesday',\n",
       " 'coronavirus make look bad economy take dive help votebluenomatterwho people really see democraticsocialism really look like store shelve bare nofood trump maga kag',\n",
       " 'amount anxiety stress work grocery store time grocerystore retail coronavirus',\n",
       " 'panic buyers supermarket like coronapocolypse coronavirusoutbreak covid covid covid france panicbuying',\n",
       " 'love start become another tool unnecessary panic everyone need stop post stories lack food not able keep demand problem coronavirus wuhancoronavius wuflu',\n",
       " 'grocery store everything mon people get fuck grip bullshit paper towel wipe miles amp miles find may come use underwear amp go commando maryland aacounty coronavirus emptyshelves trump wwg wga',\n",
       " 'miss go shop online offline need back normal corona create barrier public transport ain need do already enjoy man covid coronapocolypse coronavirus',\n",
       " 'get quarantine shoukd stock food coronavirus covid walkout housearrest',\n",
       " 'amazon may hire keep surge order coronavirus spread via',\n",
       " 'country suffer disease covid serious don even money stock food don money take family check disease cost high need usa money support fami',\n",
       " 'panic buy first infection covid usa covid',\n",
       " 'love food town grocery store chain offer senior hours customers covid covid houston',\n",
       " 'pls don yell retail employees not fault store run alcohol hand sanitizer toilet paper go like rest time fear confusion please don forget kind covid',\n",
       " 'soooo retail workers get close many people let store really need answer coronavirusoutbreak coronavirus coronavirusny',\n",
       " 'covid gonna work home handle covid gonna ration stock food handle covid gonna not see friends ever',\n",
       " 'want answer coronavirus question big small drive spring break put risk go grocery store get food deliver safe fill questionaire',\n",
       " 'school universities close month fine covid corona quetion many shopkeepers sell mask high price afford others fanforever',\n",
       " 'feel bad place jsc order not think covid figure shop online would okay happen fine wait understand since things close still want items lol',\n",
       " 'son niece lose job pizza hut drive thru operate panic covid son caregiver help food car repair solution people like',\n",
       " 'fuck call covid isnt gonna kill since gonna kill eachother due fuck food shortage panic gonna mere virus fuck apocalypse due shit go right gonna cause damn downfall',\n",
       " 'shop close supermarkets groceries pharmacies open take away restaurants open photos well stock supermarket',\n",
       " 'relax stay calm majority case mild bulk people recover especially healthy young person best thing help keep others safe stock enough food water supply amp stay home weeks love',\n",
       " 'work overnight retail major sport goods store find mind boggle still woman also live year old mother another guy whose work come people covid stayhomechallenge',\n",
       " 'los angeles residents bulk buy firearms amid fear food shortage continue sweep across',\n",
       " 'queue buy gun buyers tell scar happen people run food supply need protect families live panic hit',\n",
       " 'realize much online shop many businesses email address send closure covid least indicate workers get pay',\n",
       " 'face significant uncertainty due pandemic want take moment thank hospital staff first responders grocery store employees community pharmacists lab technicians everyone else front line crisis true heroes',\n",
       " 'barely anyone buy cars amid consumer spend demand growth cripple world biggest oil import market expect similar chart emerge soon hit',\n",
       " 'elderly people amp families not able buy groceries people buy every damn thing go greedy mother fuckers not food shortage normal shop amp think others',\n",
       " 'know panic buy food leave season aisles full go quarantine unseasoned food',\n",
       " 'covid spark panic buy many smaller local shop demand cash sales asylum seekers rely shop use aspencard cash food essentials kid hostileenvironment',\n",
       " 'dubai base majid futtaim say reduce work hours malls operate eight hours exclude supermarket chain carrefour pharmacies within malls measure stop spread',\n",
       " 'seriously grocery store regular sugar flour apparently gonna fight covid bake goods',\n",
       " 'majid qasabi minister film today personally inspect stock availability food amp goods supermarkets say severe penalties price manipulations',\n",
       " 'far minister not seem make statement catastrophe develop issue market operation not address food insecurity potential make current covid panic look like kindergarten could lead riot submit',\n",
       " 'untransformed supermarket chain retailers coin back consumer panic cause covid pandemic confiscatory price practice must ask need blackfriday anyway steep discount cream get covid greedybastards',\n",
       " 'due covid virus global health pandemic close retail location notice immediate thoughts affect try time online store open social channel still active love amp hope bagp',\n",
       " 'health safety customers pillitteri cancel tour taste program response covid winery retail store remain open sales offer free ship online wine order',\n",
       " 'away virology healthcare policy etc second still massive credit due supermarket workers must really stressful moment thank please',\n",
       " 'chris year old work grocery store seattle catch crossfire panic one people share experience work service industry right want hear',\n",
       " 'friend norah work big chain grocery store one teammates test positive covid tell keep come work not tell press instead give income avoid spread disease chip give sick pay',\n",
       " 'food bank struggle nationally locally please keep give encourage others also need ever supply food bank drop demand increase nimmo',\n",
       " 'hey likely make fortune boom online shop due go ensure pay fair tax need income recovery tax avoidance directive useful right',\n",
       " 'big shout supermarket employees work long hard hours deal craze general public salute provide thank shoutout supermarketsemployees covid covid',\n",
       " 'covid policy idea lawmakers want people temporarily stay home conduct online shop temporarily amp sales tax encourage delivery goods amp food keep lose job',\n",
       " 'caller nicole toddler newborn baby find hard contain emotion describe jeremy difficulty find food panic buyers',\n",
       " 'not limit supermarkets pharmacies food fly shelve others survivalist bend mission purchase firearms',\n",
       " 'close doors employees continue pay temporary closure online shop still active',\n",
       " 'seniors pension card holders try make dedicate shop hour set major supermarket chain vulnerable people midst covid outbreak',\n",
       " 'restrictions bar restaurants popular consumer stop include gov john carney state emergency declaration novel coronavirus covid concern delaware see influx unemployment claim many',\n",
       " 'systems place ensure egypt run food coronavirus covid',\n",
       " 'thank medical workers grocery store employees truck drivers national guard keep country wheel turn amp step call duty covid coronavirus outbreak without',\n",
       " 'chicago consumers aware consumer fraud relate coronavirus disease outbreak submit consumer fraud complaints via learn',\n",
       " 'microsoft announce tonight close microsoft store retail locations due covid outbreak',\n",
       " 'throughout covid pandemic thing impress far american haul shoot someone last tin bake bin supermarket shelf situation last sadly',\n",
       " 'stockmarkets australian supermarket share thank roll toilet paper kilograms penne buy last week',\n",
       " 'know thankful nurse doctor grocery store clerk stock shelve let not forget truck drivers drive get store order job tough',\n",
       " 'south korea live since january panic hoard supply like study people countries react differently crisis study hoard crisis lead enough normal food supply everyone',\n",
       " 'ummmmmmmmmm bout shit need jeanyuses provide rock solid information always dios mio fakenews coronavirus',\n",
       " 'know real heroes pandemic grocery store employees truck drivers keep shelve stock amid widespread panic america farmers doctor amp nurse work double shift put risk thank',\n",
       " 'new confirm case please remember many many people covid infection self isolate not test statistics skew take care wash hand stay away group stop panic buy elderly need food',\n",
       " 'mini freakout today blasio warn prep possible shelter place order within hours rerouted grocery store cuomo angrily respond table guy talk better fuck',\n",
       " 'don ever want hear anything retail amp food service workers not deserve live wage one single person go store need food covid outbreak keep world turn face national disaster',\n",
       " 'empty shelve moscow supermarket amid coronavirus fear russia covid coronavirusoutbreak',\n",
       " 'dtc ecommerce people stay home due fear coronavirus spread amp demand pickup delivery accelerate digital groceries hit billion sales forecast hit billion',\n",
       " 'consumer demand rice flour cook oil soar last week predominantly asian muslim areas due outbreak coronavirus covid',\n",
       " 'oil price exchange market machine learn network technology new world load covid france covid germany covid usa covid turkey chinesevirus covid stayhome quarantinelife',\n",
       " 'hey johnson sunak disable pre exist condition risk group voluntary self isolate get supermarket deliver bare essentials fuck policy fuck work',\n",
       " 'price inch lower today investors continue sell assets keep money cash amid heighten panic',\n",
       " 'coronavirus panic clear store shelve leave autistic child food aversions nothing eat autism site blog',\n",
       " 'please share viral post social media mislead mother need',\n",
       " 'covid keep hit economy regina food bank put call financial donations deliver food hamper people need',\n",
       " 'many people go grocery store may see empty shelve surge demand due covid store operators ask customers patience',\n",
       " 'grocery store clerk employees even provide protective gear send die let home compensate covid',\n",
       " 'store not need open consider grocery store still open make rule allow elderly shop every else store pickup put employees risk don even provide protective gear covid',\n",
       " 'hey psa everyone need panic buy groceries food supply chain expect affect pandemic italy china amp hard hit areas still access food may contract covid line crowd grocery store',\n",
       " 'sister send pics local supermarket need stop panic buy everything gonna die covid covid',\n",
       " 'hope one panic buy supermarket positive covid without know',\n",
       " 'panic buy not limit supermarkets pharmacies food fly shelve others survivalist bend mission purchase firearms via',\n",
       " 'kid note korean own corner store dedicate worker wipe surface constantly get concern grocery amp retail workers not see lot precautions take place ppl talk risk coronavirus covid',\n",
       " 'amazon may hire keep surge order coronavirus spread',\n",
       " 'cruel not forward close week two worst retail store world reason store close jill horrible person hope realize do hope jcpenney get critized bash everyone',\n",
       " 'look toilet paper grocery store like',\n",
       " 'kid gon write essay covid act economic shock internationally influence global trade consumer behaviour equity market',\n",
       " 'malaysia announce restrict movement covid country launch panic buy imagine announce threat food security due climate change impact people start panic buy demand govt step climate action',\n",
       " 'don underestimate power kind word someone right lot people really awful health care provider grocery store staff sure many others smile say thank best tough time mean everything',\n",
       " 'say work shoppers drug mart amp force come amp work cashier shift covid pandemic pharmacy open walkin ass boss tell not come work two weeks amp pay',\n",
       " 'think perintahkawalanpergerakan akan cause case covid people gather dekat stesen bus balai polis supermarket panic buy',\n",
       " 'lord please protect save frontliners healthcare workers bpo bank workers supermarket workers please save covid please sustain let feel comfort love',\n",
       " 'handsanitizers empty many store handsanitizers distribute free streets saudiarabia price hand sanitizers go limit per customer covid covid coronauk coronavirusuk',\n",
       " 'experience definitely look like even supermarket routine see even covid take',\n",
       " 'people crowd doors supermarket saint denis day announce tighten travel restrictions',\n",
       " 'literally every single grocery store retail worker come home work coronavirus freak',\n",
       " 'consumer report agree interest primarily covid stories however crucial time active credible journalism things don happen shadow away public view keep fight',\n",
       " 'cologne germany applaud health workers retail store employees truck drivers others work hard keep crazy situation safe normal possible',\n",
       " 'prayers real covid victims elderly socially isolate healthcare providers overtime supermarket employees stress small business owners ask loan people live paycheck paycheck wutang flu grift',\n",
       " 'new price list new methods nonsense check facebook page visible price',\n",
       " 'struggle buy food general supply don forget local oriental supermarket likely make ill anyone else currently struggle due ignorance racism',\n",
       " 'relief monthly online food shop arrive items stock include toilet roll understandable due current events good adapt problem grateful chronic illness person mean world covid quarantinelife',\n",
       " 'make sure thank cashier store clerk stock clerk butcher bakers produce clerk amp truckers deliver items fill shelve store visit help put food table',\n",
       " 'idiots wild part moronavirus version picture prove americans idea deal coronavirus panicshopping coronavirus trumpplague',\n",
       " 'always hat work grocery store today would like clarify something really freak hate work grocery store help poor soul try survive toilet paper coronavirus',\n",
       " 'woman work grocery store usa finally decide crowd get bigger angrier better not take risk get could allow die pay leave available store profit soar stuff ways cruel',\n",
       " 'pop moscow supermarket pasta rice section rather pasta rice section sugar flour stock low',\n",
       " 'thailand tourists due epidemic monkey hungry hunt food amp site monkey king arrest police monkey head cause panic monkey scatter flee intercept road amp situation optimistic danger lose control coronavirus',\n",
       " 'online shop platforms lazada zalora shopee issue respective operational guidelines amid covid outbreak',\n",
       " 'dan murphys stock think anything worse stick home kid without mummy medicine',\n",
       " 'prepare self isolate weeks world famous german supermarket stock sausages cheddar yes folks plan rst scenario stayhomechallenge covid zew rstjokeimdaswelt',\n",
       " 'face mother ask something grocery store minutes order pickup service coronavirusoutbreak lockedinwithmom covid',\n",
       " 'nurse rant many stupid people world never go survive anyway wear gloves grocery store',\n",
       " 'proud country salvador precautions government everyday people take prevent covid pregnant women seniors stay home get pay sick leave border close price basic goods monitor',\n",
       " 'australia not run food get people fearful panic buy create anxiety include others get actually need please kind include shop staff work together outcome much better',\n",
       " 'go grocery store dude cuss one employees tell per customer limit water tell employee bad felt tell someone hit yesterday wtf man hate people',\n",
       " 'supermarket food treatment covid long take phlegm disappear breath recover smoothly secret recipe experience tweet many time internet often block tweet throw draft',\n",
       " 'shock thread learn south korea even lockdown still take crisis seriously anglo govs meanwhile france probably get covid panic buy supermarket',\n",
       " 'list online grocery store keep safe home covid season list online grocery shop store use',\n",
       " 'address nation two committees make national ordination committee economic committee say ensure hoarders don artificially increase price come strongly hoarders',\n",
       " 'everyone work supermarket right coronavirus',\n",
       " 'thank grocerystorehero logistics staff please stay home sick everyone truckers grocery staff job quarantinelife coronavirusoutbreak coronavirus coronavirususa coronavirusworkers truckdrivers coronavirusnc',\n",
       " 'go supermarket bunch pharmacies grocery store pick basic stuff need learn today one like carrots plenty carrots carrots covid nyc',\n",
       " 'not limit supermarkets pharmacies food fly shelve others survivalist bend mission purchase firearms via',\n",
       " 'coronavirus germany people around germany stockpile food leave supermarket shelve empty retailers explain one need worry hamsterkauf could actually harm good',\n",
       " 'people come workplace yesterday bakery seniors go get supply grocery store beside right seniors saw worry covid californiacoronavirus',\n",
       " 'since food beverage service allow provide take aways operators need platform deliver food besides walk customers',\n",
       " 'wave china wave local mass gather wave supermarket balik kampung transport police station gather wave sampai kampung gather restrictedmovementorder covid',\n",
       " 'friends turkey amp italy share photos people queue maintain safe distance meanwhile islamabad customer behind supermarket cash counter morning try grind usual',\n",
       " 'supreme committee deal covid close store commercial complexes except food consumer cater store clinics pharmacies optical store',\n",
       " 'please reserve stock months medicine house food items child products don know gonna happen one month everyone kid old people house coronavirus',\n",
       " 'ofa urge consumers not panic buy reassure ontarians safe food continue produce process distribute despite covid pandemic',\n",
       " 'nice live country people clear supermarket shelve stock food bank rather cupboards covid selfish humanity coronavirus',\n",
       " 'breakfast program kid school suspend tomorrow cos volunteer source bread kid real life saver food might get lunchtime',\n",
       " 'everyone know isolate get creative already need know supermarket coronacrisis',\n",
       " 'mum call tell might want stock food weed covid get serious',\n",
       " 'don know need hear panic buy feedback loop shortage supply fear lack supply power water grids go farm food supply chain shut covid zombie apocalypse',\n",
       " 'politicians need come retail store see people not practice self quarantine social distance not even close elect make hard decision obviously people not make',\n",
       " 'one people excessively stock food covid panic please least donate use shelter food bank instead let waste',\n",
       " 'dubai become cheaper live dubai uae cheap economy coronavirus consumer residence citizens education knowledge',\n",
       " 'wic baby please choose another brand',\n",
       " 'canadians not need panic food shortages amid covid experts say',\n",
       " 'please consider shop one faves full collection online please retweet soap coronavirus washyourhands supportsmallbusiness',\n",
       " 'stop panic buy consider mass gather well korang berpusu pusu beratur dekat grocery store stoppanicbuying covid malaysia',\n",
       " 'possible get virus give cashier supermarket ask real question covid covidmalaysia lockdownmalaysia',\n",
       " 'prime minister justin trudeau ask canadians not hoard food fear covid spread several shoppers tell think panic buy time',\n",
       " 'farmers keep supermarket shelve stock many risk lose job food supply remain affordable available cancel carbon tax farm activities',\n",
       " 'covid already affect online shop somebody slap meee plsss',\n",
       " 'alternative ration book online shop order address restrict phone order people without internet access supermarkets collection delivery rapidly rethink economic model coronavirus need',\n",
       " 'steep rise price platform ticket prevent unnecessary crowd station covidindia covid',\n",
       " 'delivery hire new distribution workers keep online shop surge cause coronavirus',\n",
       " 'please remember risk empty local supermarket way pass',\n",
       " 'fam decide change house supermarket due covid',\n",
       " 'line grocery store around build morning felt like back high school camp get ticket rock show nut covid',\n",
       " 'people buy crazy stuff',\n",
       " 'mfs tryna avoid chinese asian food sudden point covid panic anything asian culture see many people every race don wash hand act like hand ain clean enough',\n",
       " 'good try keep busy form call duty watch dickinson awesome online shop also confirm one family test positive covid',\n",
       " 'covid food system strong enough around assure industry experts amid consumers panic buy food response coronavirus',\n",
       " 'class dutch stock pile food nah stock pile toilet roll nah stock pile weed absolutely fight queue cannabis lockdown',\n",
       " 'market better everyone home nothing online shop let part covid marketcrash marketslump socialdistancingworks',\n",
       " 'grocery store purse full disposable gloves coronavirus',\n",
       " 'response covid statewide shut disgust amp charles not grocery store pharmacy hospital secondhand pawn shop',\n",
       " 'time crisis opportunity come together humanity amp help unfortunately turn class war afford mean buy don need month stockpile anything',\n",
       " 'watch supernatural covid shut everything mass panic food watch',\n",
       " 'plenty food toilet paper household essentials everybody panic buy selfish cunts coronavirus covid',\n",
       " 'picture yesterday last night dad go grocery store buy simple things wait store calm people freak mode buy stuff don need much coronavirus covid come could say aisle',\n",
       " 'please stop panic buy open biggest grocery store gallons milk egg cartons panic buy create shortages even lockdown shop groceries distance fine',\n",
       " 'although agree must avoid hording food necessities see empty shelve grocery store trigger something mind person disabilities car limit buy carry could carry days worth food',\n",
       " 'go supermarket last night usual shop stop take fuckin shit paper baby supply disgust behaviour go offer old clients shop chill covid',\n",
       " 'jeez people learn magic spell call empty shelve selfish coronavirusoutbreak coronavirus stoppanicbuying',\n",
       " 'not even joke think get covid go supermarket gloves sanitiser not even hours get home cough sore throat like ball throat actual fuck quick symptoms appear',\n",
       " 'don mess russian cashier',\n",
       " 'pandemic contagious hygiene health imp correct miss like availability sanitizers discount price enuf availability santizers covid coronavirusinindia',\n",
       " 'dear america million truck drive brothers hard work bring things need cities towns long move reason panic stop panic not stop',\n",
       " 'special grocery store hrs seniors thing urge everyone like category chronically ill immunocompromised call local grocery store managers amp stress importance include million chronically ill americans',\n",
       " 'tldr covid scar sorry rear end supermarket',\n",
       " 'alright swiss government call emergency status unnecessary store close disinfect hand enter supermarket still doctor don want take covid',\n",
       " 'panic mode yet would suggest food tank street right don even know anymore trust coronavirus',\n",
       " 'finally get money tomorrow go place food order since mostly homebound shop virtually everything stock meat pasta little anything else idea go fee son tomorrow coronavirus disabilitysucks',\n",
       " 'supermarket staff work amp run feet coronavirus panic shop deal mass brawl start white vinegar well street tesco metro hackney london shoppingwars coronavirus covid london',\n",
       " 'fragility interconnect world lay bare rampant individualism leave supermarket shelve empty form queue outside gun store conspiracy theories contagious greatest threat beat virus human behaviour',\n",
       " 'fuel price monday march expect fall percent would bring relief consumers whether commercial vehicle operators would reduce fare another matter fight another day',\n",
       " 'food shop not close period give selfish panic buy bullshit love god covid',\n",
       " 'use online grocery shop order sleep food groceries deliver morning do many food delivery apps do wuhan complete quarantine covid test track isolate treat prove',\n",
       " 'detail special hours stop amp shop create help protect customers especially vulnerable',\n",
       " 'demand federal government immediately pass relief package provide emergency fund assistance state cover expense massively test population millions provide emergency food shelter homeless poor',\n",
       " 'scary gun sales usa due food shortage people expect kind civil unrest stock arm coronaviruspandemic coronavirus coronavirusoutbreak well covid get probably gun',\n",
       " 'waive change fee april flight however flight want change miraculously expensive original flight end pay flight want change price rig covid covid',\n",
       " 'thursday grocery store flyer three ply toilet tissue sure lineup coronavirus',\n",
       " 'freshradio socialdistancing coronavirus covid kid home need groceries didnt stock weeks buy family dog amp cat need food fruit veggies chicken grind beef potatoes bread soup pasta',\n",
       " 'don protect food workers may find real shortage soon demand food workers get full pay suffer penalties relate illness not member union join organise send clear message employers not abuse',\n",
       " 'saw elderly woman walk grocery store live across street every time see someone high risk catch coronavirus like',\n",
       " 'self isolate symptoms virus fine try shop online major supermarkets earliest delivery weeks unless great efforts make improve virus force visit shop',\n",
       " 'wife get grocery union bangor open today line door manager hand individual roll large pack store',\n",
       " 'mask sanitizers sell sky high price instead help people time crisis sellers try make profit request central state government take necessary action covi',\n",
       " 'break gas price drop tonight cents put price litre metro van lowest years reason drop demand people stay home energy sector suffer',\n",
       " 'supply flow machine run product make way back shelf say doug baker fmi cbs news',\n",
       " 'wash hand soap second carry tissue paper use protect layer travel don panic don spread rumor stock food essentials weeks require self quarantine',\n",
       " 'coronavirus torbay boris johnson say self isolate seek help others pensioners risk pensioners online shop wold essential locals cannot get near future delivery slot sainsburys supermarket normal time shop',\n",
       " 'must waive citizen cost treatment disposable income consumer spend drive market pandemic hit early year threat recession covid may costly patients',\n",
       " 'facebook live join drive speak stay safe well coronavirus pandemic join conversation',\n",
       " 'everything sock pant jocks wear particular day youcantaskthat tonight',\n",
       " 'accuse double price clean supply coronavirus pandemic',\n",
       " 'experience high volumes enquiries due travel event cancellations relate covid coronavirus read advice consumers latest consumer right travel event cancellations relate covid',\n",
       " 'anyone else see advertise food stock need reminder coronavirus',\n",
       " 'coffee grocery store surprisingly good covid ralphs mcdonaldscoffee grocerystore',\n",
       " 'doctor nurse supermarket staff teachers emergency service others contribute way covid',\n",
       " 'beware coronavirusdc scam scammers may sell ineffective products prevent virus solicit donations fake charity pretend help coronavirus victims learn tip protect scam',\n",
       " 'whether buy groceries online store simple step take try limit exposure novel coronavirus read',\n",
       " 'netherlands biggest food exporter world place usa don panic buy rutte coronanederland covid amsterdam',\n",
       " 'irony chip leave grocery store party size covid',\n",
       " 'let know cletus repost memes riches corona coronavirus heybitch store consumer customer staysafe bevigilant',\n",
       " 'one gun store metro atlanta line six eight people deep grocery store strip bare coronavirus fear gun ammunition start fly shelve',\n",
       " 'supermarkets create voluntary emergency donation add onto shop panic buy pass straight local charities food bank government need lesson consider priorities',\n",
       " 'turner join grocery chain representatives update public supply store hours',\n",
       " 'lav aggarwal joint secretary union health ministry icmr indian council medical research strongly appeal private laboratories offer covid diagnosis cost coronavirus',\n",
       " 'emotionally exhaust covid work grocery store explain elderly moms young kid sorry don know get hurt someone low empathic reserve tap please stay home',\n",
       " 'people uae reassure need panic buy food items available time uae panicbuying coronavirus covid',\n",
       " 'shortage food wave panic buy strike many nation biggest retailers due work around clock transport supply goods fill empty shelve',\n",
       " 'morrisons launch hardship fund staff face financial difficulty result coronavirus expand home delivery create extra job corvid covid retailnews businessnews grocery newjobs supermarket',\n",
       " 'world seem change overnight amp lot question covid go impact consumer behaviors amp survey take bias work diligently bring data diymrx check first blog series come',\n",
       " 'buy mask follow authorities say buy hand sanitizer use soap stock food items useless not panic mode instead boost immune system worry positive think not bore love',\n",
       " 'gas price set tumble tomorrow price pump cents per litre toronto say full story covid coronavirus covid coronavirusoutbreak coronaviruspandemic coronavirustoronto',\n",
       " 'brave local grocery store town officially scar not covid people easily manipulate people selfish react time crisis crisis even big one',\n",
       " 'depreciate world oil price relate covid issue play major role upcoming elections due support current president campaign',\n",
       " 'coronavirus government rwanda suspend public social gather encourage people keep social distance stay home possible rwandans increasingly opt online shop',\n",
       " 'please not panic stockpile food considerate buy need enough food everyone work together',\n",
       " 'wife get lay yesterday small retail store work get wallop walk business vanish covid long think take process claim right',\n",
       " 'know grocery store worker things past days shock patient coronavirus',\n",
       " 'friend visit gafoors store leytonstone advise price imcresed head office call head office refer article advisor become abrupt end call',\n",
       " 'societies must stay calm get thru every aspect world leaders must stop worry stock market inject money citizens help families everywhere get world food rent medicine coronavirus covid covid',\n",
       " 'judge barren bean shelve supermarket british public intend defeat covid flatulence',\n",
       " 'ready consumer trend post coronavirus world',\n",
       " 'pledge supermarket beer covid instead source shoplocal supportlocal',\n",
       " 'lone anonymous mystery among thing leave local supermarket today covid anonymous allcannedout aluminumcan donotforgetthecanopener',\n",
       " 'stock don hoard checklist need case outbreak medicine food create household plan case family need self quarantine',\n",
       " 'coronavirus panic always good give back families need donate food time money safoodbank food bank near',\n",
       " 'grocers modify store hours clean restock amid panicbuying via brickandmortar retail grocery pandemic covid coronavirus',\n",
       " 'retail store closure could explode coronavirus brickandmortar retail pandemic',\n",
       " 'think twice become covid panic buyer stock excessive amount food contribute prevent elderly vulnerable people buy food goods need',\n",
       " 'enjoy describe trip supermarket need panic buy return usual half dozen items shutdownaustralia covid',\n",
       " 'ministry fix food price order prevent market hike coronavirus outbreak leadership',\n",
       " 'please fix food price essentials immediate effect sign collusion retail shop basic items hand sanitizers hand soap mineral water coronavirussa coronavirussouthafrica covid',\n",
       " 'believe say please respectful nice anyone work time specifically grocery store employees doctor nurse register etc',\n",
       " 'people age support older adults covid period know medications love one take extra hand monitor food amp medical supply stock non perishable food items',\n",
       " 'une centaine personnes pressent aux port supermarch saint denis banlieue parisienne lendemain annonce sident macron renfor ant les restrictions placement face covid afp',\n",
       " 'countries affect try control spread market public reactions fast move situation send ripple effect people business fear change demand goods',\n",
       " 'time deplorables america would collapse without rough unsung heroes grow food ship goods stock shelve pump oil staff hospitals fill pip water put fire police streets keep light covid',\n",
       " 'one brave trucker one fearless nurse humble stocker supermarket count time half dozen fancy graduate degrees save nation yet deserve everyone res',\n",
       " 'south africa not go run food however panic buy strain supply chain calm fuck considerate family need fourth pack bog roll hoard',\n",
       " 'add option donate item food bank whilst online shop whilst many avoid shop get home deliveries covid',\n",
       " 'basic protective measure new maintain social distance take care get virtual online shop example',\n",
       " 'people panic buy stupid say say guy still buy food lockdown need panic buy lockdownmalaysia covid',\n",
       " 'panic buy due education survive without food amp water whilst escape war quick judge not good shoe',\n",
       " 'owe areas gratitude incredible sacrifice also must grateful grocery store employees sacrifice many make minimum wage thank tip checkout cashier buy essentials',\n",
       " 'online grocery shop first trial coronavirus quarantinelife telemedicine psychtwitter meded captwitter workfromhome parentinginapandemic',\n",
       " 'closure online grocery shop elderly shop hours ways businesses try prevent spread coronavirus',\n",
       " 'think serious covid let grocery store stock food',\n",
       " 'menwhile people overseas fight steal keep fuck mask inside house sale absurd expansive price',\n",
       " 'come back trip grocery store lot empty shelve people look stress kudos cashier stock clerk anyone work retail challenge time pay seldom appreciate thank',\n",
       " 'close store across amp canada april due coronavirus concern continue pay regular wag amp benefit employees online shop remain open ship fee return policies adjust around hiatus covid',\n",
       " 'live lemay schnucks thank grocery store workers front line right thankful',\n",
       " 'people stand queue enter supermarket outbreak coronavirus disease covid masnou north barcelona spain march reuters albert gea reuters coronavirusespa covid',\n",
       " 'announce emergency food fund add food distribution sit las vegas valley combat face economic hardships due least one food bank say demand go via',\n",
       " 'downturn price short term nature may last months not years unlikely affect negotiations long term contract average around years',\n",
       " 'concern retail employees force work amidst severity covid reduce hours not deter viruses spread one person come covid affect employees work well customers',\n",
       " 'nope choices price higher choose raise price people try return home travel ban wrong evil covid',\n",
       " 'essential retail store coronavirus',\n",
       " 'go buy little extra grocery shop week need community five food bank scarborough centre see increase demand covid pandemic need help',\n",
       " 'amazon look hire people across temporarily raise pay hour handle coronavirus induce online shop coronavirus amazon crisis jobcreation',\n",
       " 'local grocery store zoom',\n",
       " 'time step',\n",
       " 'overhear grocery store like freeze food better fresh anyways boyyyy girl coronavirus',\n",
       " 'panic buy not limit supermarkets pharmacies food fly shelve others survivalist bend mission purchase firearms coronavirus covid',\n",
       " 'hour leave curfew spend hour groceries price jump overnight ppl hugely concern amp upset govt performance time crisis urgent call mosul lock city amp close enterances mosul covid',\n",
       " 'new order go effect tonight help local businesses covid outbreak shop online order takeout time crisis need support communities supportlocal',\n",
       " 'badger farm winchester ther pasta bread flour panic buy food moral highground instead would rather bread covid nofood dontpanicbuy',\n",
       " 'husband agricultural fee haulier work farmers enough fee supply well wonderful frontline hse staff amp gps huge respect retailers hauliers amp local shop keep supply chain go',\n",
       " 'best announcement hear today grocery store attention shoppers thank respect item shop limit please remember not apply booze covid',\n",
       " 'send heartfelt thank everyone fight doctor nurse healthcare professionals grocery store workers delivery people custodial workers law enforcement officer scientists many grateful service dedication',\n",
       " 'write customer please close store arizona place protect employees customers fatal covid buy pack starbucks coffee grocery store make coffee hom',\n",
       " 'go vote spray lysol go grocery store man cough covid',\n",
       " 'glad local supermarket reduce open hours give time poor staff fill shelve stoppanicbuying coronavirus',\n",
       " 'wipe case store cart alcohol base hand sanitizer tissue case need sneeze cough paper towel pocket open bathroom door think ready make quick run grocery store coronavirus',\n",
       " 'say plan hire new workers warehouse delivery service people turn online shop supply isolate home coronavirus outbreak',\n",
       " 'second derivative challenge europe maybe slow motion oil amp commodity price depression contagion covid africa enhance pressure migration',\n",
       " 'stock supply today grocery pet store gas station liquor store catch nintendo magazines home project quarantinelife coronavirus',\n",
       " 'protect staff cannot avoid contact public restrict number general public store allow distance staff customers partner super',\n",
       " 'resonse covid amani chattanooga shop close notice worry need shop town offer free ship chattanooga online store still amp run stay well friends',\n",
       " 'hello leo covid spread recently see increase people shop online delivery promise longer usual work around clock ship items quickly able thank',\n",
       " 'time crisis focus customers healthcare payers customerengagement',\n",
       " 'propaganda whatsapp message start create artificial food shortage pakistan coronavirus alarm panic buy start give rise hoard profiteer amp black market add hunger amp poverty traders make',\n",
       " 'face severe blood shortage due unprecedented number blood drive cancellations coronavirus outbreak make appointment help patients count lifesaving blood',\n",
       " 'colombia former finance minister tell triple shock coronavirus lower oil price capital outflows make fiscal stimulus unavoidable latin america',\n",
       " 'grocery store bank coffee shop restaurants etc please remember kind work rather home friends families mindful coronavirusoutbreak covid coronavirus',\n",
       " 'complain school ain shut supermarket nhs staff come work hardly choice basically get verbally abuse don stock best',\n",
       " 'happen stop insanity resell much need products inflate price covid chinesevirus covid ontario',\n",
       " 'cough grocery store coronavirus quarantinelife',\n",
       " 'showmeyourshelves normally reserve book shelve wanna see grocery store shelve covid show dubuque iowa rice coronapocalypse stayhomechallenge coronavirusoutbreak trumpplague',\n",
       " 'people world stop stock buy sell ashamed see clean products toilet roll worse baby formula nappy sell high price online disgust coronavirus covid',\n",
       " 'watch surge email cybercriminals pitch covid health information fake cure read consumer report',\n",
       " 'customers wear protective mask queue cash desks supermarket follow coronavirus covid outbreak empty shelve see santiago chile cristobal saavedra vogel',\n",
       " 'association take preventative measure follow update covid announce cancellation viva fresh dante galeazzi discuss tradeshow tradeassociation texasinternationalproduceassociation',\n",
       " 'believe say behalf best friend stick gamestop retail hell store refuse close quarantine expose covid don leave home buy video game selfish jackass',\n",
       " 'covid france covid milk egg butter carrefour supermarket open confinementotal',\n",
       " 'think mike dewine right thing limit social interactions coronavirus shit get control grocery store workers soooo many people grocery store panic buy',\n",
       " 'know desperate time start buy raisin bread supermarket covid',\n",
       " 'amazon monday say boost pay hire workers due strain workforce cause surge online shop prompt coronavirus fear',\n",
       " 'attention seniors citizens worry shop groceries covid pandemic tomorrow zuppardo supermarket open hour early senior customers doors open customers must store ask customers bring ids',\n",
       " 'wherein remind people must worry far whether local grocery store toilet paper covid coronavirus stayhomechallenge',\n",
       " 'covid see kind generation help create dont know mean supermarket fear god panic buy symptom sinister aspect want regardless merit',\n",
       " 'hawaii attorney general clare connors hawaii office consumer protection executive director stephen levins urge hawaii public beware report scam price gouge relate ongoing covid pandemic call',\n",
       " 'go local supermarket covid like',\n",
       " 'time bash elect officials state emergency reactive everything fluid right everyone must stay vigilant not panic don hoard food take necessary precautions covid onpoli',\n",
       " 'grocery store buy one follow family next week get covid coronavirusoutbreak coronavirus',\n",
       " 'covid hire people help surge online shop smart alternative rosie riveter moment build ventilators temporary icus country meet greater challenge',\n",
       " 'response odd appeal people better nature one gov see supermarket carnage time action not please okay covid',\n",
       " 'supermarket system need change facilitate buy amp stockpile indian system state order amp give better tell exactly much need amp reduce much buy spend covid chinesevirus staysafe',\n",
       " 'launch hardship fund staff face financial difficulty result coronavirus expand home delivery create extra job',\n",
       " 'covid latest food supply food supply continue don need engage panic buy coronavirus covid arnews katv',\n",
       " 'think income yrs women job seekers stock food week let alone months cohort dead less years hit youre disgrace onevoice ageconcern coronavirus mentalhealth dwpcrimes',\n",
       " 'unless part program please leave grocery items mark wic logo families don leave store empty hand don substitute mypsafortoday coronavirus quarantinelife',\n",
       " 'go grocery store require blast immigrantsong leave honestly thats energy radiate make alive covid coronavirus canadalockdown',\n",
       " 'may not agree policies certainly agree stance covid supermarket today people limit product allow',\n",
       " 'folks panic buy years supply clean materials food selfish idiot ashamed covid coronavirus covid coronavirusoutbreak',\n",
       " 'one employees supermarket tell pasta leave woman offer one two packets let covid bring best',\n",
       " 'warn every medical departmental store take chance increase price hygienic products time hereby also bind thank every employees hospitals selflessly touch treat patients',\n",
       " 'online shop bill cant deliver many goods substitute thank panicbuyers low live vulnerable year old get selfisolate months cope coronavirus corovid',\n",
       " 'whole country suffer coronavirus shameless people stock sanitizers find one today store charge mrp seriously humanity also stock mean',\n",
       " 'dear fighters accord experts peple disease higher therefore request take care make habit wash hand drink plenty water eat nutritious food don panic infection take care',\n",
       " 'work home peep let spend gas save local businesses online shop gift card amp bigger tip service workers need help coronavirus',\n",
       " 'many children amp young people could feel worry coronavirus amp could affect mentalhealth watch video amp look selfcare strategies young people tell help feel anxious',\n",
       " 'gov brad little via conference call right don hoard think neighbor grocery store coronavirus klew',\n",
       " 'although empty supermarket shelve alarm short term reaction yesterday news problems food supply chain shelve restock destine live peppa pig carrots peas covid',\n",
       " 'sister nurse boyfriend work grocery store really worry tbh covid corinnavirus koronavirus coronavirusnorge',\n",
       " 'grocery store hand sanitizer fear latest several fear sanity izers stock',\n",
       " 'food beverage retailers canada hit hard amid covid panic retailinsider retail canada',\n",
       " 'beauty covid pandemic may put makeup apps additional virtual reality beauty technologies consumer sniff test',\n",
       " 'lockdown mind matter',\n",
       " 'tweet covid expert issue please allow say thank continue work hospital stack food supermarket owe deserve support proper pay reflect',\n",
       " 'businesses conscience unlike keep open grocery store game areas senior citizens tend machine coronavirus murderers',\n",
       " 'covid officially pandemic first step healthcare payers employers must take trifold ensure business resiliency establish crisis response structure secure employee safety payers specific',\n",
       " 'home currently look like photos ashamed consideration family low income live week week elderly person get often amp nothing',\n",
       " 'online shop order arrive message due lack toilet paper supply alternative sun newspaper coronavirus toryshambles sunnews',\n",
       " 'tin bake bean production full throttle due demand create covid food infinite shelf life good news bean growers world bad news environment massively increase gaseous emissions lead global warm',\n",
       " 'trend bushwick brooklyn photo last night grocery store close hours earlier go forward allow restock clean fresh fish amp produce good supply even close time minus bananas covid coronavirus panicbuying grocerystore',\n",
       " 'big shout thank truckers truckdrivers help keep shelve full grocery store coronavirus covid pandemic go',\n",
       " 'last opener break last pasta cook last supermarket close find toilet paper cannot eat covid covid toiletpapercrisis stayhome',\n",
       " 'retail amazon convid coronavirus surge online shop mean amazon add new full time part time position across unite state keep demand',\n",
       " 'break apple close every retail store outside greater china march amid covid pandemic',\n",
       " 'local grocery shop meat shop increase price actual fuck bro covid',\n",
       " 'covid recession different service recession drive reduce consumer spend restaurants transportation personal care service necessary social distance write',\n",
       " 'break news microsoft close retail store notice due coronavirus check onmsft',\n",
       " 'amazon hire new distribution workers keep online shop surge due outbreak',\n",
       " 'sindh government spokesman term quarantine facilities taftaan border joke watch exclusive visuals criminal negligence',\n",
       " 'get house coronaoutbreak corona coronavirus coronavirusoutbreak covid washyourhands toiletpaper toiletpapercrisis toiletpaperpanic germx beervirus damnbeervirus coronabeer coronabeervirus',\n",
       " 'know live apocalypse people fight cashier loo roll supermarket covid corvid',\n",
       " 'boris johnson stand two people address question whilst look like toddler lose supermarket true leadership truely prime ministerial covid corvid pressconference',\n",
       " 'everyone keep eye account get debit card shut fraudulent charge food delivery apps online shop last night scammers go take advantage covid situation thank come ted talk',\n",
       " 'every resource could possible want covid consumer behaviors',\n",
       " 'yesterday ask pharmacies constituency hike price essential goods appal learn practice would hope expect shop large small act responsibly',\n",
       " 'hear new reality cook show call platedemic chefs create meals weird items remain grocery store shelve mob covid',\n",
       " 'connectivity essential time crisis amp ally ask broadband ceos lift data cap waive fee amp everything within power help people connect world home amp stop spread covid',\n",
       " 'well fargo commit help customers experience hardships covid need assistance customers call speak train specialist options available consumer lend small',\n",
       " 'well fargo commit help customers experience hardships covid need assistance customers call speak train specialist options available consumer lend small busi',\n",
       " 'well fargo commit help customers experience hardships covid need assistance customers call speak train specialist options available consumer lend small',\n",
       " 'rest assure team tirelessly work remove policy prohibit sellers profit human tragedy natural disaster article action take mindy',\n",
       " ...]"
      ]
     },
     "execution_count": 185,
     "metadata": {},
     "output_type": "execute_result"
    }
   ],
   "source": [
    "import re\n",
    "\n",
    "corpus_train = []\n",
    "corpus_test = []\n",
    "num_caps_train = []\n",
    "num_caps_test = []\n",
    "\n",
    "\n",
    "for eachreview in X_test:\n",
    "    tw1= re.sub(r'http\\S+', ' ', eachreview) #remove urls\n",
    "    tw2 = re.sub(r'<.*?>',' ', tw1) #remove html tags\n",
    "    tw3 = re.sub(r'\\d+',' ', tw2) #remove digits\n",
    "    tw4 = re.sub(r'#',' ', tw3) #remove tags but keeps words\n",
    "    tw5 = re.sub('(RT\\s@[A-Za-z]+[A-Za-z0-9-_]+)', '', tw4) #remove users\n",
    "    tw6 = re.sub('(@[A-Za-z]+[A-Za-z0-9-_]+)', '', tw5) #remove users\n",
    "    tw7 = re.sub('VIDEO:', '', tw6)#removes video tag\n",
    "    tw8 = tweet = re.sub('AUDIO:', '', tw7) #removes audio tag\n",
    "    tw9 = re.sub('\\s+', ' ', tw8) #removes double spaces\n",
    "    r = re.sub('[^a-zA-Z]', ' ', tw9)\n",
    "    r = r.split()\n",
    "    \n",
    "    counter = 0\n",
    "    for word in r:\n",
    "        if word.isupper():\n",
    "            counter += 1\n",
    "    num_caps_test.append(counter)\n",
    "    \n",
    "    r = ' '.join(r)\n",
    "    r = r.lower()\n",
    "    r = r.split()\n",
    "    \n",
    "    #remove stopwords\n",
    "    r = [lemmatize(word) for word in r if word not in stopwords if len(word) >= 3]\n",
    "    r = ' '.join(r)\n",
    "    corpus_test.append(r)\n",
    "    \n",
    "    \n",
    "for eachreview in X_train:\n",
    "    tw1= re.sub(r'http\\S+', ' ', eachreview) #remove urls\n",
    "    tw2 = re.sub(r'<.*?>',' ', tw1) #remove html tags\n",
    "    tw3 = re.sub(r'\\d+',' ', tw2) #remove digits\n",
    "    tw4 = re.sub(r'#',' ', tw3) #remove tags but keeps words\n",
    "    tw5 = re.sub('(RT\\s@[A-Za-z]+[A-Za-z0-9-_]+)', '', tw4) #remove users\n",
    "    tw6 = re.sub('(@[A-Za-z]+[A-Za-z0-9-_]+)', '', tw5) #remove users\n",
    "    tw7 = re.sub('VIDEO:', '', tw6)#removes video tag\n",
    "    tw8 = tweet = re.sub('AUDIO:', '', tw7) #removes audio tag\n",
    "    tw9 = re.sub('\\s+', ' ', tw8) #removes double spaces\n",
    "    r = re.sub('[^a-zA-Z]', ' ', tw9)\n",
    "    r = r.split()\n",
    "    \n",
    "    counter = 0\n",
    "    for word in r:\n",
    "        if word.isupper():\n",
    "            counter += 1\n",
    "    num_caps_test.append(counter)\n",
    "    \n",
    "    r = ' '.join(r)\n",
    "    r = r.lower()\n",
    "    r = r.split()\n",
    "    \n",
    "    #remove stopwords\n",
    "    r = [lemmatize(word) for word in r if word not in stopwords if len(word) >= 3]\n",
    "    r = ' '.join(r)\n",
    "    corpus_train.append(r)\n"
   ]
  },
  {
   "cell_type": "code",
   "execution_count": 15,
   "id": "a5f67f33",
   "metadata": {},
   "outputs": [
    {
     "data": {
      "text/plain": [
       "\"All month there hasn't been crowding in the supermarkets or restaurants, however reducing all the hours and closing the malls means everyone is now using the same entrance and dependent on a single supermarket. #manila #lockdown #covid2019 #Philippines https://t.co/HxWs9LAnF9\""
      ]
     },
     "execution_count": 15,
     "metadata": {},
     "output_type": "execute_result"
    }
   ],
   "source": [
    "X_train[10]"
   ]
  },
  {
   "cell_type": "code",
   "execution_count": 16,
   "id": "bce3a1a4",
   "metadata": {},
   "outputs": [
    {
     "data": {
      "text/plain": [
       "'month crowd supermarkets restaurants however reduce hours close malls mean everyone use entrance dependent single supermarket manila lockdown covid philippines'"
      ]
     },
     "execution_count": 16,
     "metadata": {},
     "output_type": "execute_result"
    }
   ],
   "source": [
    "corpus_train[10]"
   ]
  },
  {
   "cell_type": "code",
   "execution_count": 17,
   "id": "e3c9d530",
   "metadata": {},
   "outputs": [],
   "source": [
    "from sklearn.feature_extraction.text import CountVectorizer\n",
    "vecs = CountVectorizer(max_features=10000)\n",
    "\n",
    "\n",
    "new_X_train = vecs.fit_transform(corpus_train)\n",
    "new_X_test = vecs.transform(corpus_test)\n",
    "\n",
    "m_train = new_X_train.todense()\n",
    "m_test = new_X_test.todense()"
   ]
  },
  {
   "cell_type": "code",
   "execution_count": 18,
   "id": "d96f6c00",
   "metadata": {},
   "outputs": [
    {
     "name": "stdout",
     "output_type": "stream",
     "text": [
      "(3798, 10000)\n",
      "(41157, 10000)\n"
     ]
    }
   ],
   "source": [
    "print(new_X_test.shape)\n",
    "print(new_X_train.shape)"
   ]
  },
  {
   "cell_type": "code",
   "execution_count": 19,
   "id": "d288b7ed",
   "metadata": {},
   "outputs": [
    {
     "name": "stdout",
     "output_type": "stream",
     "text": [
      "The length of our new matrix is: 10000\n"
     ]
    }
   ],
   "source": [
    "print(\"The length of our new matrix is:\", len(vecs.get_feature_names()))"
   ]
  },
  {
   "cell_type": "markdown",
   "id": "ff4c32c9",
   "metadata": {},
   "source": [
    "\"Original\" Model"
   ]
  },
  {
   "cell_type": "code",
   "execution_count": 20,
   "id": "e8fc1c89",
   "metadata": {},
   "outputs": [
    {
     "name": "stdout",
     "output_type": "stream",
     "text": [
      "Iteration 1, loss = 1.24602355\n",
      "Validation score: 0.616618\n",
      "Iteration 2, loss = 0.80214338\n",
      "Validation score: 0.652575\n",
      "Iteration 3, loss = 0.61629388\n",
      "Validation score: 0.655005\n",
      "Iteration 4, loss = 0.49593299\n",
      "Validation score: 0.649417\n",
      "Iteration 5, loss = 0.40275849\n",
      "Validation score: 0.643343\n",
      "Iteration 6, loss = 0.32757479\n",
      "Validation score: 0.637755\n",
      "Iteration 7, loss = 0.26546261\n",
      "Validation score: 0.635811\n",
      "Iteration 8, loss = 0.21455068\n",
      "Validation score: 0.632896\n",
      "Iteration 9, loss = 0.17358718\n",
      "Validation score: 0.623178\n",
      "Iteration 10, loss = 0.13998163\n",
      "Validation score: 0.627065\n",
      "Iteration 11, loss = 0.11319577\n",
      "Validation score: 0.624393\n",
      "Iteration 12, loss = 0.09315193\n",
      "Validation score: 0.619048\n",
      "Iteration 13, loss = 0.07678459\n",
      "Validation score: 0.621720\n",
      "Iteration 14, loss = 0.06414042\n",
      "Validation score: 0.615160\n",
      "Validation score did not improve more than tol=0.000100 for 10 consecutive epochs. Stopping.\n",
      "My program took 78.36541891098022 to run\n"
     ]
    }
   ],
   "source": [
    "from sklearn.neural_network import MLPClassifier\n",
    "from sklearn.metrics import accuracy_score\n",
    "from sklearn.metrics import classification_report\n",
    "\n",
    "mlp = MLPClassifier(early_stopping = True, max_iter = 100, verbose = True)\n",
    "\n",
    "start_time = time.time()\n",
    "mlp_model = mlp.fit(m_train,y_train)\n",
    "print(\"My program took\", time.time() - start_time, \"to run\")"
   ]
  },
  {
   "cell_type": "code",
   "execution_count": 21,
   "id": "e5a5023f",
   "metadata": {},
   "outputs": [
    {
     "data": {
      "text/plain": [
       "(100,)"
      ]
     },
     "execution_count": 21,
     "metadata": {},
     "output_type": "execute_result"
    }
   ],
   "source": [
    "mlp_model.hidden_layer_sizes"
   ]
  },
  {
   "cell_type": "code",
   "execution_count": 22,
   "id": "74211c9f",
   "metadata": {},
   "outputs": [
    {
     "name": "stdout",
     "output_type": "stream",
     "text": [
      "MLP Accuracy Score: 0.636650868878357\n",
      "                    precision    recall  f1-score   support\n",
      "\n",
      "Extremely Negative       0.68      0.62      0.65       592\n",
      "Extremely Positive       0.78      0.63      0.69       599\n",
      "          Negative       0.58      0.60      0.59      1041\n",
      "           Neutral       0.70      0.69      0.69       619\n",
      "          Positive       0.58      0.66      0.62       947\n",
      "\n",
      "          accuracy                           0.64      3798\n",
      "         macro avg       0.66      0.64      0.65      3798\n",
      "      weighted avg       0.64      0.64      0.64      3798\n",
      "\n"
     ]
    }
   ],
   "source": [
    "from sklearn.metrics import confusion_matrix\n",
    "y_pred = mlp_model.predict(m_test)\n",
    "cm_mlp = confusion_matrix(y_test, y_pred)\n",
    "print(\"MLP Accuracy Score:\", accuracy_score(y_test,y_pred))\n",
    "print(classification_report(y_test, y_pred))"
   ]
  },
  {
   "cell_type": "code",
   "execution_count": 23,
   "id": "4e2ad500",
   "metadata": {},
   "outputs": [
    {
     "data": {
      "image/png": "[encoded data removed]",
      "text/plain": [
       "<Figure size 432x288 with 1 Axes>"
      ]
     },
     "metadata": {},
     "output_type": "display_data"
    }
   ],
   "source": [
    "import matplotlib.pyplot as plt\n",
    "import seaborn as sns\n",
    "palette=sns.color_palette('magma')\n",
    "sns.set(palette=palette)\n",
    "\n",
    "sns.heatmap(cm_mlp, annot=True, fmt='g', cbar=False)\n",
    "plt.xlabel('Predicted Values')\n",
    "plt.ylabel('Actual Values')\n",
    "plt.title('MLP Confusion Matrix')\n",
    "plt.show()"
   ]
  },
  {
   "cell_type": "code",
   "execution_count": 24,
   "id": "436e134d",
   "metadata": {},
   "outputs": [
    {
     "name": "stdout",
     "output_type": "stream",
     "text": [
      "Panic food buying in Germany due to #coronavirus has begun.  But the #organic is left behind! #Hamsterkauf\r",
      "\r\n",
      "\r",
      "\r\n",
      "Panic buying is called \"Hamster purchases\"(Hamsterkäufe) in German, taken from the way Hamsters stuff their cheeks with food.  \r",
      "\r\n",
      "\r",
      "\r\n",
      "https://t.co/aYQtLLGW1m Extremely Negative\n",
      "panic food buy germany due coronavirus begin organic leave behind hamsterkauf panic buy call hamster purchase hamsterk ufe german take way hamsters stuff cheek food Extremely Negative\n"
     ]
    }
   ],
   "source": [
    "print(X_test[12], y_test[12])\n",
    "print(corpus_test[12], y_pred[12])"
   ]
  },
  {
   "cell_type": "code",
   "execution_count": 25,
   "id": "0e6563b2",
   "metadata": {},
   "outputs": [],
   "source": [
    "mp={'Extremely Negative':-1, 'Negative':-1, 'Neutral':0,\n",
    "                'Positive':1, 'Extremely Positive':1}\n",
    "\n",
    "y_train2 = y_train.map(lambda x: mp[x])\n",
    "y_test2 = y_test.map(lambda x: mp[x])"
   ]
  },
  {
   "cell_type": "code",
   "execution_count": 26,
   "id": "f2d57705",
   "metadata": {},
   "outputs": [
    {
     "name": "stdout",
     "output_type": "stream",
     "text": [
      "Iteration 1, loss = 0.74175346\n",
      "Validation score: 0.795190\n",
      "Iteration 2, loss = 0.44678997\n",
      "Validation score: 0.810010\n",
      "Iteration 3, loss = 0.33634548\n",
      "Validation score: 0.810739\n",
      "Iteration 4, loss = 0.26249475\n",
      "Validation score: 0.812682\n",
      "Iteration 5, loss = 0.20533153\n",
      "Validation score: 0.808795\n",
      "Iteration 6, loss = 0.15757186\n",
      "Validation score: 0.805879\n",
      "Iteration 7, loss = 0.12073969\n",
      "Validation score: 0.799563\n",
      "Iteration 8, loss = 0.09209829\n",
      "Validation score: 0.795432\n",
      "Iteration 9, loss = 0.06943350\n",
      "Validation score: 0.799806\n",
      "Iteration 10, loss = 0.05336570\n",
      "Validation score: 0.798105\n",
      "Iteration 11, loss = 0.04183419\n",
      "Validation score: 0.794947\n",
      "Iteration 12, loss = 0.03344940\n",
      "Validation score: 0.792517\n",
      "Iteration 13, loss = 0.02706853\n",
      "Validation score: 0.789845\n",
      "Iteration 14, loss = 0.02287101\n",
      "Validation score: 0.791059\n",
      "Iteration 15, loss = 0.01942969\n",
      "Validation score: 0.788873\n",
      "Validation score did not improve more than tol=0.000100 for 10 consecutive epochs. Stopping.\n",
      "My program took 83.92235398292542 to run\n"
     ]
    }
   ],
   "source": [
    "mlp2 = MLPClassifier(early_stopping = True, max_iter = 100, verbose = True)\n",
    "start_time = time.time()\n",
    "mlp_model2 = mlp2.fit(m_train,y_train2)\n",
    "print(\"My program took\", time.time() - start_time, \"to run\")"
   ]
  },
  {
   "cell_type": "code",
   "execution_count": 27,
   "id": "564d2dfb",
   "metadata": {},
   "outputs": [
    {
     "name": "stdout",
     "output_type": "stream",
     "text": [
      "MLP Accuracy Score: 0.8117430226434966\n",
      "              precision    recall  f1-score   support\n",
      "\n",
      "          -1       0.83      0.82      0.82      1633\n",
      "           0       0.73      0.71      0.72       619\n",
      "           1       0.82      0.84      0.83      1546\n",
      "\n",
      "    accuracy                           0.81      3798\n",
      "   macro avg       0.80      0.79      0.79      3798\n",
      "weighted avg       0.81      0.81      0.81      3798\n",
      "\n"
     ]
    }
   ],
   "source": [
    "y_pred2 = mlp_model2.predict(m_test)\n",
    "cm_mlp2 = confusion_matrix(y_test2, y_pred2)\n",
    "print(\"MLP Accuracy Score:\", accuracy_score(y_test2,y_pred2))\n",
    "print(classification_report(y_test2, y_pred2))"
   ]
  },
  {
   "cell_type": "code",
   "execution_count": 28,
   "id": "6bbf9ce9",
   "metadata": {},
   "outputs": [
    {
     "data": {
      "image/png": "[encoded data removed]",
      "text/plain": [
       "<Figure size 432x288 with 1 Axes>"
      ]
     },
     "metadata": {},
     "output_type": "display_data"
    }
   ],
   "source": [
    "sns.heatmap(cm_mlp2, annot=True, fmt='g', cbar=False)\n",
    "plt.xlabel('Predicted Values')\n",
    "plt.ylabel('Actual Values')\n",
    "plt.title('MLP Confusion Matrix')\n",
    "plt.show()"
   ]
  },
  {
   "cell_type": "markdown",
   "id": "f46e3528",
   "metadata": {},
   "source": [
    "TfidfVectorizer"
   ]
  },
  {
   "cell_type": "code",
   "execution_count": 29,
   "id": "e1f5a79f",
   "metadata": {},
   "outputs": [],
   "source": [
    "from sklearn.feature_extraction.text import TfidfVectorizer\n",
    "vecs = TfidfVectorizer()\n",
    "\n",
    "\n",
    "new_X_train = vecs.fit_transform(corpus_train)\n",
    "new_X_test = vecs.transform(corpus_test)\n",
    "\n",
    "m_train = new_X_train.todense()\n",
    "m_test = new_X_test.todense()"
   ]
  },
  {
   "cell_type": "code",
   "execution_count": 30,
   "id": "ae13cb2c",
   "metadata": {},
   "outputs": [
    {
     "name": "stdout",
     "output_type": "stream",
     "text": [
      "Iteration 1, loss = 1.42386197\n",
      "Validation score: 0.512148\n",
      "Iteration 2, loss = 0.96020601\n",
      "Validation score: 0.599125\n",
      "Iteration 3, loss = 0.66775581\n",
      "Validation score: 0.611030\n",
      "Iteration 4, loss = 0.49534375\n",
      "Validation score: 0.609572\n",
      "Iteration 5, loss = 0.38729297\n",
      "Validation score: 0.603741\n",
      "Iteration 6, loss = 0.31325782\n",
      "Validation score: 0.601069\n",
      "Iteration 7, loss = 0.26071808\n",
      "Validation score: 0.590865\n",
      "Iteration 8, loss = 0.22076496\n",
      "Validation score: 0.591837\n",
      "Iteration 9, loss = 0.19009973\n",
      "Validation score: 0.580418\n",
      "Iteration 10, loss = 0.16512054\n",
      "Validation score: 0.575559\n",
      "Iteration 11, loss = 0.14523682\n",
      "Validation score: 0.573858\n",
      "Iteration 12, loss = 0.12792980\n",
      "Validation score: 0.572643\n",
      "Iteration 13, loss = 0.11343100\n",
      "Validation score: 0.563654\n",
      "Iteration 14, loss = 0.10107529\n",
      "Validation score: 0.564626\n",
      "Validation score did not improve more than tol=0.000100 for 10 consecutive epochs. Stopping.\n",
      "My program took 261.53839802742004 to run\n"
     ]
    }
   ],
   "source": [
    "mlp = MLPClassifier(early_stopping = True, max_iter = 100, verbose = True)\n",
    "start_time = time.time()\n",
    "mlp_model = mlp.fit(m_train,y_train)\n",
    "print(\"My program took\", time.time() - start_time, \"to run\")"
   ]
  },
  {
   "cell_type": "code",
   "execution_count": 31,
   "id": "65fc89e8",
   "metadata": {},
   "outputs": [
    {
     "name": "stdout",
     "output_type": "stream",
     "text": [
      "MLP Accuracy Score: 0.5755660874144286\n",
      "                    precision    recall  f1-score   support\n",
      "\n",
      "Extremely Negative       0.66      0.52      0.58       592\n",
      "Extremely Positive       0.73      0.53      0.62       599\n",
      "          Negative       0.53      0.56      0.54      1041\n",
      "           Neutral       0.63      0.61      0.62       619\n",
      "          Positive       0.51      0.63      0.56       947\n",
      "\n",
      "          accuracy                           0.58      3798\n",
      "         macro avg       0.61      0.57      0.58      3798\n",
      "      weighted avg       0.59      0.58      0.58      3798\n",
      "\n"
     ]
    }
   ],
   "source": [
    "y_pred = mlp_model.predict(m_test)\n",
    "cm_mlp = confusion_matrix(y_test, y_pred)\n",
    "print(\"MLP Accuracy Score:\", accuracy_score(y_test,y_pred))\n",
    "print(classification_report(y_test, y_pred))"
   ]
  },
  {
   "cell_type": "code",
   "execution_count": 32,
   "id": "9755040a",
   "metadata": {},
   "outputs": [
    {
     "data": {
      "image/png": "[encoded data removed]",
      "text/plain": [
       "<Figure size 432x288 with 1 Axes>"
      ]
     },
     "metadata": {},
     "output_type": "display_data"
    }
   ],
   "source": [
    "sns.heatmap(cm_mlp, annot=True, fmt='g', cbar=False)\n",
    "plt.xlabel('Predicted Values')\n",
    "plt.ylabel('Actual Values')\n",
    "plt.title('MLP Confusion Matrix')\n",
    "plt.show()"
   ]
  },
  {
   "cell_type": "code",
   "execution_count": 33,
   "id": "b8a80025",
   "metadata": {},
   "outputs": [],
   "source": [
    "y_train2 = y_train.map(lambda x: mp[x])\n",
    "y_test2 = y_test.map(lambda x: mp[x])"
   ]
  },
  {
   "cell_type": "code",
   "execution_count": 34,
   "id": "1ecea5b7",
   "metadata": {},
   "outputs": [
    {
     "name": "stdout",
     "output_type": "stream",
     "text": [
      "Iteration 1, loss = 0.86721882\n",
      "Validation score: 0.752187\n",
      "Iteration 2, loss = 0.48793706\n",
      "Validation score: 0.801992\n",
      "Iteration 3, loss = 0.31897395\n",
      "Validation score: 0.801992\n",
      "Iteration 4, loss = 0.23614055\n",
      "Validation score: 0.796647\n",
      "Iteration 5, loss = 0.18579247\n",
      "Validation score: 0.793246\n",
      "Iteration 6, loss = 0.15094601\n",
      "Validation score: 0.785957\n",
      "Iteration 7, loss = 0.12493271\n",
      "Validation score: 0.782556\n",
      "Iteration 8, loss = 0.10552052\n",
      "Validation score: 0.772838\n",
      "Iteration 9, loss = 0.08964717\n",
      "Validation score: 0.770165\n",
      "Iteration 10, loss = 0.07641807\n",
      "Validation score: 0.767007\n",
      "Iteration 11, loss = 0.06566964\n",
      "Validation score: 0.763605\n",
      "Iteration 12, loss = 0.05699743\n",
      "Validation score: 0.762148\n",
      "Iteration 13, loss = 0.04903837\n",
      "Validation score: 0.760690\n",
      "Validation score did not improve more than tol=0.000100 for 10 consecutive epochs. Stopping.\n",
      "My program took 245.5063281059265 to run\n"
     ]
    }
   ],
   "source": [
    "mlp2 = MLPClassifier(early_stopping = True, max_iter = 100, verbose = True)\n",
    "start_time = time.time()\n",
    "mlp_model2 = mlp2.fit(m_train,y_train2)\n",
    "print(\"My program took\", time.time() - start_time, \"to run\")"
   ]
  },
  {
   "cell_type": "code",
   "execution_count": 35,
   "id": "2afbfb41",
   "metadata": {},
   "outputs": [
    {
     "name": "stdout",
     "output_type": "stream",
     "text": [
      "MLP Accuracy Score: 0.7814639283833597\n",
      "              precision    recall  f1-score   support\n",
      "\n",
      "          -1       0.79      0.81      0.80      1633\n",
      "           0       0.70      0.62      0.66       619\n",
      "           1       0.80      0.81      0.81      1546\n",
      "\n",
      "    accuracy                           0.78      3798\n",
      "   macro avg       0.76      0.75      0.76      3798\n",
      "weighted avg       0.78      0.78      0.78      3798\n",
      "\n"
     ]
    }
   ],
   "source": [
    "y_pred2 = mlp_model2.predict(m_test)\n",
    "cm_mlp2 = confusion_matrix(y_test2, y_pred2)\n",
    "print(\"MLP Accuracy Score:\", accuracy_score(y_test2,y_pred2))\n",
    "print(classification_report(y_test2, y_pred2))"
   ]
  },
  {
   "cell_type": "code",
   "execution_count": 36,
   "id": "edd4d9b5",
   "metadata": {},
   "outputs": [
    {
     "data": {
      "image/png": "[encoded data removed]",
      "text/plain": [
       "<Figure size 432x288 with 1 Axes>"
      ]
     },
     "metadata": {},
     "output_type": "display_data"
    }
   ],
   "source": [
    "sns.heatmap(cm_mlp2, annot=True, fmt='g', cbar=False)\n",
    "plt.xlabel('Predicted Values')\n",
    "plt.ylabel('Actual Values')\n",
    "plt.title('MLP Confusion Matrix')\n",
    "plt.show()"
   ]
  },
  {
   "cell_type": "markdown",
   "id": "180423ac",
   "metadata": {},
   "source": [
    "Keeping all caps"
   ]
  },
  {
   "cell_type": "code",
   "execution_count": 37,
   "id": "88d23ce2",
   "metadata": {},
   "outputs": [],
   "source": [
    "corpus_train = []\n",
    "corpus_test = []\n",
    "num_caps_train = []\n",
    "num_caps_test = []\n",
    "\n",
    "\n",
    "for eachreview in X_test:\n",
    "    tw1= re.sub(r'http\\S+', ' ', eachreview) #remove urls\n",
    "    tw2 = re.sub(r'<.*?>',' ', tw1) #remove html tags\n",
    "    tw3 = re.sub(r'\\d+',' ', tw2) #remove digits\n",
    "    tw4 = re.sub(r'#',' ', tw3) #remove tags but keeps words\n",
    "    tw5 = re.sub('(RT\\s@[A-Za-z]+[A-Za-z0-9-_]+)', '', tw4) #remove users\n",
    "    tw6 = re.sub('(@[A-Za-z]+[A-Za-z0-9-_]+)', '', tw5) #remove users\n",
    "    tw7 = re.sub('VIDEO:', '', tw6)#removes video tag\n",
    "    tw8 = tweet = re.sub('AUDIO:', '', tw7) #removes audio tag\n",
    "    tw9 = re.sub('\\s+', ' ', tw8) #removes double spaces\n",
    "    r = re.sub('[^a-zA-Z]', ' ', tw9)\n",
    "    r = r.split()\n",
    "    \n",
    "    counter = 0\n",
    "    for word in r:\n",
    "        if word.isupper():\n",
    "            counter += 1\n",
    "    num_caps_test.append(counter)\n",
    "    \n",
    "    r = [w if w.isupper() else w.lower() for w in r ]\n",
    "    \n",
    "    r = ' '.join(r)\n",
    "    #r = r.lower()\n",
    "    r = r.split()\n",
    "    \n",
    "    #remove stopwords\n",
    "    r = [lemmatize(word) for word in r if word not in stopwords if len(word) >= 3]\n",
    "    r = ' '.join(r)\n",
    "    corpus_test.append(r)\n",
    "    \n",
    "    \n",
    "for eachreview in X_train:\n",
    "    tw1= re.sub(r'http\\S+', ' ', eachreview) #remove urls\n",
    "    tw2 = re.sub(r'<.*?>',' ', tw1) #remove html tags\n",
    "    tw3 = re.sub(r'\\d+',' ', tw2) #remove digits\n",
    "    tw4 = re.sub(r'#',' ', tw3) #remove tags but keeps words\n",
    "    tw5 = re.sub('(RT\\s@[A-Za-z]+[A-Za-z0-9-_]+)', '', tw4) #remove users\n",
    "    tw6 = re.sub('(@[A-Za-z]+[A-Za-z0-9-_]+)', '', tw5) #remove users\n",
    "    tw7 = re.sub('VIDEO:', '', tw6)#removes video tag\n",
    "    tw8 = tweet = re.sub('AUDIO:', '', tw7) #removes audio tag\n",
    "    tw9 = re.sub('\\s+', ' ', tw8) #removes double spaces\n",
    "    r = re.sub('[^a-zA-Z]', ' ', tw9)\n",
    "    r = r.split()\n",
    "    \n",
    "    counter = 0\n",
    "    for word in r:\n",
    "        if word.isupper():\n",
    "            counter += 1\n",
    "    num_caps_train.append(counter)\n",
    "    \n",
    "    r = [w if w.isupper() else w.lower() for w in r ]\n",
    "    \n",
    "    r = ' '.join(r)\n",
    "    #r = r.lower()\n",
    "    r = r.split()\n",
    "    \n",
    "    #remove stopwords\n",
    "    r = [lemmatize(word) for word in r if word not in stopwords if len(word) >= 3]\n",
    "    r = ' '.join(r)\n",
    "    corpus_train.append(r)"
   ]
  },
  {
   "cell_type": "code",
   "execution_count": 38,
   "id": "da8bb3da",
   "metadata": {},
   "outputs": [],
   "source": [
    "vecs = CountVectorizer(max_features=10000)\n",
    "\n",
    "\n",
    "new_X_train = vecs.fit_transform(corpus_train)\n",
    "new_X_test = vecs.transform(corpus_test)\n",
    "\n",
    "m_train = new_X_train.todense()\n",
    "m_test = new_X_test.todense()"
   ]
  },
  {
   "cell_type": "code",
   "execution_count": 39,
   "id": "a4ba71ad",
   "metadata": {},
   "outputs": [
    {
     "name": "stdout",
     "output_type": "stream",
     "text": [
      "(3798, 10000)\n",
      "(41157, 10000)\n"
     ]
    }
   ],
   "source": [
    "print(new_X_test.shape)\n",
    "print(new_X_train.shape)"
   ]
  },
  {
   "cell_type": "code",
   "execution_count": 40,
   "id": "df2e6734",
   "metadata": {},
   "outputs": [
    {
     "name": "stdout",
     "output_type": "stream",
     "text": [
      "The length of our new matrix is: 10000\n"
     ]
    }
   ],
   "source": [
    "print(\"The length of our new matrix is:\", len(vecs.get_feature_names()))"
   ]
  },
  {
   "cell_type": "code",
   "execution_count": 41,
   "id": "a96250e7",
   "metadata": {},
   "outputs": [
    {
     "name": "stdout",
     "output_type": "stream",
     "text": [
      "Iteration 1, loss = 1.26390447\n",
      "Validation score: 0.611516\n",
      "Iteration 2, loss = 0.82067178\n",
      "Validation score: 0.648931\n",
      "Iteration 3, loss = 0.63171416\n",
      "Validation score: 0.651361\n",
      "Iteration 4, loss = 0.50833664\n",
      "Validation score: 0.650146\n",
      "Iteration 5, loss = 0.41265972\n",
      "Validation score: 0.642614\n",
      "Iteration 6, loss = 0.33349156\n",
      "Validation score: 0.633382\n",
      "Iteration 7, loss = 0.26841693\n",
      "Validation score: 0.626822\n",
      "Iteration 8, loss = 0.21543107\n",
      "Validation score: 0.627794\n",
      "Iteration 9, loss = 0.17384336\n",
      "Validation score: 0.623421\n",
      "Iteration 10, loss = 0.13981606\n",
      "Validation score: 0.622449\n",
      "Iteration 11, loss = 0.11234455\n",
      "Validation score: 0.616375\n",
      "Iteration 12, loss = 0.09158140\n",
      "Validation score: 0.615646\n",
      "Iteration 13, loss = 0.07625013\n",
      "Validation score: 0.613217\n",
      "Iteration 14, loss = 0.06279528\n",
      "Validation score: 0.613703\n",
      "Validation score did not improve more than tol=0.000100 for 10 consecutive epochs. Stopping.\n",
      "My program took 81.56967687606812 to run\n"
     ]
    }
   ],
   "source": [
    "mlp = MLPClassifier(early_stopping = True, max_iter = 100, verbose = True)\n",
    "\n",
    "start_time = time.time()\n",
    "mlp_model = mlp.fit(m_train,y_train)\n",
    "print(\"My program took\", time.time() - start_time, \"to run\")"
   ]
  },
  {
   "cell_type": "code",
   "execution_count": 42,
   "id": "a9d06083",
   "metadata": {},
   "outputs": [
    {
     "data": {
      "text/plain": [
       "(100,)"
      ]
     },
     "execution_count": 42,
     "metadata": {},
     "output_type": "execute_result"
    }
   ],
   "source": [
    "mlp_model.hidden_layer_sizes"
   ]
  },
  {
   "cell_type": "code",
   "execution_count": 43,
   "id": "f2316e8e",
   "metadata": {},
   "outputs": [
    {
     "name": "stdout",
     "output_type": "stream",
     "text": [
      "MLP Accuracy Score: 0.6261190100052659\n",
      "                    precision    recall  f1-score   support\n",
      "\n",
      "Extremely Negative       0.71      0.59      0.64       592\n",
      "Extremely Positive       0.79      0.57      0.66       599\n",
      "          Negative       0.56      0.59      0.58      1041\n",
      "           Neutral       0.71      0.69      0.70       619\n",
      "          Positive       0.55      0.69      0.61       947\n",
      "\n",
      "          accuracy                           0.63      3798\n",
      "         macro avg       0.66      0.62      0.64      3798\n",
      "      weighted avg       0.64      0.63      0.63      3798\n",
      "\n"
     ]
    }
   ],
   "source": [
    "y_pred = mlp_model.predict(m_test)\n",
    "cm_mlp = confusion_matrix(y_test, y_pred)\n",
    "print(\"MLP Accuracy Score:\", accuracy_score(y_test,y_pred))\n",
    "print(classification_report(y_test, y_pred))"
   ]
  },
  {
   "cell_type": "code",
   "execution_count": 44,
   "id": "54f2d226",
   "metadata": {},
   "outputs": [
    {
     "data": {
      "image/png": "[encoded data removed]",
      "text/plain": [
       "<Figure size 432x288 with 1 Axes>"
      ]
     },
     "metadata": {},
     "output_type": "display_data"
    }
   ],
   "source": [
    "sns.heatmap(cm_mlp, annot=True, fmt='g', cbar=False)\n",
    "plt.xlabel('Predicted Values')\n",
    "plt.ylabel('Actual Values')\n",
    "plt.title('MLP Confusion Matrix')\n",
    "plt.show()"
   ]
  },
  {
   "cell_type": "code",
   "execution_count": 45,
   "id": "12673ffe",
   "metadata": {},
   "outputs": [],
   "source": [
    "y_train2 = y_train.map(lambda x: mp[x])\n",
    "y_test2 = y_test.map(lambda x: mp[x])"
   ]
  },
  {
   "cell_type": "code",
   "execution_count": 46,
   "id": "7f6e198b",
   "metadata": {},
   "outputs": [
    {
     "name": "stdout",
     "output_type": "stream",
     "text": [
      "Iteration 1, loss = 0.73109561\n",
      "Validation score: 0.801992\n",
      "Iteration 2, loss = 0.44383169\n",
      "Validation score: 0.809524\n",
      "Iteration 3, loss = 0.33854728\n",
      "Validation score: 0.806851\n",
      "Iteration 4, loss = 0.26817070\n",
      "Validation score: 0.810253\n",
      "Iteration 5, loss = 0.21223211\n",
      "Validation score: 0.803936\n",
      "Iteration 6, loss = 0.16775227\n",
      "Validation score: 0.803207\n",
      "Iteration 7, loss = 0.13058979\n",
      "Validation score: 0.799563\n",
      "Iteration 8, loss = 0.10050691\n",
      "Validation score: 0.796647\n",
      "Iteration 9, loss = 0.07840817\n",
      "Validation score: 0.796404\n",
      "Iteration 10, loss = 0.06120725\n",
      "Validation score: 0.789359\n",
      "Iteration 11, loss = 0.04910638\n",
      "Validation score: 0.796161\n",
      "Iteration 12, loss = 0.03877219\n",
      "Validation score: 0.792274\n",
      "Iteration 13, loss = 0.03179402\n",
      "Validation score: 0.792760\n",
      "Iteration 14, loss = 0.02633283\n",
      "Validation score: 0.793246\n",
      "Iteration 15, loss = 0.02240254\n",
      "Validation score: 0.790330\n",
      "Validation score did not improve more than tol=0.000100 for 10 consecutive epochs. Stopping.\n",
      "My program took 87.04003500938416 to run\n"
     ]
    }
   ],
   "source": [
    "mlp2 = MLPClassifier(early_stopping = True, max_iter = 100, verbose = True)\n",
    "start_time = time.time()\n",
    "mlp_model2 = mlp2.fit(m_train,y_train2)\n",
    "print(\"My program took\", time.time() - start_time, \"to run\")"
   ]
  },
  {
   "cell_type": "code",
   "execution_count": 47,
   "id": "32302a9c",
   "metadata": {},
   "outputs": [
    {
     "name": "stdout",
     "output_type": "stream",
     "text": [
      "MLP Accuracy Score: 0.8012111637704055\n",
      "              precision    recall  f1-score   support\n",
      "\n",
      "          -1       0.85      0.78      0.81      1633\n",
      "           0       0.71      0.72      0.72       619\n",
      "           1       0.79      0.86      0.82      1546\n",
      "\n",
      "    accuracy                           0.80      3798\n",
      "   macro avg       0.78      0.79      0.78      3798\n",
      "weighted avg       0.80      0.80      0.80      3798\n",
      "\n"
     ]
    }
   ],
   "source": [
    "y_pred2 = mlp_model2.predict(m_test)\n",
    "cm_mlp2 = confusion_matrix(y_test2, y_pred2)\n",
    "print(\"MLP Accuracy Score:\", accuracy_score(y_test2,y_pred2))\n",
    "print(classification_report(y_test2, y_pred2))"
   ]
  },
  {
   "cell_type": "code",
   "execution_count": 48,
   "id": "c75253e7",
   "metadata": {
    "scrolled": true
   },
   "outputs": [
    {
     "data": {
      "image/png": "[encoded data removed]",
      "text/plain": [
       "<Figure size 432x288 with 1 Axes>"
      ]
     },
     "metadata": {},
     "output_type": "display_data"
    }
   ],
   "source": [
    "sns.heatmap(cm_mlp2, annot=True, fmt='g', cbar=False)\n",
    "plt.xlabel('Predicted Values')\n",
    "plt.ylabel('Actual Values')\n",
    "plt.title('MLP Confusion Matrix')\n",
    "plt.show()"
   ]
  },
  {
   "cell_type": "markdown",
   "id": "7b5bc848",
   "metadata": {},
   "source": [
    "Number of all caps"
   ]
  },
  {
   "cell_type": "code",
   "execution_count": 49,
   "id": "cdcf5b1c",
   "metadata": {},
   "outputs": [],
   "source": [
    "import numpy as np \n",
    "num_caps_train = np.array(num_caps_train).reshape(-1, 1)\n",
    "num_caps_test = np.array(num_caps_test).reshape(-1, 1)"
   ]
  },
  {
   "cell_type": "code",
   "execution_count": 50,
   "id": "a7739755",
   "metadata": {},
   "outputs": [
    {
     "name": "stdout",
     "output_type": "stream",
     "text": [
      "Iteration 1, loss = 1.57765917\n",
      "Validation score: 0.281584\n",
      "Iteration 2, loss = 1.57301226\n",
      "Validation score: 0.282070\n",
      "Iteration 3, loss = 1.57274745\n",
      "Validation score: 0.281341\n",
      "Iteration 4, loss = 1.57310903\n",
      "Validation score: 0.280126\n",
      "Iteration 5, loss = 1.57311979\n",
      "Validation score: 0.280612\n",
      "Iteration 6, loss = 1.57297781\n",
      "Validation score: 0.282313\n",
      "Iteration 7, loss = 1.57315529\n",
      "Validation score: 0.281098\n",
      "Iteration 8, loss = 1.57269091\n",
      "Validation score: 0.281584\n",
      "Iteration 9, loss = 1.57295259\n",
      "Validation score: 0.280369\n",
      "Iteration 10, loss = 1.57286437\n",
      "Validation score: 0.281341\n",
      "Iteration 11, loss = 1.57291406\n",
      "Validation score: 0.281098\n",
      "Iteration 12, loss = 1.57325837\n",
      "Validation score: 0.281584\n",
      "Iteration 13, loss = 1.57275192\n",
      "Validation score: 0.281341\n",
      "Iteration 14, loss = 1.57265424\n",
      "Validation score: 0.281584\n",
      "Iteration 15, loss = 1.57259130\n",
      "Validation score: 0.281584\n",
      "Iteration 16, loss = 1.57311385\n",
      "Validation score: 0.280612\n",
      "Iteration 17, loss = 1.57289939\n",
      "Validation score: 0.281827\n",
      "Validation score did not improve more than tol=0.000100 for 10 consecutive epochs. Stopping.\n",
      "My program took 1.5402162075042725 to run\n"
     ]
    }
   ],
   "source": [
    "mlp = MLPClassifier(early_stopping = True, max_iter = 100, verbose = True)\n",
    "\n",
    "start_time = time.time()\n",
    "mlp_model = mlp.fit(num_caps_train,y_train)\n",
    "print(\"My program took\", time.time() - start_time, \"to run\")"
   ]
  },
  {
   "cell_type": "code",
   "execution_count": 51,
   "id": "f43b9de9",
   "metadata": {},
   "outputs": [
    {
     "data": {
      "text/plain": [
       "(100,)"
      ]
     },
     "execution_count": 51,
     "metadata": {},
     "output_type": "execute_result"
    }
   ],
   "source": [
    "mlp_model.hidden_layer_sizes"
   ]
  },
  {
   "cell_type": "code",
   "execution_count": 52,
   "id": "6ed3755f",
   "metadata": {},
   "outputs": [
    {
     "name": "stdout",
     "output_type": "stream",
     "text": [
      "MLP Accuracy Score: 0.25013164823591366\n",
      "                    precision    recall  f1-score   support\n",
      "\n",
      "Extremely Negative       0.00      0.00      0.00       592\n",
      "Extremely Positive       0.25      0.00      0.00       599\n",
      "          Negative       0.20      0.00      0.01      1041\n",
      "           Neutral       0.00      0.00      0.00       619\n",
      "          Positive       0.25      1.00      0.40       947\n",
      "\n",
      "          accuracy                           0.25      3798\n",
      "         macro avg       0.14      0.20      0.08      3798\n",
      "      weighted avg       0.16      0.25      0.10      3798\n",
      "\n"
     ]
    },
    {
     "name": "stderr",
     "output_type": "stream",
     "text": [
      "/Users/morganford/opt/anaconda3/lib/python3.9/site-packages/sklearn/metrics/_classification.py:1248: UndefinedMetricWarning: Precision and F-score are ill-defined and being set to 0.0 in labels with no predicted samples. Use `zero_division` parameter to control this behavior.\n",
      "  _warn_prf(average, modifier, msg_start, len(result))\n",
      "/Users/morganford/opt/anaconda3/lib/python3.9/site-packages/sklearn/metrics/_classification.py:1248: UndefinedMetricWarning: Precision and F-score are ill-defined and being set to 0.0 in labels with no predicted samples. Use `zero_division` parameter to control this behavior.\n",
      "  _warn_prf(average, modifier, msg_start, len(result))\n",
      "/Users/morganford/opt/anaconda3/lib/python3.9/site-packages/sklearn/metrics/_classification.py:1248: UndefinedMetricWarning: Precision and F-score are ill-defined and being set to 0.0 in labels with no predicted samples. Use `zero_division` parameter to control this behavior.\n",
      "  _warn_prf(average, modifier, msg_start, len(result))\n"
     ]
    }
   ],
   "source": [
    "y_pred = mlp_model.predict(num_caps_test)\n",
    "cm_mlp = confusion_matrix(y_test, y_pred)\n",
    "print(\"MLP Accuracy Score:\", accuracy_score(y_test,y_pred))\n",
    "print(classification_report(y_test, y_pred))"
   ]
  },
  {
   "cell_type": "code",
   "execution_count": 53,
   "id": "2dca01e3",
   "metadata": {},
   "outputs": [
    {
     "data": {
      "image/png": "[encoded data removed]",
      "text/plain": [
       "<Figure size 432x288 with 1 Axes>"
      ]
     },
     "metadata": {},
     "output_type": "display_data"
    }
   ],
   "source": [
    "sns.heatmap(cm_mlp, annot=True, fmt='g', cbar=False)\n",
    "plt.xlabel('Predicted Values')\n",
    "plt.ylabel('Actual Values')\n",
    "plt.title('MLP Confusion Matrix')\n",
    "plt.show()"
   ]
  },
  {
   "cell_type": "code",
   "execution_count": 54,
   "id": "02bcfe3b",
   "metadata": {},
   "outputs": [],
   "source": [
    "y_train2 = y_train.map(lambda x: mp[x])\n",
    "y_test2 = y_test.map(lambda x: mp[x])"
   ]
  },
  {
   "cell_type": "code",
   "execution_count": 55,
   "id": "81564fb0",
   "metadata": {},
   "outputs": [
    {
     "name": "stdout",
     "output_type": "stream",
     "text": [
      "Iteration 1, loss = 1.04607513\n",
      "Validation score: 0.436346\n",
      "Iteration 2, loss = 1.04274336\n",
      "Validation score: 0.424441\n",
      "Iteration 3, loss = 1.04244504\n",
      "Validation score: 0.437318\n",
      "Iteration 4, loss = 1.04227330\n",
      "Validation score: 0.436346\n",
      "Iteration 5, loss = 1.04247668\n",
      "Validation score: 0.437318\n",
      "Iteration 6, loss = 1.04209156\n",
      "Validation score: 0.437318\n",
      "Iteration 7, loss = 1.04224274\n",
      "Validation score: 0.434159\n",
      "Iteration 8, loss = 1.04240300\n",
      "Validation score: 0.437318\n",
      "Iteration 9, loss = 1.04252687\n",
      "Validation score: 0.437561\n",
      "Iteration 10, loss = 1.04236778\n",
      "Validation score: 0.438533\n",
      "Iteration 11, loss = 1.04237396\n",
      "Validation score: 0.437318\n",
      "Iteration 12, loss = 1.04235198\n",
      "Validation score: 0.437318\n",
      "Iteration 13, loss = 1.04232325\n",
      "Validation score: 0.436589\n",
      "Iteration 14, loss = 1.04255376\n",
      "Validation score: 0.437318\n",
      "Iteration 15, loss = 1.04220168\n",
      "Validation score: 0.432216\n",
      "Iteration 16, loss = 1.04232440\n",
      "Validation score: 0.436346\n",
      "Iteration 17, loss = 1.04221824\n",
      "Validation score: 0.437318\n",
      "Iteration 18, loss = 1.04219507\n",
      "Validation score: 0.437318\n",
      "Iteration 19, loss = 1.04251061\n",
      "Validation score: 0.437318\n",
      "Iteration 20, loss = 1.04214305\n",
      "Validation score: 0.437318\n",
      "Iteration 21, loss = 1.04253873\n",
      "Validation score: 0.437561\n",
      "Validation score did not improve more than tol=0.000100 for 10 consecutive epochs. Stopping.\n",
      "My program took 1.7375500202178955 to run\n"
     ]
    }
   ],
   "source": [
    "mlp2 = MLPClassifier(early_stopping = True, max_iter = 100, verbose = True)\n",
    "start_time = time.time()\n",
    "mlp_model2 = mlp2.fit(num_caps_train,y_train2)\n",
    "print(\"My program took\", time.time() - start_time, \"to run\")"
   ]
  },
  {
   "cell_type": "code",
   "execution_count": 56,
   "id": "9b6ba43a",
   "metadata": {},
   "outputs": [
    {
     "name": "stdout",
     "output_type": "stream",
     "text": [
      "MLP Accuracy Score: 0.408899420747762\n",
      "              precision    recall  f1-score   support\n",
      "\n",
      "          -1       0.65      0.01      0.01      1633\n",
      "           0       0.00      0.00      0.00       619\n",
      "           1       0.41      1.00      0.58      1546\n",
      "\n",
      "    accuracy                           0.41      3798\n",
      "   macro avg       0.35      0.33      0.20      3798\n",
      "weighted avg       0.44      0.41      0.24      3798\n",
      "\n"
     ]
    },
    {
     "name": "stderr",
     "output_type": "stream",
     "text": [
      "/Users/morganford/opt/anaconda3/lib/python3.9/site-packages/sklearn/metrics/_classification.py:1248: UndefinedMetricWarning: Precision and F-score are ill-defined and being set to 0.0 in labels with no predicted samples. Use `zero_division` parameter to control this behavior.\n",
      "  _warn_prf(average, modifier, msg_start, len(result))\n",
      "/Users/morganford/opt/anaconda3/lib/python3.9/site-packages/sklearn/metrics/_classification.py:1248: UndefinedMetricWarning: Precision and F-score are ill-defined and being set to 0.0 in labels with no predicted samples. Use `zero_division` parameter to control this behavior.\n",
      "  _warn_prf(average, modifier, msg_start, len(result))\n",
      "/Users/morganford/opt/anaconda3/lib/python3.9/site-packages/sklearn/metrics/_classification.py:1248: UndefinedMetricWarning: Precision and F-score are ill-defined and being set to 0.0 in labels with no predicted samples. Use `zero_division` parameter to control this behavior.\n",
      "  _warn_prf(average, modifier, msg_start, len(result))\n"
     ]
    }
   ],
   "source": [
    "y_pred2 = mlp_model2.predict(num_caps_test)\n",
    "cm_mlp2 = confusion_matrix(y_test2, y_pred2)\n",
    "print(\"MLP Accuracy Score:\", accuracy_score(y_test2,y_pred2))\n",
    "print(classification_report(y_test2, y_pred2))"
   ]
  },
  {
   "cell_type": "code",
   "execution_count": 57,
   "id": "27c6c78c",
   "metadata": {
    "scrolled": true
   },
   "outputs": [
    {
     "data": {
      "image/png": "[encoded data removed]",
      "text/plain": [
       "<Figure size 432x288 with 1 Axes>"
      ]
     },
     "metadata": {},
     "output_type": "display_data"
    }
   ],
   "source": [
    "sns.heatmap(cm_mlp2, annot=True, fmt='g', cbar=False)\n",
    "plt.xlabel('Predicted Values')\n",
    "plt.ylabel('Actual Values')\n",
    "plt.title('MLP Confusion Matrix')\n",
    "plt.show()"
   ]
  },
  {
   "cell_type": "markdown",
   "id": "0581d391",
   "metadata": {},
   "source": [
    "PCA"
   ]
  },
  {
   "cell_type": "code",
   "execution_count": 58,
   "id": "190f5a12",
   "metadata": {},
   "outputs": [],
   "source": [
    "corpus_train = []\n",
    "corpus_test = []\n",
    "num_caps_train = []\n",
    "num_caps_test = []\n",
    "\n",
    "\n",
    "for eachreview in X_test:\n",
    "    tw1= re.sub(r'http\\S+', ' ', eachreview) #remove urls\n",
    "    tw2 = re.sub(r'<.*?>',' ', tw1) #remove html tags\n",
    "    tw3 = re.sub(r'\\d+',' ', tw2) #remove digits\n",
    "    tw4 = re.sub(r'#',' ', tw3) #remove tags but keeps words\n",
    "    tw5 = re.sub('(RT\\s@[A-Za-z]+[A-Za-z0-9-_]+)', '', tw4) #remove users\n",
    "    tw6 = re.sub('(@[A-Za-z]+[A-Za-z0-9-_]+)', '', tw5) #remove users\n",
    "    tw7 = re.sub('VIDEO:', '', tw6)#removes video tag\n",
    "    tw8 = tweet = re.sub('AUDIO:', '', tw7) #removes audio tag\n",
    "    tw9 = re.sub('\\s+', ' ', tw8) #removes double spaces\n",
    "    r = re.sub('[^a-zA-Z]', ' ', tw9)\n",
    "    r = r.split()\n",
    "    \n",
    "    counter = 0\n",
    "    for word in r:\n",
    "        if word.isupper():\n",
    "            counter += 1\n",
    "    num_caps_test.append(counter)\n",
    "    \n",
    "    r = ' '.join(r)\n",
    "    r = r.lower()\n",
    "    r = r.split()\n",
    "    \n",
    "    #remove stopwords\n",
    "    r = [lemmatize(word) for word in r if word not in stopwords if len(word) >= 3]\n",
    "    r = ' '.join(r)\n",
    "    corpus_test.append(r)\n",
    "    \n",
    "    \n",
    "for eachreview in X_train:\n",
    "    tw1= re.sub(r'http\\S+', ' ', eachreview) #remove urls\n",
    "    tw2 = re.sub(r'<.*?>',' ', tw1) #remove html tags\n",
    "    tw3 = re.sub(r'\\d+',' ', tw2) #remove digits\n",
    "    tw4 = re.sub(r'#',' ', tw3) #remove tags but keeps words\n",
    "    tw5 = re.sub('(RT\\s@[A-Za-z]+[A-Za-z0-9-_]+)', '', tw4) #remove users\n",
    "    tw6 = re.sub('(@[A-Za-z]+[A-Za-z0-9-_]+)', '', tw5) #remove users\n",
    "    tw7 = re.sub('VIDEO:', '', tw6)#removes video tag\n",
    "    tw8 = tweet = re.sub('AUDIO:', '', tw7) #removes audio tag\n",
    "    tw9 = re.sub('\\s+', ' ', tw8) #removes double spaces\n",
    "    r = re.sub('[^a-zA-Z]', ' ', tw9)\n",
    "    r = r.split()\n",
    "    \n",
    "    counter = 0\n",
    "    for word in r:\n",
    "        if word.isupper():\n",
    "            counter += 1\n",
    "    num_caps_test.append(counter)\n",
    "    \n",
    "    r = ' '.join(r)\n",
    "    r = r.lower()\n",
    "    r = r.split()\n",
    "    \n",
    "    #remove stopwords\n",
    "    r = [lemmatize(word) for word in r if word not in stopwords if len(word) >= 3]\n",
    "    r = ' '.join(r)\n",
    "    corpus_train.append(r)"
   ]
  },
  {
   "cell_type": "code",
   "execution_count": 60,
   "id": "618db829",
   "metadata": {},
   "outputs": [],
   "source": [
    "from sklearn.feature_extraction.text import CountVectorizer\n",
    "vecs = CountVectorizer(max_features=10000)\n",
    "\n",
    "\n",
    "new_X_train = vecs.fit_transform(corpus_train)\n",
    "new_X_test = vecs.transform(corpus_test)\n",
    "\n",
    "m_train = new_X_train.todense()\n",
    "m_test = new_X_test.todense()"
   ]
  },
  {
   "cell_type": "code",
   "execution_count": 64,
   "id": "18dd39b7",
   "metadata": {},
   "outputs": [],
   "source": [
    "from sklearn.decomposition import PCA\n",
    "pca = PCA(n_components = 100)\n",
    "principalComponents = pca.fit_transform(m_train)"
   ]
  },
  {
   "cell_type": "code",
   "execution_count": 67,
   "id": "c5a393b4",
   "metadata": {},
   "outputs": [
    {
     "data": {
      "text/plain": [
       "array([0.02444979, 0.04496071, 0.0625057 , 0.07825366, 0.09196735,\n",
       "       0.1031758 , 0.11425026, 0.12517515, 0.13345049, 0.14133955,\n",
       "       0.14858566, 0.15534247, 0.16205967, 0.16787659, 0.17320979,\n",
       "       0.17839771, 0.18338544, 0.18814682, 0.19284017, 0.19736501,\n",
       "       0.20171879, 0.2058929 , 0.21001603, 0.21407358, 0.21805061,\n",
       "       0.22193176, 0.22570185, 0.22931068, 0.23287612, 0.23634788,\n",
       "       0.23969647, 0.24298753, 0.24624465, 0.24943958, 0.25246031,\n",
       "       0.25542405, 0.25833004, 0.26120643, 0.26394539, 0.26664184,\n",
       "       0.2693122 , 0.27194427, 0.27451758, 0.27701665, 0.27950938,\n",
       "       0.2819659 , 0.28434623, 0.28670654, 0.28901983, 0.29129777,\n",
       "       0.29354403, 0.29571478, 0.29785731, 0.29998822, 0.30206731,\n",
       "       0.30414405, 0.30619744, 0.30822186, 0.31023034, 0.3121936 ,\n",
       "       0.31414874, 0.31609061, 0.31801648, 0.31992475, 0.32182684,\n",
       "       0.32369359, 0.32554639, 0.32739192, 0.32921168, 0.33102386,\n",
       "       0.33282333, 0.33461796, 0.3364108 , 0.33819111, 0.33995228,\n",
       "       0.34170271, 0.34342867, 0.34513923, 0.34683363, 0.34851547,\n",
       "       0.35018738, 0.35185071, 0.35350469, 0.35512526, 0.35672976,\n",
       "       0.35832848, 0.35991077, 0.36147738, 0.3630263 , 0.36456421,\n",
       "       0.36609359, 0.36761693, 0.36913045, 0.37062593, 0.37210487,\n",
       "       0.37357101, 0.37500819, 0.37643627, 0.3778458 , 0.37924637])"
      ]
     },
     "execution_count": 67,
     "metadata": {},
     "output_type": "execute_result"
    }
   ],
   "source": [
    "pca.explained_variance_ratio_.cumsum()"
   ]
  },
  {
   "cell_type": "code",
   "execution_count": 102,
   "id": "55daa518",
   "metadata": {},
   "outputs": [
    {
     "data": {
      "text/plain": [
       "0        @MeNyrbie @Phil_Gahan @Chrisitv https://t.co/i...\n",
       "1        advice Talk to your neighbours family to excha...\n",
       "2        Coronavirus Australia: Woolworths to give elde...\n",
       "3        My food stock is not the only one which is emp...\n",
       "4        Me, ready to go at supermarket during the #COV...\n",
       "                               ...                        \n",
       "41152    Airline pilots offering to stock supermarket s...\n",
       "41153    Response to complaint not provided citing COVI...\n",
       "41154    You know itÂs getting tough when @KameronWild...\n",
       "41155    Is it wrong that the smell of hand sanitizer i...\n",
       "41156    @TartiiCat Well new/used Rift S are going for ...\n",
       "Name: OriginalTweet, Length: 41157, dtype: object"
      ]
     },
     "execution_count": 102,
     "metadata": {},
     "output_type": "execute_result"
    }
   ],
   "source": [
    "pca = PCA(n_components = 22)\n",
    "pca_train = pca.fit_transform(m_train)\n",
    "pca_test = pca.transform(m_test)"
   ]
  },
  {
   "cell_type": "code",
   "execution_count": 119,
   "id": "c0b7c881",
   "metadata": {},
   "outputs": [],
   "source": [
    "X_train = pd.DataFrame(pca_train)\n",
    "X_test = pd.DataFrame(pca_test)"
   ]
  },
  {
   "cell_type": "code",
   "execution_count": 107,
   "id": "cda4e949",
   "metadata": {},
   "outputs": [
    {
     "name": "stdout",
     "output_type": "stream",
     "text": [
      "Iteration 1, loss = 1.51274871\n",
      "Validation score: 0.336735\n",
      "Iteration 2, loss = 1.47176992\n",
      "Validation score: 0.336735\n",
      "Iteration 3, loss = 1.46461271\n",
      "Validation score: 0.342566\n",
      "Iteration 4, loss = 1.45921303\n",
      "Validation score: 0.339893\n",
      "Iteration 5, loss = 1.45411860\n",
      "Validation score: 0.340136\n",
      "Iteration 6, loss = 1.44947205\n",
      "Validation score: 0.341594\n",
      "Iteration 7, loss = 1.44493397\n",
      "Validation score: 0.345724\n",
      "Iteration 8, loss = 1.44094564\n",
      "Validation score: 0.349368\n",
      "Iteration 9, loss = 1.43675208\n",
      "Validation score: 0.346696\n",
      "Iteration 10, loss = 1.43316815\n",
      "Validation score: 0.353256\n",
      "Iteration 11, loss = 1.43038137\n",
      "Validation score: 0.355199\n",
      "Iteration 12, loss = 1.42729385\n",
      "Validation score: 0.356657\n",
      "Iteration 13, loss = 1.42543362\n",
      "Validation score: 0.356657\n",
      "Iteration 14, loss = 1.42322317\n",
      "Validation score: 0.354956\n",
      "Iteration 15, loss = 1.42140958\n",
      "Validation score: 0.356657\n",
      "Iteration 16, loss = 1.41977368\n",
      "Validation score: 0.362974\n",
      "Iteration 17, loss = 1.41803154\n",
      "Validation score: 0.362488\n",
      "Iteration 18, loss = 1.41686604\n",
      "Validation score: 0.352527\n",
      "Iteration 19, loss = 1.41512454\n",
      "Validation score: 0.353256\n",
      "Iteration 20, loss = 1.41435434\n",
      "Validation score: 0.357143\n",
      "Iteration 21, loss = 1.41276927\n",
      "Validation score: 0.357386\n",
      "Iteration 22, loss = 1.41207603\n",
      "Validation score: 0.359329\n",
      "Iteration 23, loss = 1.41035855\n",
      "Validation score: 0.365646\n",
      "Iteration 24, loss = 1.40985562\n",
      "Validation score: 0.358358\n",
      "Iteration 25, loss = 1.40903235\n",
      "Validation score: 0.367590\n",
      "Iteration 26, loss = 1.40776797\n",
      "Validation score: 0.360058\n",
      "Iteration 27, loss = 1.40714827\n",
      "Validation score: 0.352527\n",
      "Iteration 28, loss = 1.40627160\n",
      "Validation score: 0.359329\n",
      "Iteration 29, loss = 1.40513041\n",
      "Validation score: 0.359815\n",
      "Iteration 30, loss = 1.40467835\n",
      "Validation score: 0.359815\n",
      "Iteration 31, loss = 1.40349136\n",
      "Validation score: 0.359572\n",
      "Iteration 32, loss = 1.40290088\n",
      "Validation score: 0.358115\n",
      "Iteration 33, loss = 1.40194614\n",
      "Validation score: 0.357629\n",
      "Iteration 34, loss = 1.40177450\n",
      "Validation score: 0.359086\n",
      "Iteration 35, loss = 1.40057539\n",
      "Validation score: 0.362245\n",
      "Iteration 36, loss = 1.39971707\n",
      "Validation score: 0.360544\n",
      "Validation score did not improve more than tol=0.000100 for 10 consecutive epochs. Stopping.\n",
      "My program took 6.677005052566528 to run\n"
     ]
    }
   ],
   "source": [
    "mlp = MLPClassifier(early_stopping = True, max_iter = 100, verbose = True)\n",
    "\n",
    "start_time = time.time()\n",
    "mlp_model = mlp.fit(X_train,y_train)\n",
    "print(\"My program took\", time.time() - start_time, \"to run\")"
   ]
  },
  {
   "cell_type": "code",
   "execution_count": 131,
   "id": "2d0f1c30",
   "metadata": {},
   "outputs": [
    {
     "name": "stdout",
     "output_type": "stream",
     "text": [
      "MLP Accuracy Score: 0.3451816745655608\n",
      "                    precision    recall  f1-score   support\n",
      "\n",
      "Extremely Negative       0.38      0.27      0.32       592\n",
      "Extremely Positive       0.49      0.21      0.29       599\n",
      "          Negative       0.33      0.33      0.33      1041\n",
      "           Neutral       0.42      0.40      0.41       619\n",
      "          Positive       0.29      0.46      0.36       947\n",
      "\n",
      "          accuracy                           0.35      3798\n",
      "         macro avg       0.38      0.33      0.34      3798\n",
      "      weighted avg       0.37      0.35      0.34      3798\n",
      "\n"
     ]
    }
   ],
   "source": [
    "y_pred = mlp_model.predict(X_test)\n",
    "\n",
    "cm_mlp = confusion_matrix(y_test, y_pred)\n",
    "print(\"MLP Accuracy Score:\", accuracy_score(y_test,y_pred))\n",
    "print(classification_report(y_test, y_pred))"
   ]
  },
  {
   "cell_type": "code",
   "execution_count": 132,
   "id": "0e0fa00b",
   "metadata": {},
   "outputs": [
    {
     "data": {
      "image/png": "[encoded data removed]",
      "text/plain": [
       "<Figure size 432x288 with 1 Axes>"
      ]
     },
     "metadata": {},
     "output_type": "display_data"
    }
   ],
   "source": [
    "sns.heatmap(cm_mlp, annot=True, fmt='g', cbar=False)\n",
    "plt.xlabel('Predicted Values')\n",
    "plt.ylabel('Actual Values')\n",
    "plt.title('MLP Confusion Matrix')\n",
    "plt.show()"
   ]
  },
  {
   "cell_type": "code",
   "execution_count": 133,
   "id": "3bcbcd20",
   "metadata": {},
   "outputs": [],
   "source": [
    "y_train2 = y_train.map(lambda x: mp[x])\n",
    "y_test2 = y_test.map(lambda x: mp[x])"
   ]
  },
  {
   "cell_type": "code",
   "execution_count": 135,
   "id": "bc703349",
   "metadata": {},
   "outputs": [
    {
     "name": "stdout",
     "output_type": "stream",
     "text": [
      "Iteration 1, loss = 0.98299567\n",
      "Validation score: 0.503887\n",
      "Iteration 2, loss = 0.95420267\n",
      "Validation score: 0.507046\n",
      "Iteration 3, loss = 0.94791390\n",
      "Validation score: 0.515549\n",
      "Iteration 4, loss = 0.94330722\n",
      "Validation score: 0.517250\n",
      "Iteration 5, loss = 0.93894723\n",
      "Validation score: 0.514334\n",
      "Iteration 6, loss = 0.93484681\n",
      "Validation score: 0.518707\n",
      "Iteration 7, loss = 0.93149461\n",
      "Validation score: 0.522838\n",
      "Iteration 8, loss = 0.92813174\n",
      "Validation score: 0.520894\n",
      "Iteration 9, loss = 0.92539527\n",
      "Validation score: 0.528669\n",
      "Iteration 10, loss = 0.92285475\n",
      "Validation score: 0.525510\n",
      "Iteration 11, loss = 0.92094188\n",
      "Validation score: 0.530612\n",
      "Iteration 12, loss = 0.91895183\n",
      "Validation score: 0.532313\n",
      "Iteration 13, loss = 0.91710934\n",
      "Validation score: 0.525024\n",
      "Iteration 14, loss = 0.91550833\n",
      "Validation score: 0.527697\n",
      "Iteration 15, loss = 0.91431606\n",
      "Validation score: 0.522595\n",
      "Iteration 16, loss = 0.91317590\n",
      "Validation score: 0.531098\n",
      "Iteration 17, loss = 0.91191695\n",
      "Validation score: 0.531098\n",
      "Iteration 18, loss = 0.91112660\n",
      "Validation score: 0.528426\n",
      "Iteration 19, loss = 0.91029668\n",
      "Validation score: 0.530369\n",
      "Iteration 20, loss = 0.90876556\n",
      "Validation score: 0.532799\n",
      "Iteration 21, loss = 0.90825265\n",
      "Validation score: 0.535471\n",
      "Iteration 22, loss = 0.90723760\n",
      "Validation score: 0.531098\n",
      "Iteration 23, loss = 0.90660023\n",
      "Validation score: 0.535957\n",
      "Iteration 24, loss = 0.90547461\n",
      "Validation score: 0.531341\n",
      "Iteration 25, loss = 0.90503734\n",
      "Validation score: 0.530855\n",
      "Iteration 26, loss = 0.90424537\n",
      "Validation score: 0.535957\n",
      "Iteration 27, loss = 0.90369036\n",
      "Validation score: 0.531584\n",
      "Iteration 28, loss = 0.90314388\n",
      "Validation score: 0.532313\n",
      "Iteration 29, loss = 0.90241684\n",
      "Validation score: 0.533771\n",
      "Iteration 30, loss = 0.90186695\n",
      "Validation score: 0.537901\n",
      "Iteration 31, loss = 0.90097296\n",
      "Validation score: 0.533285\n",
      "Iteration 32, loss = 0.90061253\n",
      "Validation score: 0.535714\n",
      "Iteration 33, loss = 0.90056101\n",
      "Validation score: 0.534500\n",
      "Iteration 34, loss = 0.89952389\n",
      "Validation score: 0.530369\n",
      "Iteration 35, loss = 0.89890879\n",
      "Validation score: 0.531341\n",
      "Iteration 36, loss = 0.89844922\n",
      "Validation score: 0.533528\n",
      "Iteration 37, loss = 0.89817849\n",
      "Validation score: 0.540330\n",
      "Iteration 38, loss = 0.89732773\n",
      "Validation score: 0.532070\n",
      "Iteration 39, loss = 0.89661252\n",
      "Validation score: 0.535228\n",
      "Iteration 40, loss = 0.89599232\n",
      "Validation score: 0.537658\n",
      "Iteration 41, loss = 0.89560478\n",
      "Validation score: 0.537415\n",
      "Iteration 42, loss = 0.89516861\n",
      "Validation score: 0.533771\n",
      "Iteration 43, loss = 0.89471747\n",
      "Validation score: 0.537415\n",
      "Iteration 44, loss = 0.89366635\n",
      "Validation score: 0.537172\n",
      "Iteration 45, loss = 0.89368975\n",
      "Validation score: 0.534742\n",
      "Iteration 46, loss = 0.89282400\n",
      "Validation score: 0.542760\n",
      "Iteration 47, loss = 0.89228081\n",
      "Validation score: 0.539359\n",
      "Iteration 48, loss = 0.89157629\n",
      "Validation score: 0.539845\n",
      "Iteration 49, loss = 0.89127686\n",
      "Validation score: 0.540087\n",
      "Iteration 50, loss = 0.89058277\n",
      "Validation score: 0.536200\n",
      "Iteration 51, loss = 0.89069270\n",
      "Validation score: 0.537415\n",
      "Iteration 52, loss = 0.88937906\n",
      "Validation score: 0.536929\n",
      "Iteration 53, loss = 0.88899070\n",
      "Validation score: 0.541788\n",
      "Iteration 54, loss = 0.88814577\n",
      "Validation score: 0.544218\n",
      "Iteration 55, loss = 0.88830876\n",
      "Validation score: 0.543732\n",
      "Iteration 56, loss = 0.88756903\n",
      "Validation score: 0.538873\n",
      "Iteration 57, loss = 0.88720612\n",
      "Validation score: 0.541545\n",
      "Iteration 58, loss = 0.88670033\n",
      "Validation score: 0.542760\n",
      "Iteration 59, loss = 0.88647174\n",
      "Validation score: 0.545432\n",
      "Iteration 60, loss = 0.88554836\n",
      "Validation score: 0.537901\n",
      "Iteration 61, loss = 0.88529699\n",
      "Validation score: 0.543489\n",
      "Iteration 62, loss = 0.88504960\n",
      "Validation score: 0.546404\n",
      "Iteration 63, loss = 0.88429799\n",
      "Validation score: 0.542760\n",
      "Iteration 64, loss = 0.88333716\n",
      "Validation score: 0.543489\n",
      "Iteration 65, loss = 0.88319026\n",
      "Validation score: 0.541059\n",
      "Iteration 66, loss = 0.88311732\n",
      "Validation score: 0.546404\n",
      "Iteration 67, loss = 0.88206520\n",
      "Validation score: 0.543975\n",
      "Iteration 68, loss = 0.88206629\n",
      "Validation score: 0.546161\n",
      "Iteration 69, loss = 0.88154218\n",
      "Validation score: 0.545432\n",
      "Iteration 70, loss = 0.88115619\n",
      "Validation score: 0.545918\n",
      "Iteration 71, loss = 0.88111932\n",
      "Validation score: 0.546404\n",
      "Iteration 72, loss = 0.88056411\n",
      "Validation score: 0.546161\n",
      "Iteration 73, loss = 0.88010269\n",
      "Validation score: 0.548834\n",
      "Iteration 74, loss = 0.87940441\n",
      "Validation score: 0.543975\n",
      "Iteration 75, loss = 0.87905027\n",
      "Validation score: 0.543489\n",
      "Iteration 76, loss = 0.87843305\n",
      "Validation score: 0.544704\n",
      "Iteration 77, loss = 0.87793187\n",
      "Validation score: 0.549563\n",
      "Iteration 78, loss = 0.87768839\n",
      "Validation score: 0.548834\n",
      "Iteration 79, loss = 0.87785659\n",
      "Validation score: 0.549563\n",
      "Iteration 80, loss = 0.87707158\n",
      "Validation score: 0.549563\n",
      "Iteration 81, loss = 0.87697979\n",
      "Validation score: 0.548348\n",
      "Iteration 82, loss = 0.87625722\n",
      "Validation score: 0.547862\n",
      "Iteration 83, loss = 0.87573887\n",
      "Validation score: 0.546404\n",
      "Iteration 84, loss = 0.87557635\n",
      "Validation score: 0.542760\n",
      "Iteration 85, loss = 0.87578322\n",
      "Validation score: 0.548834\n",
      "Iteration 86, loss = 0.87471955\n",
      "Validation score: 0.542760\n",
      "Iteration 87, loss = 0.87478250\n",
      "Validation score: 0.543975\n",
      "Iteration 88, loss = 0.87405652\n",
      "Validation score: 0.551020\n",
      "Iteration 89, loss = 0.87396904\n",
      "Validation score: 0.555637\n",
      "Iteration 90, loss = 0.87387653\n",
      "Validation score: 0.551992\n",
      "Iteration 91, loss = 0.87319798\n",
      "Validation score: 0.544947\n",
      "Iteration 92, loss = 0.87291052\n",
      "Validation score: 0.546404\n",
      "Iteration 93, loss = 0.87263396\n",
      "Validation score: 0.547862\n",
      "Iteration 94, loss = 0.87228739\n",
      "Validation score: 0.550777\n",
      "Iteration 95, loss = 0.87198550\n",
      "Validation score: 0.549077\n",
      "Iteration 96, loss = 0.87217314\n",
      "Validation score: 0.543003\n",
      "Iteration 97, loss = 0.87114722\n",
      "Validation score: 0.549320\n",
      "Iteration 98, loss = 0.87081816\n",
      "Validation score: 0.549320\n",
      "Iteration 99, loss = 0.87071621\n",
      "Validation score: 0.549806\n",
      "Iteration 100, loss = 0.87107579\n",
      "Validation score: 0.550049\n",
      "Validation score did not improve more than tol=0.000100 for 10 consecutive epochs. Stopping.\n",
      "My program took 17.17088222503662 to run\n"
     ]
    }
   ],
   "source": [
    "mlp2 = MLPClassifier(early_stopping = True, max_iter = 100, verbose = True)\n",
    "start_time = time.time()\n",
    "mlp_model2 = mlp2.fit(X_train,y_train2)\n",
    "print(\"My program took\", time.time() - start_time, \"to run\")"
   ]
  },
  {
   "cell_type": "code",
   "execution_count": 136,
   "id": "f67fa19a",
   "metadata": {},
   "outputs": [
    {
     "name": "stdout",
     "output_type": "stream",
     "text": [
      "MLP Accuracy Score: 0.5405476566614007\n",
      "              precision    recall  f1-score   support\n",
      "\n",
      "          -1       0.57      0.55      0.56      1633\n",
      "           0       0.46      0.37      0.41       619\n",
      "           1       0.54      0.60      0.57      1546\n",
      "\n",
      "    accuracy                           0.54      3798\n",
      "   macro avg       0.52      0.51      0.51      3798\n",
      "weighted avg       0.54      0.54      0.54      3798\n",
      "\n"
     ]
    }
   ],
   "source": [
    "y_pred2 = mlp_model2.predict(X_test)\n",
    "cm_mlp2 = confusion_matrix(y_test2, y_pred2)\n",
    "print(\"MLP Accuracy Score:\", accuracy_score(y_test2,y_pred2))\n",
    "print(classification_report(y_test2, y_pred2))"
   ]
  },
  {
   "cell_type": "code",
   "execution_count": 137,
   "id": "00bf11f9",
   "metadata": {},
   "outputs": [
    {
     "data": {
      "image/png": "[encoded data removed]",
      "text/plain": [
       "<Figure size 432x288 with 1 Axes>"
      ]
     },
     "metadata": {},
     "output_type": "display_data"
    }
   ],
   "source": [
    "sns.heatmap(cm_mlp2, annot=True, fmt='g', cbar=False)\n",
    "plt.xlabel('Predicted Values')\n",
    "plt.ylabel('Actual Values')\n",
    "plt.title('MLP Confusion Matrix')\n",
    "plt.show()"
   ]
  },
  {
   "cell_type": "code",
   "execution_count": 138,
   "id": "0a51354b",
   "metadata": {},
   "outputs": [],
   "source": [
    "pca = PCA(n_components = 100)\n",
    "pca_train = pca.fit_transform(m_train)\n",
    "pca_test = pca.transform(m_test)"
   ]
  },
  {
   "cell_type": "code",
   "execution_count": 139,
   "id": "14278063",
   "metadata": {},
   "outputs": [],
   "source": [
    "X_train = pd.DataFrame(pca_train)\n",
    "X_test = pd.DataFrame(pca_test)"
   ]
  },
  {
   "cell_type": "code",
   "execution_count": 140,
   "id": "024e7946",
   "metadata": {},
   "outputs": [
    {
     "name": "stdout",
     "output_type": "stream",
     "text": [
      "Iteration 1, loss = 1.45899993\n",
      "Validation score: 0.418610\n",
      "Iteration 2, loss = 1.33200383\n",
      "Validation score: 0.432459\n",
      "Iteration 3, loss = 1.31089797\n",
      "Validation score: 0.436103\n",
      "Iteration 4, loss = 1.30034079\n",
      "Validation score: 0.444121\n",
      "Iteration 5, loss = 1.29214701\n",
      "Validation score: 0.442420\n",
      "Iteration 6, loss = 1.28391187\n",
      "Validation score: 0.440233\n",
      "Iteration 7, loss = 1.27679303\n",
      "Validation score: 0.444121\n",
      "Iteration 8, loss = 1.26952736\n",
      "Validation score: 0.439990\n",
      "Iteration 9, loss = 1.26207491\n",
      "Validation score: 0.439504\n",
      "Iteration 10, loss = 1.25521705\n",
      "Validation score: 0.439018\n",
      "Iteration 11, loss = 1.24824736\n",
      "Validation score: 0.435860\n",
      "Iteration 12, loss = 1.24161362\n",
      "Validation score: 0.432459\n",
      "Iteration 13, loss = 1.23523928\n",
      "Validation score: 0.438533\n",
      "Iteration 14, loss = 1.22842702\n",
      "Validation score: 0.436589\n",
      "Iteration 15, loss = 1.22310428\n",
      "Validation score: 0.438290\n",
      "Validation score did not improve more than tol=0.000100 for 10 consecutive epochs. Stopping.\n",
      "My program took 3.859236240386963 to run\n"
     ]
    }
   ],
   "source": [
    "mlp = MLPClassifier(early_stopping = True, max_iter = 100, verbose = True)\n",
    "\n",
    "start_time = time.time()\n",
    "mlp_model = mlp.fit(X_train,y_train)\n",
    "print(\"My program took\", time.time() - start_time, \"to run\")"
   ]
  },
  {
   "cell_type": "code",
   "execution_count": 141,
   "id": "1edc9a44",
   "metadata": {},
   "outputs": [
    {
     "name": "stdout",
     "output_type": "stream",
     "text": [
      "MLP Accuracy Score: 0.42022116903633494\n",
      "                    precision    recall  f1-score   support\n",
      "\n",
      "Extremely Negative       0.47      0.35      0.40       592\n",
      "Extremely Positive       0.60      0.38      0.46       599\n",
      "          Negative       0.39      0.39      0.39      1041\n",
      "           Neutral       0.43      0.55      0.48       619\n",
      "          Positive       0.37      0.44      0.40       947\n",
      "\n",
      "          accuracy                           0.42      3798\n",
      "         macro avg       0.45      0.42      0.43      3798\n",
      "      weighted avg       0.44      0.42      0.42      3798\n",
      "\n"
     ]
    }
   ],
   "source": [
    "y_pred = mlp_model.predict(X_test)\n",
    "\n",
    "cm_mlp = confusion_matrix(y_test, y_pred)\n",
    "print(\"MLP Accuracy Score:\", accuracy_score(y_test,y_pred))\n",
    "print(classification_report(y_test, y_pred))"
   ]
  },
  {
   "cell_type": "code",
   "execution_count": 142,
   "id": "335c4bf1",
   "metadata": {},
   "outputs": [
    {
     "data": {
      "image/png": "[encoded data removed]",
      "text/plain": [
       "<Figure size 432x288 with 1 Axes>"
      ]
     },
     "metadata": {},
     "output_type": "display_data"
    }
   ],
   "source": [
    "sns.heatmap(cm_mlp, annot=True, fmt='g', cbar=False)\n",
    "plt.xlabel('Predicted Values')\n",
    "plt.ylabel('Actual Values')\n",
    "plt.title('MLP Confusion Matrix')\n",
    "plt.show()"
   ]
  },
  {
   "cell_type": "code",
   "execution_count": 143,
   "id": "f5b54c9f",
   "metadata": {},
   "outputs": [],
   "source": [
    "y_train2 = y_train.map(lambda x: mp[x])\n",
    "y_test2 = y_test.map(lambda x: mp[x])"
   ]
  },
  {
   "cell_type": "code",
   "execution_count": 144,
   "id": "6a1f63cd",
   "metadata": {},
   "outputs": [
    {
     "name": "stdout",
     "output_type": "stream",
     "text": [
      "Iteration 1, loss = 0.91860452\n",
      "Validation score: 0.600340\n",
      "Iteration 2, loss = 0.84173411\n",
      "Validation score: 0.603499\n",
      "Iteration 3, loss = 0.82971941\n",
      "Validation score: 0.611273\n",
      "Iteration 4, loss = 0.82132914\n",
      "Validation score: 0.608115\n",
      "Iteration 5, loss = 0.81352842\n",
      "Validation score: 0.611030\n",
      "Iteration 6, loss = 0.80671932\n",
      "Validation score: 0.616861\n",
      "Iteration 7, loss = 0.79969700\n",
      "Validation score: 0.617347\n",
      "Iteration 8, loss = 0.79304523\n",
      "Validation score: 0.618076\n",
      "Iteration 9, loss = 0.78622983\n",
      "Validation score: 0.621477\n",
      "Iteration 10, loss = 0.77996343\n",
      "Validation score: 0.618562\n",
      "Iteration 11, loss = 0.77369651\n",
      "Validation score: 0.621477\n",
      "Iteration 12, loss = 0.76755242\n",
      "Validation score: 0.621477\n",
      "Iteration 13, loss = 0.76221663\n",
      "Validation score: 0.615160\n",
      "Iteration 14, loss = 0.75718476\n",
      "Validation score: 0.618076\n",
      "Iteration 15, loss = 0.75233170\n",
      "Validation score: 0.623421\n",
      "Iteration 16, loss = 0.74751306\n",
      "Validation score: 0.620505\n",
      "Iteration 17, loss = 0.74292272\n",
      "Validation score: 0.620991\n",
      "Iteration 18, loss = 0.73873412\n",
      "Validation score: 0.620262\n",
      "Iteration 19, loss = 0.73436283\n",
      "Validation score: 0.622692\n",
      "Iteration 20, loss = 0.73027674\n",
      "Validation score: 0.617590\n",
      "Iteration 21, loss = 0.72652207\n",
      "Validation score: 0.617104\n",
      "Iteration 22, loss = 0.72293109\n",
      "Validation score: 0.618319\n",
      "Iteration 23, loss = 0.71909472\n",
      "Validation score: 0.616618\n",
      "Iteration 24, loss = 0.71572643\n",
      "Validation score: 0.616375\n",
      "Iteration 25, loss = 0.71338483\n",
      "Validation score: 0.616375\n",
      "Iteration 26, loss = 0.70901825\n",
      "Validation score: 0.615889\n",
      "Validation score did not improve more than tol=0.000100 for 10 consecutive epochs. Stopping.\n",
      "My program took 6.443680047988892 to run\n"
     ]
    }
   ],
   "source": [
    "mlp2 = MLPClassifier(early_stopping = True, max_iter = 100, verbose = True)\n",
    "start_time = time.time()\n",
    "mlp_model2 = mlp2.fit(X_train,y_train2)\n",
    "print(\"My program took\", time.time() - start_time, \"to run\")"
   ]
  },
  {
   "cell_type": "code",
   "execution_count": 145,
   "id": "eb9e630d",
   "metadata": {},
   "outputs": [
    {
     "name": "stdout",
     "output_type": "stream",
     "text": [
      "MLP Accuracy Score: 0.6111111111111112\n",
      "              precision    recall  f1-score   support\n",
      "\n",
      "          -1       0.64      0.64      0.64      1633\n",
      "           0       0.46      0.44      0.45       619\n",
      "           1       0.64      0.65      0.65      1546\n",
      "\n",
      "    accuracy                           0.61      3798\n",
      "   macro avg       0.58      0.58      0.58      3798\n",
      "weighted avg       0.61      0.61      0.61      3798\n",
      "\n"
     ]
    }
   ],
   "source": [
    "y_pred2 = mlp_model2.predict(X_test)\n",
    "cm_mlp2 = confusion_matrix(y_test2, y_pred2)\n",
    "print(\"MLP Accuracy Score:\", accuracy_score(y_test2,y_pred2))\n",
    "print(classification_report(y_test2, y_pred2))"
   ]
  },
  {
   "cell_type": "code",
   "execution_count": 146,
   "id": "a8489694",
   "metadata": {},
   "outputs": [
    {
     "data": {
      "image/png": "[encoded data removed]",
      "text/plain": [
       "<Figure size 432x288 with 1 Axes>"
      ]
     },
     "metadata": {},
     "output_type": "display_data"
    }
   ],
   "source": [
    "sns.heatmap(cm_mlp2, annot=True, fmt='g', cbar=False)\n",
    "plt.xlabel('Predicted Values')\n",
    "plt.ylabel('Actual Values')\n",
    "plt.title('MLP Confusion Matrix')\n",
    "plt.show()"
   ]
  },
  {
   "cell_type": "code",
   "execution_count": 147,
   "id": "d21cba2a",
   "metadata": {},
   "outputs": [],
   "source": [
    "pca = PCA(n_components = 1000)\n",
    "pca_train = pca.fit_transform(m_train)\n",
    "pca_test = pca.transform(m_test)"
   ]
  },
  {
   "cell_type": "code",
   "execution_count": 148,
   "id": "c2b20aad",
   "metadata": {},
   "outputs": [],
   "source": [
    "X_train = pd.DataFrame(pca_train)\n",
    "X_test = pd.DataFrame(pca_test)"
   ]
  },
  {
   "cell_type": "code",
   "execution_count": 149,
   "id": "42c0413d",
   "metadata": {},
   "outputs": [
    {
     "name": "stdout",
     "output_type": "stream",
     "text": [
      "Iteration 1, loss = 1.35917672\n",
      "Validation score: 0.551263\n",
      "Iteration 2, loss = 1.02442617\n",
      "Validation score: 0.596939\n",
      "Iteration 3, loss = 0.93897666\n",
      "Validation score: 0.601069\n",
      "Iteration 4, loss = 0.89414134\n",
      "Validation score: 0.605928\n",
      "Iteration 5, loss = 0.85799627\n",
      "Validation score: 0.602041\n",
      "Iteration 6, loss = 0.82168520\n",
      "Validation score: 0.600340\n",
      "Iteration 7, loss = 0.78602912\n",
      "Validation score: 0.601069\n",
      "Iteration 8, loss = 0.74855534\n",
      "Validation score: 0.604956\n",
      "Iteration 9, loss = 0.70964071\n",
      "Validation score: 0.594995\n",
      "Iteration 10, loss = 0.67044892\n",
      "Validation score: 0.600583\n",
      "Iteration 11, loss = 0.63054295\n",
      "Validation score: 0.597425\n",
      "Iteration 12, loss = 0.59163896\n",
      "Validation score: 0.592566\n",
      "Iteration 13, loss = 0.55265994\n",
      "Validation score: 0.590136\n",
      "Iteration 14, loss = 0.51586006\n",
      "Validation score: 0.592080\n",
      "Iteration 15, loss = 0.48006357\n",
      "Validation score: 0.583333\n",
      "Validation score did not improve more than tol=0.000100 for 10 consecutive epochs. Stopping.\n",
      "My program took 13.600637912750244 to run\n"
     ]
    }
   ],
   "source": [
    "mlp = MLPClassifier(early_stopping = True, max_iter = 100, verbose = True)\n",
    "\n",
    "start_time = time.time()\n",
    "mlp_model = mlp.fit(X_train,y_train)\n",
    "print(\"My program took\", time.time() - start_time, \"to run\")"
   ]
  },
  {
   "cell_type": "code",
   "execution_count": 150,
   "id": "cab743a5",
   "metadata": {},
   "outputs": [
    {
     "name": "stdout",
     "output_type": "stream",
     "text": [
      "MLP Accuracy Score: 0.556872037914692\n",
      "                    precision    recall  f1-score   support\n",
      "\n",
      "Extremely Negative       0.59      0.52      0.55       592\n",
      "Extremely Positive       0.71      0.54      0.61       599\n",
      "          Negative       0.50      0.48      0.49      1041\n",
      "           Neutral       0.61      0.67      0.64       619\n",
      "          Positive       0.50      0.60      0.54       947\n",
      "\n",
      "          accuracy                           0.56      3798\n",
      "         macro avg       0.58      0.56      0.57      3798\n",
      "      weighted avg       0.57      0.56      0.56      3798\n",
      "\n"
     ]
    }
   ],
   "source": [
    "y_pred = mlp_model.predict(X_test)\n",
    "\n",
    "cm_mlp = confusion_matrix(y_test, y_pred)\n",
    "print(\"MLP Accuracy Score:\", accuracy_score(y_test,y_pred))\n",
    "print(classification_report(y_test, y_pred))"
   ]
  },
  {
   "cell_type": "code",
   "execution_count": 151,
   "id": "4e98ce13",
   "metadata": {},
   "outputs": [
    {
     "data": {
      "image/png": "[encoded data removed]",
      "text/plain": [
       "<Figure size 432x288 with 1 Axes>"
      ]
     },
     "metadata": {},
     "output_type": "display_data"
    }
   ],
   "source": [
    "sns.heatmap(cm_mlp, annot=True, fmt='g', cbar=False)\n",
    "plt.xlabel('Predicted Values')\n",
    "plt.ylabel('Actual Values')\n",
    "plt.title('MLP Confusion Matrix')\n",
    "plt.show()"
   ]
  },
  {
   "cell_type": "code",
   "execution_count": 152,
   "id": "51a21175",
   "metadata": {},
   "outputs": [],
   "source": [
    "y_train2 = y_train.map(lambda x: mp[x])\n",
    "y_test2 = y_test.map(lambda x: mp[x])"
   ]
  },
  {
   "cell_type": "code",
   "execution_count": 153,
   "id": "70a010c5",
   "metadata": {},
   "outputs": [
    {
     "name": "stdout",
     "output_type": "stream",
     "text": [
      "Iteration 1, loss = 0.81808829\n",
      "Validation score: 0.751701\n",
      "Iteration 2, loss = 0.60392246\n",
      "Validation score: 0.768707\n",
      "Iteration 3, loss = 0.55209002\n",
      "Validation score: 0.775267\n",
      "Iteration 4, loss = 0.51902422\n",
      "Validation score: 0.777211\n",
      "Iteration 5, loss = 0.48777751\n",
      "Validation score: 0.778183\n",
      "Iteration 6, loss = 0.45632638\n",
      "Validation score: 0.777211\n",
      "Iteration 7, loss = 0.42463478\n",
      "Validation score: 0.773081\n",
      "Iteration 8, loss = 0.39190949\n",
      "Validation score: 0.770651\n",
      "Iteration 9, loss = 0.35892258\n",
      "Validation score: 0.773324\n",
      "Iteration 10, loss = 0.32711918\n",
      "Validation score: 0.773810\n",
      "Iteration 11, loss = 0.29501586\n",
      "Validation score: 0.769922\n",
      "Iteration 12, loss = 0.26532106\n",
      "Validation score: 0.773567\n",
      "Iteration 13, loss = 0.23740613\n",
      "Validation score: 0.768950\n",
      "Iteration 14, loss = 0.21231412\n",
      "Validation score: 0.768707\n",
      "Iteration 15, loss = 0.18868850\n",
      "Validation score: 0.763605\n",
      "Iteration 16, loss = 0.16787799\n",
      "Validation score: 0.767736\n",
      "Validation score did not improve more than tol=0.000100 for 10 consecutive epochs. Stopping.\n",
      "My program took 14.300809860229492 to run\n"
     ]
    }
   ],
   "source": [
    "mlp2 = MLPClassifier(early_stopping = True, max_iter = 100, verbose = True)\n",
    "start_time = time.time()\n",
    "mlp_model2 = mlp2.fit(X_train,y_train2)\n",
    "print(\"My program took\", time.time() - start_time, \"to run\")"
   ]
  },
  {
   "cell_type": "code",
   "execution_count": 154,
   "id": "5ebe2ed2",
   "metadata": {},
   "outputs": [
    {
     "name": "stdout",
     "output_type": "stream",
     "text": [
      "MLP Accuracy Score: 0.7490784623486045\n",
      "              precision    recall  f1-score   support\n",
      "\n",
      "          -1       0.77      0.76      0.77      1633\n",
      "           0       0.64      0.67      0.65       619\n",
      "           1       0.77      0.78      0.77      1546\n",
      "\n",
      "    accuracy                           0.75      3798\n",
      "   macro avg       0.73      0.73      0.73      3798\n",
      "weighted avg       0.75      0.75      0.75      3798\n",
      "\n"
     ]
    }
   ],
   "source": [
    "y_pred2 = mlp_model2.predict(X_test)\n",
    "cm_mlp2 = confusion_matrix(y_test2, y_pred2)\n",
    "print(\"MLP Accuracy Score:\", accuracy_score(y_test2,y_pred2))\n",
    "print(classification_report(y_test2, y_pred2))"
   ]
  },
  {
   "cell_type": "code",
   "execution_count": 155,
   "id": "3dcfe024",
   "metadata": {},
   "outputs": [
    {
     "data": {
      "image/png": "[encoded data removed]",
      "text/plain": [
       "<Figure size 432x288 with 1 Axes>"
      ]
     },
     "metadata": {},
     "output_type": "display_data"
    }
   ],
   "source": [
    "sns.heatmap(cm_mlp2, annot=True, fmt='g', cbar=False)\n",
    "plt.xlabel('Predicted Values')\n",
    "plt.ylabel('Actual Values')\n",
    "plt.title('MLP Confusion Matrix')\n",
    "plt.show()"
   ]
  },
  {
   "cell_type": "markdown",
   "id": "3ef8bff1",
   "metadata": {},
   "source": [
    "Hashtags only"
   ]
  },
  {
   "cell_type": "code",
   "execution_count": 172,
   "id": "a28c4c01",
   "metadata": {},
   "outputs": [],
   "source": [
    "X_test = test['OriginalTweet']\n",
    "X_train = train['OriginalTweet']\n",
    "y_test = test['Sentiment']\n",
    "y_train = train['Sentiment']"
   ]
  },
  {
   "cell_type": "code",
   "execution_count": 188,
   "id": "c36ccdc0",
   "metadata": {},
   "outputs": [],
   "source": [
    "corpus_train = []\n",
    "corpus_test = []\n",
    "\n",
    "for eachreview in X_test:\n",
    "    r = re.findall(\"#(\\w+)\",eachreview) #remove tags but keeps words\n",
    "    r = [word.lower() for word in r]\n",
    "    r = ' '.join(r)\n",
    "    corpus_test.append(r)\n",
    "    \n",
    "    \n",
    "    \n",
    "for eachreview in X_train:\n",
    "    r = re.findall(\"#(\\w+)\",eachreview) #remove tags but keeps words\n",
    "    r = [word.lower() for word in r]\n",
    "    r = ' '.join(r)\n",
    "    corpus_train.append(r)"
   ]
  },
  {
   "cell_type": "code",
   "execution_count": 189,
   "id": "50d78182",
   "metadata": {},
   "outputs": [],
   "source": [
    "from sklearn.feature_extraction.text import CountVectorizer\n",
    "vecs = CountVectorizer(max_features=10000)\n",
    "\n",
    "\n",
    "new_X_train = vecs.fit_transform(corpus_train)\n",
    "new_X_test = vecs.transform(corpus_test)\n",
    "\n",
    "m_train = new_X_train.todense()\n",
    "m_test = new_X_test.todense()"
   ]
  },
  {
   "cell_type": "code",
   "execution_count": 190,
   "id": "14319cc8",
   "metadata": {},
   "outputs": [
    {
     "name": "stdout",
     "output_type": "stream",
     "text": [
      "(3798, 10000)\n",
      "(41157, 10000)\n"
     ]
    }
   ],
   "source": [
    "print(new_X_test.shape)\n",
    "print(new_X_train.shape)"
   ]
  },
  {
   "cell_type": "code",
   "execution_count": 191,
   "id": "c726d133",
   "metadata": {},
   "outputs": [
    {
     "name": "stdout",
     "output_type": "stream",
     "text": [
      "The length of our new matrix is: 10000\n"
     ]
    }
   ],
   "source": [
    "print(\"The length of our new matrix is:\", len(vecs.get_feature_names()))"
   ]
  },
  {
   "cell_type": "code",
   "execution_count": 192,
   "id": "77f52816",
   "metadata": {},
   "outputs": [
    {
     "data": {
      "text/plain": [
       "(41157,)"
      ]
     },
     "execution_count": 192,
     "metadata": {},
     "output_type": "execute_result"
    }
   ],
   "source": [
    "y_train.shape"
   ]
  },
  {
   "cell_type": "code",
   "execution_count": 193,
   "id": "b03f0be7",
   "metadata": {},
   "outputs": [
    {
     "name": "stdout",
     "output_type": "stream",
     "text": [
      "Iteration 1, loss = 1.57331317\n",
      "Validation score: 0.283771\n",
      "Iteration 2, loss = 1.51748978\n",
      "Validation score: 0.281584\n",
      "Iteration 3, loss = 1.44214604\n",
      "Validation score: 0.274052\n",
      "Iteration 4, loss = 1.36656080\n",
      "Validation score: 0.274295\n",
      "Iteration 5, loss = 1.31014535\n",
      "Validation score: 0.271380\n",
      "Iteration 6, loss = 1.27251351\n",
      "Validation score: 0.267250\n",
      "Iteration 7, loss = 1.24782458\n",
      "Validation score: 0.267736\n",
      "Iteration 8, loss = 1.22977410\n",
      "Validation score: 0.264820\n",
      "Iteration 9, loss = 1.21692967\n",
      "Validation score: 0.263848\n",
      "Iteration 10, loss = 1.20625159\n",
      "Validation score: 0.262634\n",
      "Iteration 11, loss = 1.19711166\n",
      "Validation score: 0.262391\n",
      "Iteration 12, loss = 1.18951106\n",
      "Validation score: 0.264820\n",
      "Validation score did not improve more than tol=0.000100 for 10 consecutive epochs. Stopping.\n",
      "My program took 72.92003607749939 to run\n"
     ]
    }
   ],
   "source": [
    "mlp = MLPClassifier(early_stopping = True, max_iter = 100, verbose = True)\n",
    "\n",
    "start_time = time.time()\n",
    "mlp_model = mlp.fit(m_train,y_train)\n",
    "print(\"My program took\", time.time() - start_time, \"to run\")"
   ]
  },
  {
   "cell_type": "code",
   "execution_count": 194,
   "id": "f9110e8c",
   "metadata": {},
   "outputs": [
    {
     "name": "stdout",
     "output_type": "stream",
     "text": [
      "MLP Accuracy Score: 0.2553975776724592\n",
      "                    precision    recall  f1-score   support\n",
      "\n",
      "Extremely Negative       0.00      0.00      0.00       592\n",
      "Extremely Positive       0.00      0.00      0.00       599\n",
      "          Negative       0.31      0.08      0.12      1041\n",
      "           Neutral       0.31      0.04      0.06       619\n",
      "          Positive       0.25      0.92      0.39       947\n",
      "\n",
      "          accuracy                           0.26      3798\n",
      "         macro avg       0.17      0.21      0.12      3798\n",
      "      weighted avg       0.20      0.26      0.14      3798\n",
      "\n"
     ]
    },
    {
     "name": "stderr",
     "output_type": "stream",
     "text": [
      "/Users/morganford/opt/anaconda3/lib/python3.9/site-packages/sklearn/metrics/_classification.py:1248: UndefinedMetricWarning: Precision and F-score are ill-defined and being set to 0.0 in labels with no predicted samples. Use `zero_division` parameter to control this behavior.\n",
      "  _warn_prf(average, modifier, msg_start, len(result))\n",
      "/Users/morganford/opt/anaconda3/lib/python3.9/site-packages/sklearn/metrics/_classification.py:1248: UndefinedMetricWarning: Precision and F-score are ill-defined and being set to 0.0 in labels with no predicted samples. Use `zero_division` parameter to control this behavior.\n",
      "  _warn_prf(average, modifier, msg_start, len(result))\n",
      "/Users/morganford/opt/anaconda3/lib/python3.9/site-packages/sklearn/metrics/_classification.py:1248: UndefinedMetricWarning: Precision and F-score are ill-defined and being set to 0.0 in labels with no predicted samples. Use `zero_division` parameter to control this behavior.\n",
      "  _warn_prf(average, modifier, msg_start, len(result))\n"
     ]
    }
   ],
   "source": [
    "y_pred = mlp_model.predict(m_test)\n",
    "cm_mlp = confusion_matrix(y_test, y_pred)\n",
    "print(\"MLP Accuracy Score:\", accuracy_score(y_test,y_pred))\n",
    "print(classification_report(y_test, y_pred))"
   ]
  },
  {
   "cell_type": "code",
   "execution_count": 195,
   "id": "3ad51d13",
   "metadata": {},
   "outputs": [
    {
     "data": {
      "image/png": "[encoded data removed]",
      "text/plain": [
       "<Figure size 432x288 with 1 Axes>"
      ]
     },
     "metadata": {},
     "output_type": "display_data"
    }
   ],
   "source": [
    "sns.heatmap(cm_mlp, annot=True, fmt='g', cbar=False)\n",
    "plt.xlabel('Predicted Values')\n",
    "plt.ylabel('Actual Values')\n",
    "plt.title('MLP Confusion Matrix')\n",
    "plt.show()"
   ]
  },
  {
   "cell_type": "code",
   "execution_count": 196,
   "id": "1da9024f",
   "metadata": {},
   "outputs": [],
   "source": [
    "y_train2 = y_train.map(lambda x: mp[x])\n",
    "y_test2 = y_test.map(lambda x: mp[x])"
   ]
  },
  {
   "cell_type": "code",
   "execution_count": 197,
   "id": "10d13f41",
   "metadata": {},
   "outputs": [
    {
     "name": "stdout",
     "output_type": "stream",
     "text": [
      "Iteration 1, loss = 1.04852442\n",
      "Validation score: 0.459427\n",
      "Iteration 2, loss = 0.99148783\n",
      "Validation score: 0.458455\n",
      "Iteration 3, loss = 0.93697671\n",
      "Validation score: 0.461127\n",
      "Iteration 4, loss = 0.89023473\n",
      "Validation score: 0.461856\n",
      "Iteration 5, loss = 0.85661026\n",
      "Validation score: 0.460884\n",
      "Iteration 6, loss = 0.83478494\n",
      "Validation score: 0.459670\n",
      "Iteration 7, loss = 0.81850390\n",
      "Validation score: 0.453353\n",
      "Iteration 8, loss = 0.80629393\n",
      "Validation score: 0.455782\n",
      "Iteration 9, loss = 0.79683377\n",
      "Validation score: 0.456511\n",
      "Iteration 10, loss = 0.78888748\n",
      "Validation score: 0.451166\n",
      "Iteration 11, loss = 0.78138863\n",
      "Validation score: 0.453839\n",
      "Iteration 12, loss = 0.77528603\n",
      "Validation score: 0.456268\n",
      "Iteration 13, loss = 0.76988525\n",
      "Validation score: 0.455782\n",
      "Iteration 14, loss = 0.76540010\n",
      "Validation score: 0.451409\n",
      "Iteration 15, loss = 0.76132206\n",
      "Validation score: 0.450923\n",
      "Validation score did not improve more than tol=0.000100 for 10 consecutive epochs. Stopping.\n",
      "My program took 90.48577523231506 to run\n"
     ]
    }
   ],
   "source": [
    "mlp2 = MLPClassifier(early_stopping = True, max_iter = 100, verbose = True)\n",
    "start_time = time.time()\n",
    "mlp_model2 = mlp2.fit(m_train,y_train2)\n",
    "print(\"My program took\", time.time() - start_time, \"to run\")"
   ]
  },
  {
   "cell_type": "code",
   "execution_count": 198,
   "id": "2ce30650",
   "metadata": {},
   "outputs": [
    {
     "name": "stdout",
     "output_type": "stream",
     "text": [
      "MLP Accuracy Score: 0.4133754607688257\n",
      "              precision    recall  f1-score   support\n",
      "\n",
      "          -1       0.45      0.19      0.27      1633\n",
      "           0       0.24      0.05      0.08       619\n",
      "           1       0.41      0.80      0.54      1546\n",
      "\n",
      "    accuracy                           0.41      3798\n",
      "   macro avg       0.37      0.35      0.30      3798\n",
      "weighted avg       0.40      0.41      0.35      3798\n",
      "\n"
     ]
    }
   ],
   "source": [
    "y_pred2 = mlp_model2.predict(m_test)\n",
    "cm_mlp2 = confusion_matrix(y_test2, y_pred2)\n",
    "print(\"MLP Accuracy Score:\", accuracy_score(y_test2,y_pred2))\n",
    "print(classification_report(y_test2, y_pred2))"
   ]
  },
  {
   "cell_type": "code",
   "execution_count": 199,
   "id": "cba07307",
   "metadata": {},
   "outputs": [
    {
     "data": {
      "image/png": "[encoded data removed]",
      "text/plain": [
       "<Figure size 432x288 with 1 Axes>"
      ]
     },
     "metadata": {},
     "output_type": "display_data"
    }
   ],
   "source": [
    "sns.heatmap(cm_mlp2, annot=True, fmt='g', cbar=False)\n",
    "plt.xlabel('Predicted Values')\n",
    "plt.ylabel('Actual Values')\n",
    "plt.title('MLP Confusion Matrix')\n",
    "plt.show()"
   ]
  },
  {
   "cell_type": "code",
   "execution_count": null,
   "id": "2a5809ea",
   "metadata": {},
   "outputs": [],
   "source": []
  }
 ],
 "metadata": {
  "kernelspec": {
   "display_name": "Python 3 (ipykernel)",
   "language": "python",
   "name": "python3"
  },
  "language_info": {
   "codemirror_mode": {
    "name": "ipython",
    "version": 3
   },
   "file_extension": ".py",
   "mimetype": "text/x-python",
   "name": "python",
   "nbconvert_exporter": "python",
   "pygments_lexer": "ipython3",
   "version": "3.9.7"
  }
 },
 "nbformat": 4,
 "nbformat_minor": 5
}
